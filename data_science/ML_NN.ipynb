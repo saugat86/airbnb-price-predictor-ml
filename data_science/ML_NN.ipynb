{
 "nbformat": 4,
 "nbformat_minor": 0,
 "metadata": {
  "colab": {
   "provenance": [
    {
     "file_id": "1rXK5Iw5IIfMbMy5EEnbThgoRnH0OYdHR",
     "timestamp": 1667123568857
    }
   ],
   "collapsed_sections": []
  },
  "kernelspec": {
   "name": "python3",
   "display_name": "Python 3"
  },
  "language_info": {
   "name": "python"
  },
  "accelerator": "GPU",
  "gpuClass": "standard"
 },
 "cells": [
  {
   "cell_type": "markdown",
   "source": [
    "# Neural Network models"
   ],
   "metadata": {
    "id": "te15X4jhsqEp"
   }
  },
  {
   "cell_type": "code",
   "source": [
    "!pip install tensorflow"
   ],
   "metadata": {
    "id": "r3OvSOMIVaub",
    "colab": {
     "base_uri": "https://localhost:8080/"
    },
    "executionInfo": {
     "status": "ok",
     "timestamp": 1667426127093,
     "user_tz": -120,
     "elapsed": 3500,
     "user": {
      "displayName": "Τζενη Τσομπαναι",
      "userId": "16239050285647842336"
     }
    },
    "outputId": "63c57b66-4bcf-4cd5-96a6-03b33b6d2eff"
   },
   "execution_count": 1,
   "outputs": [
    {
     "output_type": "stream",
     "name": "stdout",
     "text": [
      "Looking in indexes: https://pypi.org/simple, https://us-python.pkg.dev/colab-wheels/public/simple/\n",
      "Requirement already satisfied: tensorflow in /usr/local/lib/python3.7/dist-packages (2.9.2)\n",
      "Requirement already satisfied: packaging in /usr/local/lib/python3.7/dist-packages (from tensorflow) (21.3)\n",
      "Requirement already satisfied: gast<=0.4.0,>=0.2.1 in /usr/local/lib/python3.7/dist-packages (from tensorflow) (0.4.0)\n",
      "Requirement already satisfied: libclang>=13.0.0 in /usr/local/lib/python3.7/dist-packages (from tensorflow) (14.0.6)\n",
      "Requirement already satisfied: termcolor>=1.1.0 in /usr/local/lib/python3.7/dist-packages (from tensorflow) (2.0.1)\n",
      "Requirement already satisfied: keras-preprocessing>=1.1.1 in /usr/local/lib/python3.7/dist-packages (from tensorflow) (1.1.2)\n",
      "Requirement already satisfied: tensorboard<2.10,>=2.9 in /usr/local/lib/python3.7/dist-packages (from tensorflow) (2.9.1)\n",
      "Requirement already satisfied: astunparse>=1.6.0 in /usr/local/lib/python3.7/dist-packages (from tensorflow) (1.6.3)\n",
      "Requirement already satisfied: opt-einsum>=2.3.2 in /usr/local/lib/python3.7/dist-packages (from tensorflow) (3.3.0)\n",
      "Requirement already satisfied: protobuf<3.20,>=3.9.2 in /usr/local/lib/python3.7/dist-packages (from tensorflow) (3.17.3)\n",
      "Requirement already satisfied: h5py>=2.9.0 in /usr/local/lib/python3.7/dist-packages (from tensorflow) (3.1.0)\n",
      "Requirement already satisfied: grpcio<2.0,>=1.24.3 in /usr/local/lib/python3.7/dist-packages (from tensorflow) (1.50.0)\n",
      "Requirement already satisfied: keras<2.10.0,>=2.9.0rc0 in /usr/local/lib/python3.7/dist-packages (from tensorflow) (2.9.0)\n",
      "Requirement already satisfied: tensorflow-io-gcs-filesystem>=0.23.1 in /usr/local/lib/python3.7/dist-packages (from tensorflow) (0.27.0)\n",
      "Requirement already satisfied: numpy>=1.20 in /usr/local/lib/python3.7/dist-packages (from tensorflow) (1.21.6)\n",
      "Requirement already satisfied: six>=1.12.0 in /usr/local/lib/python3.7/dist-packages (from tensorflow) (1.15.0)\n",
      "Requirement already satisfied: typing-extensions>=3.6.6 in /usr/local/lib/python3.7/dist-packages (from tensorflow) (4.1.1)\n",
      "Requirement already satisfied: wrapt>=1.11.0 in /usr/local/lib/python3.7/dist-packages (from tensorflow) (1.14.1)\n",
      "Requirement already satisfied: setuptools in /usr/local/lib/python3.7/dist-packages (from tensorflow) (57.4.0)\n",
      "Requirement already satisfied: absl-py>=1.0.0 in /usr/local/lib/python3.7/dist-packages (from tensorflow) (1.3.0)\n",
      "Requirement already satisfied: tensorflow-estimator<2.10.0,>=2.9.0rc0 in /usr/local/lib/python3.7/dist-packages (from tensorflow) (2.9.0)\n",
      "Requirement already satisfied: google-pasta>=0.1.1 in /usr/local/lib/python3.7/dist-packages (from tensorflow) (0.2.0)\n",
      "Requirement already satisfied: flatbuffers<2,>=1.12 in /usr/local/lib/python3.7/dist-packages (from tensorflow) (1.12)\n",
      "Requirement already satisfied: wheel<1.0,>=0.23.0 in /usr/local/lib/python3.7/dist-packages (from astunparse>=1.6.0->tensorflow) (0.37.1)\n",
      "Requirement already satisfied: cached-property in /usr/local/lib/python3.7/dist-packages (from h5py>=2.9.0->tensorflow) (1.5.2)\n",
      "Requirement already satisfied: google-auth-oauthlib<0.5,>=0.4.1 in /usr/local/lib/python3.7/dist-packages (from tensorboard<2.10,>=2.9->tensorflow) (0.4.6)\n",
      "Requirement already satisfied: requests<3,>=2.21.0 in /usr/local/lib/python3.7/dist-packages (from tensorboard<2.10,>=2.9->tensorflow) (2.23.0)\n",
      "Requirement already satisfied: tensorboard-data-server<0.7.0,>=0.6.0 in /usr/local/lib/python3.7/dist-packages (from tensorboard<2.10,>=2.9->tensorflow) (0.6.1)\n",
      "Requirement already satisfied: tensorboard-plugin-wit>=1.6.0 in /usr/local/lib/python3.7/dist-packages (from tensorboard<2.10,>=2.9->tensorflow) (1.8.1)\n",
      "Requirement already satisfied: google-auth<3,>=1.6.3 in /usr/local/lib/python3.7/dist-packages (from tensorboard<2.10,>=2.9->tensorflow) (1.35.0)\n",
      "Requirement already satisfied: werkzeug>=1.0.1 in /usr/local/lib/python3.7/dist-packages (from tensorboard<2.10,>=2.9->tensorflow) (1.0.1)\n",
      "Requirement already satisfied: markdown>=2.6.8 in /usr/local/lib/python3.7/dist-packages (from tensorboard<2.10,>=2.9->tensorflow) (3.4.1)\n",
      "Requirement already satisfied: pyasn1-modules>=0.2.1 in /usr/local/lib/python3.7/dist-packages (from google-auth<3,>=1.6.3->tensorboard<2.10,>=2.9->tensorflow) (0.2.8)\n",
      "Requirement already satisfied: cachetools<5.0,>=2.0.0 in /usr/local/lib/python3.7/dist-packages (from google-auth<3,>=1.6.3->tensorboard<2.10,>=2.9->tensorflow) (4.2.4)\n",
      "Requirement already satisfied: rsa<5,>=3.1.4 in /usr/local/lib/python3.7/dist-packages (from google-auth<3,>=1.6.3->tensorboard<2.10,>=2.9->tensorflow) (4.9)\n",
      "Requirement already satisfied: requests-oauthlib>=0.7.0 in /usr/local/lib/python3.7/dist-packages (from google-auth-oauthlib<0.5,>=0.4.1->tensorboard<2.10,>=2.9->tensorflow) (1.3.1)\n",
      "Requirement already satisfied: importlib-metadata>=4.4 in /usr/local/lib/python3.7/dist-packages (from markdown>=2.6.8->tensorboard<2.10,>=2.9->tensorflow) (4.13.0)\n",
      "Requirement already satisfied: zipp>=0.5 in /usr/local/lib/python3.7/dist-packages (from importlib-metadata>=4.4->markdown>=2.6.8->tensorboard<2.10,>=2.9->tensorflow) (3.10.0)\n",
      "Requirement already satisfied: pyasn1<0.5.0,>=0.4.6 in /usr/local/lib/python3.7/dist-packages (from pyasn1-modules>=0.2.1->google-auth<3,>=1.6.3->tensorboard<2.10,>=2.9->tensorflow) (0.4.8)\n",
      "Requirement already satisfied: urllib3!=1.25.0,!=1.25.1,<1.26,>=1.21.1 in /usr/local/lib/python3.7/dist-packages (from requests<3,>=2.21.0->tensorboard<2.10,>=2.9->tensorflow) (1.24.3)\n",
      "Requirement already satisfied: idna<3,>=2.5 in /usr/local/lib/python3.7/dist-packages (from requests<3,>=2.21.0->tensorboard<2.10,>=2.9->tensorflow) (2.10)\n",
      "Requirement already satisfied: certifi>=2017.4.17 in /usr/local/lib/python3.7/dist-packages (from requests<3,>=2.21.0->tensorboard<2.10,>=2.9->tensorflow) (2022.9.24)\n",
      "Requirement already satisfied: chardet<4,>=3.0.2 in /usr/local/lib/python3.7/dist-packages (from requests<3,>=2.21.0->tensorboard<2.10,>=2.9->tensorflow) (3.0.4)\n",
      "Requirement already satisfied: oauthlib>=3.0.0 in /usr/local/lib/python3.7/dist-packages (from requests-oauthlib>=0.7.0->google-auth-oauthlib<0.5,>=0.4.1->tensorboard<2.10,>=2.9->tensorflow) (3.2.2)\n",
      "Requirement already satisfied: pyparsing!=3.0.5,>=2.0.2 in /usr/local/lib/python3.7/dist-packages (from packaging->tensorflow) (3.0.9)\n"
     ]
    }
   ]
  },
  {
   "cell_type": "code",
   "execution_count": 2,
   "metadata": {
    "id": "9lveNhhpPBW7",
    "executionInfo": {
     "status": "ok",
     "timestamp": 1667426130704,
     "user_tz": -120,
     "elapsed": 3623,
     "user": {
      "displayName": "Τζενη Τσομπαναι",
      "userId": "16239050285647842336"
     }
    }
   },
   "outputs": [],
   "source": [
    "# importing relevant libraries\n",
    "import pandas as pd\n",
    "import numpy as np\n",
    "import matplotlib.pyplot as plt\n",
    "import seaborn as sns\n",
    "from collections import Counter\n",
    "from IPython.display import Image\n",
    "from IPython.core.display import HTML\n",
    "import seaborn as sns\n",
    "\n",
    "%matplotlib inline\n",
    "import statsmodels.api as sm\n",
    "import statsmodels.formula.api as smf\n",
    "from sklearn.model_selection import train_test_split\n",
    "from sklearn.linear_model import lars_path\n",
    "import scipy.stats as stats\n",
    "import re\n",
    "import itertools\n",
    "import string\n",
    "import collections\n",
    "from collections import Counter\n",
    "from sklearn.metrics import accuracy_score, confusion_matrix, mean_absolute_error\n",
    "from sklearn import preprocessing\n",
    "from sklearn import (\n",
    "    model_selection,\n",
    "    feature_selection,\n",
    "    ensemble,\n",
    "    linear_model,\n",
    "    metrics,\n",
    "    decomposition,\n",
    ")\n",
    "from keras.models import Sequential\n",
    "from keras.layers import Dense, Activation\n",
    "from keras.layers import LSTM\n",
    "from sklearn.preprocessing import MinMaxScaler\n",
    "from sklearn.metrics import mean_squared_error\n",
    "import math\n",
    "import tensorflow as tf\n",
    "from tensorflow.keras import Model\n",
    "from tensorflow.keras import Sequential\n",
    "from tensorflow.keras.optimizers import Adam\n",
    "from sklearn.preprocessing import StandardScaler\n",
    "from tensorflow.keras.layers import Dense, Dropout\n",
    "from tensorflow.keras.losses import MeanAbsoluteError\n",
    "from tensorflow.keras.utils import plot_model\n",
    "from tensorflow.python.keras.callbacks import (\n",
    "    ModelCheckpoint,\n",
    "    ReduceLROnPlateau,\n",
    "    EarlyStopping,\n",
    "    TensorBoard,\n",
    ")\n",
    "from keras import models, layers, optimizers, regularizers"
   ]
  },
  {
   "cell_type": "code",
   "source": [
    "from google.colab import drive\n",
    "\n",
    "drive.mount(\"/content/drive\")"
   ],
   "metadata": {
    "colab": {
     "base_uri": "https://localhost:8080/"
    },
    "id": "lR8MH3gWPIa7",
    "outputId": "fd31b824-505d-46d7-a575-5db5f14c21b4",
    "executionInfo": {
     "status": "ok",
     "timestamp": 1667427058159,
     "user_tz": -120,
     "elapsed": 927477,
     "user": {
      "displayName": "Τζενη Τσομπαναι",
      "userId": "16239050285647842336"
     }
    }
   },
   "execution_count": 3,
   "outputs": [
    {
     "output_type": "stream",
     "name": "stdout",
     "text": [
      "Mounted at /content/drive\n"
     ]
    }
   ]
  },
  {
   "cell_type": "markdown",
   "source": [
    "## Reading Data"
   ],
   "metadata": {
    "id": "Da4e7iXf36eD"
   }
  },
  {
   "cell_type": "code",
   "source": [
    "x_train = pd.read_csv(\"/content/drive/MyDrive/x_train.csv\", header=0).iloc[:, 1:]\n",
    "x_test = pd.read_csv(\"/content/drive/MyDrive/x_test.csv\", header=0).iloc[:, 1:]\n",
    "y_train = pd.read_csv(\"/content/drive/MyDrive/y_train.csv\", header=0).iloc[:, 1:]\n",
    "y_test = pd.read_csv(\"/content/drive/MyDrive/y_test.csv\", header=0).iloc[:, 1:]"
   ],
   "metadata": {
    "id": "mX2biVd9VHER",
    "executionInfo": {
     "status": "ok",
     "timestamp": 1667427061734,
     "user_tz": -120,
     "elapsed": 3593,
     "user": {
      "displayName": "Τζενη Τσομπαναι",
      "userId": "16239050285647842336"
     }
    }
   },
   "execution_count": 4,
   "outputs": []
  },
  {
   "cell_type": "markdown",
   "source": [
    "## Callbacks"
   ],
   "metadata": {
    "id": "WgkQUit_1u4Z"
   }
  },
  {
   "cell_type": "code",
   "source": [
    "monitor = \"val_loss\"\n",
    "\n",
    "model_fname = \"model.h5\"\n",
    "\n",
    "callbacks = [\n",
    "    # Stop training when a monitored quantity has stopped improving.\n",
    "    EarlyStopping(monitor=monitor, patience=5, verbose=1, restore_best_weights=True),\n",
    "    # Save the model after every epoch of the monitor quantity improves\n",
    "    ModelCheckpoint(\n",
    "        filepath=model_fname,\n",
    "        monitor=monitor,\n",
    "        save_best_only=True,\n",
    "        save_weights_only=False,\n",
    "        verbose=1,\n",
    "    ),\n",
    "    # Reduce learning rate when a metric has stopped improving\n",
    "    ReduceLROnPlateau(\n",
    "        monitor=monitor, factor=0.1, patience=3, verbose=1, restore_best_weights=True\n",
    "    ),\n",
    "]"
   ],
   "metadata": {
    "id": "A2czNlb8AO16",
    "executionInfo": {
     "status": "ok",
     "timestamp": 1667427061736,
     "user_tz": -120,
     "elapsed": 25,
     "user": {
      "displayName": "Τζενη Τσομπαναι",
      "userId": "16239050285647842336"
     }
    }
   },
   "execution_count": 5,
   "outputs": []
  },
  {
   "cell_type": "code",
   "source": [
    "def plot_keras_history(history):\n",
    "    \"\"\"\n",
    "\n",
    "    :param history:\n",
    "    :return:\n",
    "    \"\"\"\n",
    "    # the history object gives the metrics keys.\n",
    "    # we will store the metrics keys that are from the training sesion.\n",
    "    metrics_names = [\n",
    "        key for key in history.history.keys() if not key.startswith(\"val_\")\n",
    "    ]\n",
    "\n",
    "    for i, metric in enumerate(metrics_names):\n",
    "\n",
    "        # getting the training values\n",
    "        metric_train_values = history.history.get(metric, [])\n",
    "\n",
    "        # getting the validation values\n",
    "        metric_val_values = history.history.get(\"val_{}\".format(metric), [])\n",
    "\n",
    "        # As loss always exists as a metric we use it to find the\n",
    "        epochs = range(1, len(metric_train_values) + 1)\n",
    "\n",
    "        # leaving extra spaces to allign with the validation text\n",
    "        training_text = \"   Training {}: {:.5f}\".format(metric, metric_train_values[-1])\n",
    "\n",
    "        # metric\n",
    "        plt.figure(i, figsize=(12, 6))\n",
    "\n",
    "        plt.plot(epochs, metric_train_values, \"b\", label=training_text)\n",
    "\n",
    "        # if we validation metric exists, then plot that as well\n",
    "        if metric_val_values:\n",
    "            validation_text = \"Validation {}: {:.5f}\".format(\n",
    "                metric, metric_val_values[-1]\n",
    "            )\n",
    "\n",
    "            plt.plot(epochs, metric_val_values, \"g\", label=validation_text)\n",
    "\n",
    "        # add title, xlabel, ylabe, and legend\n",
    "        plt.title(\"Model Metric: {}\".format(metric))\n",
    "        plt.xlabel(\"Epochs\")\n",
    "        plt.ylabel(metric.title())\n",
    "        plt.legend()\n",
    "\n",
    "    plt.show()"
   ],
   "metadata": {
    "id": "cx6thlxFXVo7",
    "executionInfo": {
     "status": "ok",
     "timestamp": 1667427061737,
     "user_tz": -120,
     "elapsed": 19,
     "user": {
      "displayName": "Τζενη Τσομπαναι",
      "userId": "16239050285647842336"
     }
    }
   },
   "execution_count": 6,
   "outputs": []
  },
  {
   "cell_type": "markdown",
   "source": [
    "## Scaling Data"
   ],
   "metadata": {
    "id": "vt2NyPAv3gvs"
   }
  },
  {
   "cell_type": "code",
   "source": [
    "from sklearn.preprocessing import StandardScaler\n",
    "\n",
    "sc = StandardScaler()\n",
    "x_train = sc.fit_transform(x_train)\n",
    "x_test = sc.transform(x_test)"
   ],
   "metadata": {
    "id": "FKHxp2Sfo0L-",
    "executionInfo": {
     "status": "ok",
     "timestamp": 1667427061739,
     "user_tz": -120,
     "elapsed": 19,
     "user": {
      "displayName": "Τζενη Τσομπαναι",
      "userId": "16239050285647842336"
     }
    }
   },
   "execution_count": 7,
   "outputs": []
  },
  {
   "cell_type": "markdown",
   "source": [
    "#First Model"
   ],
   "metadata": {
    "id": "M1j486T_3-wA"
   }
  },
  {
   "cell_type": "code",
   "source": [
    "hidden_units1 = 32\n",
    "hidden_units2 = 32\n",
    "hidden_units3 = 64\n",
    "learning_rate = 0.01\n",
    "# Creating model using the Sequential in tensorflow\n",
    "def build_model_using_sequential():\n",
    "    model1 = Sequential(\n",
    "        [\n",
    "            Dense(hidden_units1, kernel_initializer=\"normal\", activation=\"relu\"),\n",
    "            Dropout(0.2),\n",
    "            Dense(hidden_units2, kernel_initializer=\"normal\", activation=\"relu\"),\n",
    "            Dropout(0.2),\n",
    "            Dense(hidden_units3, kernel_initializer=\"normal\", activation=\"relu\"),\n",
    "            Dense(1, kernel_initializer=\"normal\", activation=\"linear\"),\n",
    "        ]\n",
    "    )\n",
    "    return model1\n",
    "\n",
    "\n",
    "# build the model\n",
    "model1 = build_model_using_sequential()"
   ],
   "metadata": {
    "id": "RGaV-GOTc2mk",
    "executionInfo": {
     "status": "ok",
     "timestamp": 1667427064267,
     "user_tz": -120,
     "elapsed": 2544,
     "user": {
      "displayName": "Τζενη Τσομπαναι",
      "userId": "16239050285647842336"
     }
    }
   },
   "execution_count": 8,
   "outputs": []
  },
  {
   "cell_type": "code",
   "source": [
    "# loss function\n",
    "model1.compile(\n",
    "    loss=\"mean_squared_error\",\n",
    "    optimizer=Adam(learning_rate=learning_rate),\n",
    "    metrics=[\"mae\"],\n",
    ")\n",
    "# train the model\n",
    "history = model1.fit(\n",
    "    x_train,\n",
    "    y_train,\n",
    "    epochs=100,\n",
    "    batch_size=50,\n",
    "    validation_split=0.25,\n",
    "    callbacks=callbacks,\n",
    ")"
   ],
   "metadata": {
    "colab": {
     "base_uri": "https://localhost:8080/"
    },
    "id": "qnflXoYFdE-1",
    "executionInfo": {
     "status": "ok",
     "timestamp": 1667427073140,
     "user_tz": -120,
     "elapsed": 8896,
     "user": {
      "displayName": "Τζενη Τσομπαναι",
      "userId": "16239050285647842336"
     }
    },
    "outputId": "9533a34a-cf3a-4622-9322-310760cc01b3"
   },
   "execution_count": 9,
   "outputs": [
    {
     "output_type": "stream",
     "name": "stdout",
     "text": [
      "Epoch 1/100\n",
      "107/108 [============================>.] - ETA: 0s - loss: 1.9659 - mae: 0.9718\n",
      "Epoch 00001: val_loss improved from inf to 0.28891, saving model to model.h5\n",
      "108/108 [==============================] - 3s 5ms/step - loss: 1.9550 - mae: 0.9684 - val_loss: 0.2889 - val_mae: 0.3732 - lr: 0.0100\n",
      "Epoch 2/100\n",
      " 96/108 [=========================>....] - ETA: 0s - loss: 0.4443 - mae: 0.4819\n",
      "Epoch 00002: val_loss did not improve from 0.28891\n",
      "108/108 [==============================] - 0s 3ms/step - loss: 0.4385 - mae: 0.4781 - val_loss: 0.3485 - val_mae: 0.4189 - lr: 0.0100\n",
      "Epoch 3/100\n",
      " 95/108 [=========================>....] - ETA: 0s - loss: 0.3770 - mae: 0.4342\n",
      "Epoch 00003: val_loss improved from 0.28891 to 0.27701, saving model to model.h5\n",
      "108/108 [==============================] - 0s 4ms/step - loss: 0.3657 - mae: 0.4290 - val_loss: 0.2770 - val_mae: 0.3716 - lr: 0.0100\n",
      "Epoch 4/100\n",
      " 93/108 [========================>.....] - ETA: 0s - loss: 0.3850 - mae: 0.4230\n",
      "Epoch 00004: val_loss improved from 0.27701 to 0.26202, saving model to model.h5\n",
      "108/108 [==============================] - 0s 4ms/step - loss: 0.3882 - mae: 0.4293 - val_loss: 0.2620 - val_mae: 0.3579 - lr: 0.0100\n",
      "Epoch 5/100\n",
      " 95/108 [=========================>....] - ETA: 0s - loss: 0.3248 - mae: 0.3983\n",
      "Epoch 00005: val_loss improved from 0.26202 to 0.25557, saving model to model.h5\n",
      "108/108 [==============================] - 0s 4ms/step - loss: 0.3211 - mae: 0.3950 - val_loss: 0.2556 - val_mae: 0.3512 - lr: 0.0100\n",
      "Epoch 6/100\n",
      " 93/108 [========================>.....] - ETA: 0s - loss: 0.2947 - mae: 0.3767\n",
      "Epoch 00006: val_loss did not improve from 0.25557\n",
      "108/108 [==============================] - 0s 4ms/step - loss: 0.3016 - mae: 0.3787 - val_loss: 0.2846 - val_mae: 0.3866 - lr: 0.0100\n",
      "Epoch 7/100\n",
      " 91/108 [========================>.....] - ETA: 0s - loss: 0.2951 - mae: 0.3744\n",
      "Epoch 00007: val_loss did not improve from 0.25557\n",
      "108/108 [==============================] - 0s 3ms/step - loss: 0.2955 - mae: 0.3726 - val_loss: 0.2621 - val_mae: 0.3532 - lr: 0.0100\n",
      "Epoch 8/100\n",
      " 91/108 [========================>.....] - ETA: 0s - loss: 0.2975 - mae: 0.3776\n",
      "Epoch 00008: val_loss did not improve from 0.25557\n",
      "\n",
      "Epoch 00008: ReduceLROnPlateau reducing learning rate to 0.0009999999776482583.\n",
      "108/108 [==============================] - 0s 4ms/step - loss: 0.2943 - mae: 0.3771 - val_loss: 0.2563 - val_mae: 0.3469 - lr: 0.0100\n",
      "Epoch 9/100\n",
      " 95/108 [=========================>....] - ETA: 0s - loss: 0.2859 - mae: 0.3605\n",
      "Epoch 00009: val_loss improved from 0.25557 to 0.24697, saving model to model.h5\n",
      "108/108 [==============================] - 0s 4ms/step - loss: 0.2767 - mae: 0.3565 - val_loss: 0.2470 - val_mae: 0.3438 - lr: 1.0000e-03\n",
      "Epoch 10/100\n",
      " 91/108 [========================>.....] - ETA: 0s - loss: 0.2438 - mae: 0.3434\n",
      "Epoch 00010: val_loss did not improve from 0.24697\n",
      "108/108 [==============================] - 0s 4ms/step - loss: 0.2589 - mae: 0.3479 - val_loss: 0.2535 - val_mae: 0.3509 - lr: 1.0000e-03\n",
      "Epoch 11/100\n",
      " 92/108 [========================>.....] - ETA: 0s - loss: 0.2556 - mae: 0.3475\n",
      "Epoch 00011: val_loss did not improve from 0.24697\n",
      "108/108 [==============================] - 0s 4ms/step - loss: 0.2584 - mae: 0.3500 - val_loss: 0.2506 - val_mae: 0.3444 - lr: 1.0000e-03\n",
      "Epoch 12/100\n",
      "104/108 [===========================>..] - ETA: 0s - loss: 0.2589 - mae: 0.3478\n",
      "Epoch 00012: val_loss did not improve from 0.24697\n",
      "\n",
      "Epoch 00012: ReduceLROnPlateau reducing learning rate to 9.999999310821295e-05.\n",
      "108/108 [==============================] - 0s 5ms/step - loss: 0.2598 - mae: 0.3481 - val_loss: 0.2496 - val_mae: 0.3394 - lr: 1.0000e-03\n",
      "Epoch 13/100\n",
      "106/108 [============================>.] - ETA: 0s - loss: 0.2502 - mae: 0.3414\n",
      "Epoch 00013: val_loss did not improve from 0.24697\n",
      "108/108 [==============================] - 0s 4ms/step - loss: 0.2532 - mae: 0.3428 - val_loss: 0.2500 - val_mae: 0.3432 - lr: 1.0000e-04\n",
      "Epoch 14/100\n",
      " 92/108 [========================>.....] - ETA: 0s - loss: 0.2551 - mae: 0.3446Restoring model weights from the end of the best epoch.\n",
      "\n",
      "Epoch 00014: val_loss did not improve from 0.24697\n",
      "108/108 [==============================] - 0s 4ms/step - loss: 0.2534 - mae: 0.3441 - val_loss: 0.2508 - val_mae: 0.3450 - lr: 1.0000e-04\n",
      "Epoch 00014: early stopping\n"
     ]
    }
   ]
  },
  {
   "cell_type": "code",
   "source": [
    "plot_model(model1, show_shapes=True)"
   ],
   "metadata": {
    "colab": {
     "base_uri": "https://localhost:8080/",
     "height": 754
    },
    "id": "5z2mKMkewcb1",
    "executionInfo": {
     "status": "ok",
     "timestamp": 1667427073141,
     "user_tz": -120,
     "elapsed": 42,
     "user": {
      "displayName": "Τζενη Τσομπαναι",
      "userId": "16239050285647842336"
     }
    },
    "outputId": "1cb02131-1b07-44eb-eb41-c8ff96df597e"
   },
   "execution_count": 10,
   "outputs": [
    {
     "output_type": "execute_result",
     "data": {
      "image/png": "[encoded data removed]",
      "text/plain": [
       "<IPython.core.display.Image object>"
      ]
     },
     "metadata": {},
     "execution_count": 10
    }
   ]
  },
  {
   "cell_type": "code",
   "source": [
    "pred1 = model1.predict(x_test)"
   ],
   "metadata": {
    "colab": {
     "base_uri": "https://localhost:8080/"
    },
    "id": "i9OpPYpPeIBb",
    "executionInfo": {
     "status": "ok",
     "timestamp": 1667427073968,
     "user_tz": -120,
     "elapsed": 836,
     "user": {
      "displayName": "Τζενη Τσομπαναι",
      "userId": "16239050285647842336"
     }
    },
    "outputId": "0bf9dc02-c6f4-456f-c9a1-f36ab957fb70"
   },
   "execution_count": 11,
   "outputs": [
    {
     "output_type": "stream",
     "name": "stdout",
     "text": [
      "57/57 [==============================] - 0s 2ms/step\n"
     ]
    }
   ]
  },
  {
   "cell_type": "code",
   "source": [
    "list_pred1 = [x[0] for x in pred1.tolist()]"
   ],
   "metadata": {
    "id": "weCDjH-qeLrD",
    "executionInfo": {
     "status": "ok",
     "timestamp": 1667427073968,
     "user_tz": -120,
     "elapsed": 49,
     "user": {
      "displayName": "Τζενη Τσομπαναι",
      "userId": "16239050285647842336"
     }
    }
   },
   "execution_count": 12,
   "outputs": []
  },
  {
   "cell_type": "code",
   "source": [
    "list_y1 = [x[0] for x in y_test.values.tolist()]"
   ],
   "metadata": {
    "id": "knN9S7qIeblM",
    "executionInfo": {
     "status": "ok",
     "timestamp": 1667427073969,
     "user_tz": -120,
     "elapsed": 48,
     "user": {
      "displayName": "Τζενη Τσομπαναι",
      "userId": "16239050285647842336"
     }
    }
   },
   "execution_count": 13,
   "outputs": []
  },
  {
   "cell_type": "markdown",
   "source": [
    "## Function to compute the mean absolute error of price"
   ],
   "metadata": {
    "id": "FhuAzVgFmFlO"
   }
  },
  {
   "cell_type": "code",
   "source": [
    "def mae(y, yhat):\n",
    "    sum = 0\n",
    "    for i in range(len(y)):\n",
    "        sum += np.abs(2.7183 ** y[i] - 2.7183 ** yhat[i])\n",
    "    r = sum / len(y)\n",
    "    return r"
   ],
   "metadata": {
    "id": "UyiDG3gHd5Cq",
    "executionInfo": {
     "status": "ok",
     "timestamp": 1667427073969,
     "user_tz": -120,
     "elapsed": 47,
     "user": {
      "displayName": "Τζενη Τσομπαναι",
      "userId": "16239050285647842336"
     }
    }
   },
   "execution_count": 14,
   "outputs": []
  },
  {
   "cell_type": "markdown",
   "source": [
    "## Function to compute the mean absolute percentage error of log price"
   ],
   "metadata": {
    "id": "GVGXzjHS1n7V"
   }
  },
  {
   "cell_type": "code",
   "source": [
    "def mape(y, yhat):\n",
    "    MAPE = 0\n",
    "    for i in range(len(y)):\n",
    "        MAPE += np.abs(2.7183 ** y[i] - 2.7183 ** yhat[i]) / 2.7183 ** y[i]\n",
    "\n",
    "    v = 100 * MAPE / len(y)\n",
    "    return v"
   ],
   "metadata": {
    "id": "Y222xAUs0a3J",
    "executionInfo": {
     "status": "ok",
     "timestamp": 1667427073970,
     "user_tz": -120,
     "elapsed": 46,
     "user": {
      "displayName": "Τζενη Τσομπαναι",
      "userId": "16239050285647842336"
     }
    }
   },
   "execution_count": 15,
   "outputs": []
  },
  {
   "cell_type": "markdown",
   "source": [
    "###MAE:"
   ],
   "metadata": {
    "id": "Y3xuiaqI3Yoq"
   }
  },
  {
   "cell_type": "code",
   "source": [
    "mae(list_y1, list_pred1)"
   ],
   "metadata": {
    "colab": {
     "base_uri": "https://localhost:8080/"
    },
    "id": "e67KYswrer4d",
    "executionInfo": {
     "status": "ok",
     "timestamp": 1667427073970,
     "user_tz": -120,
     "elapsed": 44,
     "user": {
      "displayName": "Τζενη Τσομπαναι",
      "userId": "16239050285647842336"
     }
    },
    "outputId": "a68d0e13-d19b-4021-fcfd-e27e8f47a9a6"
   },
   "execution_count": 16,
   "outputs": [
    {
     "output_type": "execute_result",
     "data": {
      "text/plain": [
       "27.19350620518628"
      ]
     },
     "metadata": {},
     "execution_count": 16
    }
   ]
  },
  {
   "cell_type": "markdown",
   "source": [
    "###MAPE"
   ],
   "metadata": {
    "id": "Z0IvrYm83bgi"
   }
  },
  {
   "cell_type": "code",
   "source": [
    "mape(list_y1, list_pred1)"
   ],
   "metadata": {
    "colab": {
     "base_uri": "https://localhost:8080/"
    },
    "id": "2MxLy9LU1Y7K",
    "executionInfo": {
     "status": "ok",
     "timestamp": 1667427073970,
     "user_tz": -120,
     "elapsed": 36,
     "user": {
      "displayName": "Τζενη Τσομπαναι",
      "userId": "16239050285647842336"
     }
    },
    "outputId": "e873defc-c7f6-42e5-eb36-9f6311d8ec31"
   },
   "execution_count": 17,
   "outputs": [
    {
     "output_type": "execute_result",
     "data": {
      "text/plain": [
       "34.82534862030621"
      ]
     },
     "metadata": {},
     "execution_count": 17
    }
   ]
  },
  {
   "cell_type": "code",
   "source": [
    "plot_keras_history(history)"
   ],
   "metadata": {
    "colab": {
     "base_uri": "https://localhost:8080/",
     "height": 1000
    },
    "id": "sBDpQuaWv0mX",
    "executionInfo": {
     "status": "ok",
     "timestamp": 1667427073971,
     "user_tz": -120,
     "elapsed": 31,
     "user": {
      "displayName": "Τζενη Τσομπαναι",
      "userId": "16239050285647842336"
     }
    },
    "outputId": "a9310644-4853-4150-d9ba-4c337fc08931"
   },
   "execution_count": 18,
   "outputs": [
    {
     "output_type": "display_data",
     "data": {
      "text/plain": [
       "<Figure size 864x432 with 1 Axes>"
      ],
      "image/png": "[encoded data removed]"
     },
     "metadata": {
      "needs_background": "light"
     }
    },
    {
     "output_type": "display_data",
     "data": {
      "text/plain": [
       "<Figure size 864x432 with 1 Axes>"
      ],
      "image/png": "[encoded data removed]"
     },
     "metadata": {
      "needs_background": "light"
     }
    },
    {
     "output_type": "display_data",
     "data": {
      "text/plain": [
       "<Figure size 864x432 with 1 Axes>"
      ],
      "image/png": "[encoded data removed]"
     },
     "metadata": {
      "needs_background": "light"
     }
    }
   ]
  },
  {
   "cell_type": "markdown",
   "source": [
    "# Second Model"
   ],
   "metadata": {
    "id": "xOl4GrJDfor_"
   }
  },
  {
   "cell_type": "code",
   "source": [
    "# Building the model\n",
    "model2 = models.Sequential()\n",
    "model2.add(\n",
    "    layers.Dense(\n",
    "        32,\n",
    "        input_shape=(x_train.shape[1],),\n",
    "        kernel_regularizer=regularizers.l1(0.005),\n",
    "        activation=\"relu\",\n",
    "    )\n",
    ")\n",
    "model2.add(\n",
    "    layers.Dense(32, kernel_regularizer=regularizers.l1(0.005), activation=\"relu\")\n",
    ")\n",
    "model2.add(\n",
    "    layers.Dense(64, kernel_regularizer=regularizers.l1(0.005), activation=\"relu\")\n",
    ")\n",
    "model2.add(\n",
    "    layers.Dense(128, kernel_regularizer=regularizers.l1(0.005), activation=\"relu\")\n",
    ")\n",
    "model2.add(layers.Dense(1, activation=\"linear\"))\n",
    "\n",
    "# Compiling the model\n",
    "model2.compile(\n",
    "    loss=\"mean_squared_error\", optimizer=\"adam\", metrics=[\"mean_squared_error\"]\n",
    ")\n",
    "\n",
    "# Model summary\n",
    "print(model2.summary())\n",
    "model2_history = model2.fit(\n",
    "    x_train,\n",
    "    y_train,\n",
    "    epochs=100,\n",
    "    batch_size=256,\n",
    "    validation_split=0.25,\n",
    "    callbacks=callbacks,\n",
    ")"
   ],
   "metadata": {
    "colab": {
     "base_uri": "https://localhost:8080/"
    },
    "id": "Ht1B6eijXwPp",
    "executionInfo": {
     "status": "ok",
     "timestamp": 1667427087422,
     "user_tz": -120,
     "elapsed": 13477,
     "user": {
      "displayName": "Τζενη Τσομπαναι",
      "userId": "16239050285647842336"
     }
    },
    "outputId": "c3c55cd8-188e-4972-e76d-7f59dc7aa5e5"
   },
   "execution_count": 19,
   "outputs": [
    {
     "output_type": "stream",
     "name": "stdout",
     "text": [
      "Model: \"sequential_1\"\n",
      "_________________________________________________________________\n",
      " Layer (type)                Output Shape              Param #   \n",
      "=================================================================\n",
      " dense_4 (Dense)             (None, 32)                2240      \n",
      "                                                                 \n",
      " dense_5 (Dense)             (None, 32)                1056      \n",
      "                                                                 \n",
      " dense_6 (Dense)             (None, 64)                2112      \n",
      "                                                                 \n",
      " dense_7 (Dense)             (None, 128)               8320      \n",
      "                                                                 \n",
      " dense_8 (Dense)             (None, 1)                 129       \n",
      "                                                                 \n",
      "=================================================================\n",
      "Total params: 13,857\n",
      "Trainable params: 13,857\n",
      "Non-trainable params: 0\n",
      "_________________________________________________________________\n",
      "None\n",
      "Epoch 1/100\n",
      "17/22 [======================>.......] - ETA: 0s - loss: 15.7567 - mean_squared_error: 8.8613  \n",
      "Epoch 00001: val_loss did not improve from 0.24697\n",
      "22/22 [==============================] - 1s 12ms/step - loss: 14.7204 - mean_squared_error: 7.8600 - val_loss: 10.3321 - val_mean_squared_error: 3.6909 - lr: 0.0010\n",
      "Epoch 2/100\n",
      "13/22 [================>.............] - ETA: 0s - loss: 9.3007 - mean_squared_error: 2.8050\n",
      "Epoch 00002: val_loss did not improve from 0.24697\n",
      "22/22 [==============================] - 0s 5ms/step - loss: 8.8422 - mean_squared_error: 2.4436 - val_loss: 7.4196 - val_mean_squared_error: 1.2985 - lr: 0.0010\n",
      "Epoch 3/100\n",
      "18/22 [=======================>......] - ETA: 0s - loss: 7.0904 - mean_squared_error: 1.1542\n",
      "Epoch 00003: val_loss did not improve from 0.24697\n",
      "22/22 [==============================] - 0s 5ms/step - loss: 6.9925 - mean_squared_error: 1.0904 - val_loss: 6.3598 - val_mean_squared_error: 0.7263 - lr: 0.0010\n",
      "Epoch 4/100\n",
      "16/22 [====================>.........] - ETA: 0s - loss: 6.2171 - mean_squared_error: 0.7448\n",
      "Epoch 00004: val_loss did not improve from 0.24697\n",
      "22/22 [==============================] - 0s 5ms/step - loss: 6.1270 - mean_squared_error: 0.7078 - val_loss: 5.7165 - val_mean_squared_error: 0.5498 - lr: 0.0010\n",
      "Epoch 5/100\n",
      "15/22 [===================>..........] - ETA: 0s - loss: 5.5739 - mean_squared_error: 0.5499\n",
      "Epoch 00005: val_loss did not improve from 0.24697\n",
      "22/22 [==============================] - 0s 5ms/step - loss: 5.5054 - mean_squared_error: 0.5408 - val_loss: 5.2122 - val_mean_squared_error: 0.4800 - lr: 0.0010\n",
      "Epoch 6/100\n",
      "17/22 [======================>.......] - ETA: 0s - loss: 5.0608 - mean_squared_error: 0.4736\n",
      "Epoch 00006: val_loss did not improve from 0.24697\n",
      "22/22 [==============================] - 0s 5ms/step - loss: 5.0194 - mean_squared_error: 0.4675 - val_loss: 4.7856 - val_mean_squared_error: 0.4394 - lr: 0.0010\n",
      "Epoch 7/100\n",
      "17/22 [======================>.......] - ETA: 0s - loss: 4.6406 - mean_squared_error: 0.4221\n",
      "Epoch 00007: val_loss did not improve from 0.24697\n",
      "22/22 [==============================] - 0s 5ms/step - loss: 4.6035 - mean_squared_error: 0.4158 - val_loss: 4.4148 - val_mean_squared_error: 0.4054 - lr: 0.0010\n",
      "Epoch 8/100\n",
      "17/22 [======================>.......] - ETA: 0s - loss: 4.2993 - mean_squared_error: 0.3954\n",
      "Epoch 00008: val_loss did not improve from 0.24697\n",
      "22/22 [==============================] - 0s 6ms/step - loss: 4.2602 - mean_squared_error: 0.3820 - val_loss: 4.1107 - val_mean_squared_error: 0.3800 - lr: 0.0010\n",
      "Epoch 9/100\n",
      "17/22 [======================>.......] - ETA: 0s - loss: 4.0100 - mean_squared_error: 0.3686\n",
      "Epoch 00009: val_loss did not improve from 0.24697\n",
      "22/22 [==============================] - 0s 5ms/step - loss: 3.9780 - mean_squared_error: 0.3585 - val_loss: 3.8548 - val_mean_squared_error: 0.3634 - lr: 0.0010\n",
      "Epoch 10/100\n",
      "18/22 [=======================>......] - ETA: 0s - loss: 3.7491 - mean_squared_error: 0.3409\n",
      "Epoch 00010: val_loss did not improve from 0.24697\n",
      "22/22 [==============================] - 0s 5ms/step - loss: 3.7353 - mean_squared_error: 0.3415 - val_loss: 3.6315 - val_mean_squared_error: 0.3502 - lr: 0.0010\n",
      "Epoch 11/100\n",
      "17/22 [======================>.......] - ETA: 0s - loss: 3.5320 - mean_squared_error: 0.3207\n",
      "Epoch 00011: val_loss did not improve from 0.24697\n",
      "22/22 [==============================] - 0s 5ms/step - loss: 3.5214 - mean_squared_error: 0.3272 - val_loss: 3.4350 - val_mean_squared_error: 0.3407 - lr: 0.0010\n",
      "Epoch 12/100\n",
      "18/22 [=======================>......] - ETA: 0s - loss: 3.3512 - mean_squared_error: 0.3239\n",
      "Epoch 00012: val_loss did not improve from 0.24697\n",
      "22/22 [==============================] - 0s 5ms/step - loss: 3.3299 - mean_squared_error: 0.3142 - val_loss: 3.2579 - val_mean_squared_error: 0.3325 - lr: 0.0010\n",
      "Epoch 13/100\n",
      "18/22 [=======================>......] - ETA: 0s - loss: 3.1813 - mean_squared_error: 0.3174\n",
      "Epoch 00013: val_loss did not improve from 0.24697\n",
      "22/22 [==============================] - 0s 5ms/step - loss: 3.1585 - mean_squared_error: 0.3054 - val_loss: 3.0936 - val_mean_squared_error: 0.3245 - lr: 0.0010\n",
      "Epoch 14/100\n",
      "18/22 [=======================>......] - ETA: 0s - loss: 3.0188 - mean_squared_error: 0.3050\n",
      "Epoch 00014: val_loss did not improve from 0.24697\n",
      "22/22 [==============================] - 0s 5ms/step - loss: 3.0049 - mean_squared_error: 0.3010 - val_loss: 2.9474 - val_mean_squared_error: 0.3203 - lr: 0.0010\n",
      "Epoch 15/100\n",
      "16/22 [====================>.........] - ETA: 0s - loss: 2.8808 - mean_squared_error: 0.2993\n",
      "Epoch 00015: val_loss did not improve from 0.24697\n",
      "22/22 [==============================] - 0s 5ms/step - loss: 2.8593 - mean_squared_error: 0.2932 - val_loss: 2.8129 - val_mean_squared_error: 0.3175 - lr: 0.0010\n",
      "Epoch 16/100\n",
      "16/22 [====================>.........] - ETA: 0s - loss: 2.7449 - mean_squared_error: 0.2915\n",
      "Epoch 00016: val_loss did not improve from 0.24697\n",
      "22/22 [==============================] - 0s 5ms/step - loss: 2.7325 - mean_squared_error: 0.2933 - val_loss: 2.6788 - val_mean_squared_error: 0.3086 - lr: 0.0010\n",
      "Epoch 17/100\n",
      "18/22 [=======================>......] - ETA: 0s - loss: 2.6144 - mean_squared_error: 0.2901\n",
      "Epoch 00017: val_loss did not improve from 0.24697\n",
      "22/22 [==============================] - 0s 5ms/step - loss: 2.6000 - mean_squared_error: 0.2836 - val_loss: 2.5564 - val_mean_squared_error: 0.3021 - lr: 0.0010\n",
      "Epoch 18/100\n",
      "17/22 [======================>.......] - ETA: 0s - loss: 2.4918 - mean_squared_error: 0.2765\n",
      "Epoch 00018: val_loss did not improve from 0.24697\n",
      "22/22 [==============================] - 0s 5ms/step - loss: 2.4868 - mean_squared_error: 0.2817 - val_loss: 2.4437 - val_mean_squared_error: 0.2982 - lr: 0.0010\n",
      "Epoch 19/100\n",
      "15/22 [===================>..........] - ETA: 0s - loss: 2.3921 - mean_squared_error: 0.2794\n",
      "Epoch 00019: val_loss did not improve from 0.24697\n",
      "22/22 [==============================] - 0s 5ms/step - loss: 2.3756 - mean_squared_error: 0.2769 - val_loss: 2.3521 - val_mean_squared_error: 0.3068 - lr: 0.0010\n",
      "Epoch 20/100\n",
      "18/22 [=======================>......] - ETA: 0s - loss: 2.2803 - mean_squared_error: 0.2734\n",
      "Epoch 00020: val_loss did not improve from 0.24697\n",
      "22/22 [==============================] - 0s 5ms/step - loss: 2.2761 - mean_squared_error: 0.2761 - val_loss: 2.2399 - val_mean_squared_error: 0.2925 - lr: 0.0010\n",
      "Epoch 21/100\n",
      "16/22 [====================>.........] - ETA: 0s - loss: 2.1728 - mean_squared_error: 0.2558\n",
      "Epoch 00021: val_loss did not improve from 0.24697\n",
      "22/22 [==============================] - 0s 5ms/step - loss: 2.1788 - mean_squared_error: 0.2722 - val_loss: 2.1487 - val_mean_squared_error: 0.2916 - lr: 0.0010\n",
      "Epoch 22/100\n",
      "14/22 [==================>...........] - ETA: 0s - loss: 2.1080 - mean_squared_error: 0.2757\n",
      "Epoch 00022: val_loss did not improve from 0.24697\n",
      "22/22 [==============================] - 0s 5ms/step - loss: 2.0897 - mean_squared_error: 0.2714 - val_loss: 2.0603 - val_mean_squared_error: 0.2885 - lr: 0.0010\n",
      "Epoch 23/100\n",
      "18/22 [=======================>......] - ETA: 0s - loss: 2.0080 - mean_squared_error: 0.2683\n",
      "Epoch 00023: val_loss did not improve from 0.24697\n",
      "22/22 [==============================] - 0s 5ms/step - loss: 1.9984 - mean_squared_error: 0.2645 - val_loss: 1.9704 - val_mean_squared_error: 0.2812 - lr: 0.0010\n",
      "Epoch 24/100\n",
      "18/22 [=======================>......] - ETA: 0s - loss: 1.9303 - mean_squared_error: 0.2694\n",
      "Epoch 00024: val_loss did not improve from 0.24697\n",
      "22/22 [==============================] - 0s 5ms/step - loss: 1.9200 - mean_squared_error: 0.2643 - val_loss: 1.9113 - val_mean_squared_error: 0.2942 - lr: 0.0010\n",
      "Epoch 25/100\n",
      "17/22 [======================>.......] - ETA: 0s - loss: 1.8484 - mean_squared_error: 0.2572\n",
      "Epoch 00025: val_loss did not improve from 0.24697\n",
      "22/22 [==============================] - 0s 5ms/step - loss: 1.8497 - mean_squared_error: 0.2652 - val_loss: 1.8217 - val_mean_squared_error: 0.2774 - lr: 0.0010\n",
      "Epoch 26/100\n",
      "18/22 [=======================>......] - ETA: 0s - loss: 1.7728 - mean_squared_error: 0.2553\n",
      "Epoch 00026: val_loss did not improve from 0.24697\n",
      "22/22 [==============================] - 0s 6ms/step - loss: 1.7742 - mean_squared_error: 0.2616 - val_loss: 1.7508 - val_mean_squared_error: 0.2755 - lr: 0.0010\n",
      "Epoch 27/100\n",
      "18/22 [=======================>......] - ETA: 0s - loss: 1.7085 - mean_squared_error: 0.2554\n",
      "Epoch 00027: val_loss did not improve from 0.24697\n",
      "22/22 [==============================] - 0s 5ms/step - loss: 1.7099 - mean_squared_error: 0.2610 - val_loss: 1.6913 - val_mean_squared_error: 0.2756 - lr: 0.0010\n",
      "Epoch 28/100\n",
      "18/22 [=======================>......] - ETA: 0s - loss: 1.6570 - mean_squared_error: 0.2644\n",
      "Epoch 00028: val_loss did not improve from 0.24697\n",
      "22/22 [==============================] - 0s 5ms/step - loss: 1.6479 - mean_squared_error: 0.2595 - val_loss: 1.6271 - val_mean_squared_error: 0.2714 - lr: 0.0010\n",
      "Epoch 29/100\n",
      "18/22 [=======================>......] - ETA: 0s - loss: 1.6054 - mean_squared_error: 0.2706\n",
      "Epoch 00029: val_loss did not improve from 0.24697\n",
      "22/22 [==============================] - 0s 5ms/step - loss: 1.5926 - mean_squared_error: 0.2616 - val_loss: 1.5692 - val_mean_squared_error: 0.2695 - lr: 0.0010\n",
      "Epoch 30/100\n",
      "18/22 [=======================>......] - ETA: 0s - loss: 1.5199 - mean_squared_error: 0.2407\n",
      "Epoch 00030: val_loss did not improve from 0.24697\n",
      "22/22 [==============================] - 0s 5ms/step - loss: 1.5341 - mean_squared_error: 0.2587 - val_loss: 1.5164 - val_mean_squared_error: 0.2692 - lr: 0.0010\n",
      "Epoch 31/100\n",
      "18/22 [=======================>......] - ETA: 0s - loss: 1.4712 - mean_squared_error: 0.2450\n",
      "Epoch 00031: val_loss did not improve from 0.24697\n",
      "22/22 [==============================] - 0s 5ms/step - loss: 1.4790 - mean_squared_error: 0.2566 - val_loss: 1.4607 - val_mean_squared_error: 0.2662 - lr: 0.0010\n",
      "Epoch 32/100\n",
      "18/22 [=======================>......] - ETA: 0s - loss: 1.4360 - mean_squared_error: 0.2596\n",
      "Epoch 00032: val_loss did not improve from 0.24697\n",
      "22/22 [==============================] - 0s 5ms/step - loss: 1.4298 - mean_squared_error: 0.2565 - val_loss: 1.4116 - val_mean_squared_error: 0.2647 - lr: 0.0010\n",
      "Epoch 33/100\n",
      "19/22 [========================>.....] - ETA: 0s - loss: 1.3922 - mean_squared_error: 0.2634\n",
      "Epoch 00033: val_loss did not improve from 0.24697\n",
      "22/22 [==============================] - 0s 5ms/step - loss: 1.3836 - mean_squared_error: 0.2570 - val_loss: 1.3633 - val_mean_squared_error: 0.2626 - lr: 0.0010\n",
      "Epoch 34/100\n",
      "18/22 [=======================>......] - ETA: 0s - loss: 1.3438 - mean_squared_error: 0.2598\n",
      "Epoch 00034: val_loss did not improve from 0.24697\n",
      "22/22 [==============================] - 0s 5ms/step - loss: 1.3366 - mean_squared_error: 0.2556 - val_loss: 1.3180 - val_mean_squared_error: 0.2610 - lr: 0.0010\n",
      "Epoch 35/100\n",
      "16/22 [====================>.........] - ETA: 0s - loss: 1.3040 - mean_squared_error: 0.2597\n",
      "Epoch 00035: val_loss did not improve from 0.24697\n",
      "22/22 [==============================] - 0s 5ms/step - loss: 1.2980 - mean_squared_error: 0.2584 - val_loss: 1.2807 - val_mean_squared_error: 0.2626 - lr: 0.0010\n",
      "Epoch 36/100\n",
      "18/22 [=======================>......] - ETA: 0s - loss: 1.2670 - mean_squared_error: 0.2631\n",
      "Epoch 00036: val_loss did not improve from 0.24697\n",
      "22/22 [==============================] - 0s 5ms/step - loss: 1.2610 - mean_squared_error: 0.2601 - val_loss: 1.2394 - val_mean_squared_error: 0.2603 - lr: 0.0010\n",
      "Epoch 37/100\n",
      "18/22 [=======================>......] - ETA: 0s - loss: 1.2273 - mean_squared_error: 0.2625\n",
      "Epoch 00037: val_loss did not improve from 0.24697\n",
      "22/22 [==============================] - 0s 5ms/step - loss: 1.2183 - mean_squared_error: 0.2561 - val_loss: 1.2002 - val_mean_squared_error: 0.2590 - lr: 0.0010\n",
      "Epoch 38/100\n",
      "17/22 [======================>.......] - ETA: 0s - loss: 1.1881 - mean_squared_error: 0.2587\n",
      "Epoch 00038: val_loss did not improve from 0.24697\n",
      "22/22 [==============================] - 0s 5ms/step - loss: 1.1830 - mean_squared_error: 0.2570 - val_loss: 1.1647 - val_mean_squared_error: 0.2581 - lr: 0.0010\n",
      "Epoch 39/100\n",
      "17/22 [======================>.......] - ETA: 0s - loss: 1.1678 - mean_squared_error: 0.2703\n",
      "Epoch 00039: val_loss did not improve from 0.24697\n",
      "22/22 [==============================] - 0s 5ms/step - loss: 1.1549 - mean_squared_error: 0.2605 - val_loss: 1.1443 - val_mean_squared_error: 0.2660 - lr: 0.0010\n",
      "Epoch 40/100\n",
      "17/22 [======================>.......] - ETA: 0s - loss: 1.1204 - mean_squared_error: 0.2559\n",
      "Epoch 00040: val_loss did not improve from 0.24697\n",
      "22/22 [==============================] - 0s 5ms/step - loss: 1.1209 - mean_squared_error: 0.2597 - val_loss: 1.1240 - val_mean_squared_error: 0.2748 - lr: 0.0010\n",
      "Epoch 41/100\n",
      "18/22 [=======================>......] - ETA: 0s - loss: 1.0991 - mean_squared_error: 0.2633\n",
      "Epoch 00041: val_loss did not improve from 0.24697\n",
      "22/22 [==============================] - 0s 5ms/step - loss: 1.0979 - mean_squared_error: 0.2647 - val_loss: 1.0673 - val_mean_squared_error: 0.2542 - lr: 0.0010\n",
      "Epoch 42/100\n",
      "17/22 [======================>.......] - ETA: 0s - loss: 1.0599 - mean_squared_error: 0.2561\n",
      "Epoch 00042: val_loss did not improve from 0.24697\n",
      "22/22 [==============================] - 0s 5ms/step - loss: 1.0599 - mean_squared_error: 0.2589 - val_loss: 1.0379 - val_mean_squared_error: 0.2538 - lr: 0.0010\n",
      "Epoch 43/100\n",
      "18/22 [=======================>......] - ETA: 0s - loss: 1.0216 - mean_squared_error: 0.2469\n",
      "Epoch 00043: val_loss did not improve from 0.24697\n",
      "22/22 [==============================] - 0s 5ms/step - loss: 1.0314 - mean_squared_error: 0.2587 - val_loss: 1.0198 - val_mean_squared_error: 0.2604 - lr: 0.0010\n",
      "Epoch 44/100\n",
      "17/22 [======================>.......] - ETA: 0s - loss: 1.0388 - mean_squared_error: 0.2833\n",
      "Epoch 00044: val_loss did not improve from 0.24697\n",
      "22/22 [==============================] - 0s 5ms/step - loss: 1.0237 - mean_squared_error: 0.2712 - val_loss: 0.9940 - val_mean_squared_error: 0.2591 - lr: 0.0010\n",
      "Epoch 45/100\n",
      "17/22 [======================>.......] - ETA: 0s - loss: 0.9846 - mean_squared_error: 0.2590\n",
      "Epoch 00045: val_loss did not improve from 0.24697\n",
      "22/22 [==============================] - 0s 5ms/step - loss: 0.9835 - mean_squared_error: 0.2604 - val_loss: 0.9638 - val_mean_squared_error: 0.2559 - lr: 0.0010\n",
      "Epoch 46/100\n",
      "17/22 [======================>.......] - ETA: 0s - loss: 0.9661 - mean_squared_error: 0.2660\n",
      "Epoch 00046: val_loss did not improve from 0.24697\n",
      "22/22 [==============================] - 0s 5ms/step - loss: 0.9565 - mean_squared_error: 0.2588 - val_loss: 0.9405 - val_mean_squared_error: 0.2570 - lr: 0.0010\n",
      "Epoch 47/100\n",
      "18/22 [=======================>......] - ETA: 0s - loss: 0.9310 - mean_squared_error: 0.2561\n",
      "Epoch 00047: val_loss did not improve from 0.24697\n",
      "22/22 [==============================] - 0s 5ms/step - loss: 0.9331 - mean_squared_error: 0.2600 - val_loss: 0.9135 - val_mean_squared_error: 0.2545 - lr: 0.0010\n",
      "Epoch 48/100\n",
      "14/22 [==================>...........] - ETA: 0s - loss: 0.9042 - mean_squared_error: 0.2513\n",
      "Epoch 00048: val_loss did not improve from 0.24697\n",
      "22/22 [==============================] - 0s 6ms/step - loss: 0.9072 - mean_squared_error: 0.2580 - val_loss: 0.8974 - val_mean_squared_error: 0.2592 - lr: 0.0010\n",
      "Epoch 49/100\n",
      "18/22 [=======================>......] - ETA: 0s - loss: 0.8881 - mean_squared_error: 0.2545\n",
      "Epoch 00049: val_loss did not improve from 0.24697\n",
      "22/22 [==============================] - 0s 5ms/step - loss: 0.8946 - mean_squared_error: 0.2628 - val_loss: 0.8757 - val_mean_squared_error: 0.2582 - lr: 0.0010\n",
      "Epoch 50/100\n",
      "18/22 [=======================>......] - ETA: 0s - loss: 0.8596 - mean_squared_error: 0.2505\n",
      "Epoch 00050: val_loss did not improve from 0.24697\n",
      "22/22 [==============================] - 0s 5ms/step - loss: 0.8664 - mean_squared_error: 0.2588 - val_loss: 0.8532 - val_mean_squared_error: 0.2581 - lr: 0.0010\n",
      "Epoch 51/100\n",
      "17/22 [======================>.......] - ETA: 0s - loss: 0.8393 - mean_squared_error: 0.2514\n",
      "Epoch 00051: val_loss did not improve from 0.24697\n",
      "22/22 [==============================] - 0s 5ms/step - loss: 0.8449 - mean_squared_error: 0.2588 - val_loss: 0.8353 - val_mean_squared_error: 0.2595 - lr: 0.0010\n",
      "Epoch 52/100\n",
      "17/22 [======================>.......] - ETA: 0s - loss: 0.8322 - mean_squared_error: 0.2646\n",
      "Epoch 00052: val_loss did not improve from 0.24697\n",
      "22/22 [==============================] - 0s 5ms/step - loss: 0.8249 - mean_squared_error: 0.2591 - val_loss: 0.8082 - val_mean_squared_error: 0.2539 - lr: 0.0010\n",
      "Epoch 53/100\n",
      "16/22 [====================>.........] - ETA: 0s - loss: 0.8016 - mean_squared_error: 0.2527\n",
      "Epoch 00053: val_loss did not improve from 0.24697\n",
      "22/22 [==============================] - 0s 5ms/step - loss: 0.8067 - mean_squared_error: 0.2601 - val_loss: 0.7921 - val_mean_squared_error: 0.2548 - lr: 0.0010\n",
      "Epoch 54/100\n",
      "17/22 [======================>.......] - ETA: 0s - loss: 0.7966 - mean_squared_error: 0.2660\n",
      "Epoch 00054: val_loss did not improve from 0.24697\n",
      "22/22 [==============================] - 0s 5ms/step - loss: 0.7888 - mean_squared_error: 0.2597 - val_loss: 0.7716 - val_mean_squared_error: 0.2528 - lr: 0.0010\n",
      "Epoch 55/100\n",
      "18/22 [=======================>......] - ETA: 0s - loss: 0.7738 - mean_squared_error: 0.2619\n",
      "Epoch 00055: val_loss did not improve from 0.24697\n",
      "22/22 [==============================] - 0s 5ms/step - loss: 0.7703 - mean_squared_error: 0.2597 - val_loss: 0.7562 - val_mean_squared_error: 0.2550 - lr: 0.0010\n",
      "Epoch 56/100\n",
      "18/22 [=======================>......] - ETA: 0s - loss: 0.7533 - mean_squared_error: 0.2574\n",
      "Epoch 00056: val_loss did not improve from 0.24697\n",
      "22/22 [==============================] - 0s 6ms/step - loss: 0.7545 - mean_squared_error: 0.2596 - val_loss: 0.7381 - val_mean_squared_error: 0.2527 - lr: 0.0010\n",
      "Epoch 57/100\n",
      "17/22 [======================>.......] - ETA: 0s - loss: 0.7402 - mean_squared_error: 0.2604\n",
      "Epoch 00057: val_loss did not improve from 0.24697\n",
      "22/22 [==============================] - 0s 5ms/step - loss: 0.7380 - mean_squared_error: 0.2598 - val_loss: 0.7212 - val_mean_squared_error: 0.2526 - lr: 0.0010\n",
      "Epoch 58/100\n",
      "17/22 [======================>.......] - ETA: 0s - loss: 0.7213 - mean_squared_error: 0.2576\n",
      "Epoch 00058: val_loss did not improve from 0.24697\n",
      "22/22 [==============================] - 0s 5ms/step - loss: 0.7226 - mean_squared_error: 0.2604 - val_loss: 0.7074 - val_mean_squared_error: 0.2536 - lr: 0.0010\n",
      "Epoch 59/100\n",
      "17/22 [======================>.......] - ETA: 0s - loss: 0.7164 - mean_squared_error: 0.2681\n",
      "Epoch 00059: val_loss did not improve from 0.24697\n",
      "22/22 [==============================] - 0s 5ms/step - loss: 0.7083 - mean_squared_error: 0.2613 - val_loss: 0.6916 - val_mean_squared_error: 0.2527 - lr: 0.0010\n",
      "Epoch 60/100\n",
      "17/22 [======================>.......] - ETA: 0s - loss: 0.7067 - mean_squared_error: 0.2717\n",
      "Epoch 00060: val_loss did not improve from 0.24697\n",
      "22/22 [==============================] - 0s 5ms/step - loss: 0.6949 - mean_squared_error: 0.2614 - val_loss: 0.6776 - val_mean_squared_error: 0.2527 - lr: 0.0010\n",
      "Epoch 61/100\n",
      "17/22 [======================>.......] - ETA: 0s - loss: 0.6897 - mean_squared_error: 0.2685\n",
      "Epoch 00061: val_loss did not improve from 0.24697\n",
      "22/22 [==============================] - 0s 5ms/step - loss: 0.6825 - mean_squared_error: 0.2624 - val_loss: 0.6644 - val_mean_squared_error: 0.2520 - lr: 0.0010\n",
      "Epoch 62/100\n",
      "17/22 [======================>.......] - ETA: 0s - loss: 0.6408 - mean_squared_error: 0.2333\n",
      "Epoch 00062: val_loss did not improve from 0.24697\n",
      "22/22 [==============================] - 0s 5ms/step - loss: 0.6683 - mean_squared_error: 0.2619 - val_loss: 0.6562 - val_mean_squared_error: 0.2561 - lr: 0.0010\n",
      "Epoch 63/100\n",
      "18/22 [=======================>......] - ETA: 0s - loss: 0.6505 - mean_squared_error: 0.2551\n",
      "Epoch 00063: val_loss did not improve from 0.24697\n",
      "22/22 [==============================] - 0s 5ms/step - loss: 0.6567 - mean_squared_error: 0.2623 - val_loss: 0.6390 - val_mean_squared_error: 0.2523 - lr: 0.0010\n",
      "Epoch 64/100\n",
      "18/22 [=======================>......] - ETA: 0s - loss: 0.6438 - mean_squared_error: 0.2607\n",
      "Epoch 00064: val_loss did not improve from 0.24697\n",
      "22/22 [==============================] - 0s 5ms/step - loss: 0.6447 - mean_squared_error: 0.2625 - val_loss: 0.6278 - val_mean_squared_error: 0.2526 - lr: 0.0010\n",
      "Epoch 65/100\n",
      "15/22 [===================>..........] - ETA: 0s - loss: 0.6253 - mean_squared_error: 0.2533\n",
      "Epoch 00065: val_loss did not improve from 0.24697\n",
      "22/22 [==============================] - 0s 5ms/step - loss: 0.6328 - mean_squared_error: 0.2624 - val_loss: 0.6189 - val_mean_squared_error: 0.2542 - lr: 0.0010\n",
      "Epoch 66/100\n",
      "17/22 [======================>.......] - ETA: 0s - loss: 0.6244 - mean_squared_error: 0.2638\n",
      "Epoch 00066: val_loss did not improve from 0.24697\n",
      "22/22 [==============================] - 0s 5ms/step - loss: 0.6219 - mean_squared_error: 0.2625 - val_loss: 0.6045 - val_mean_squared_error: 0.2515 - lr: 0.0010\n",
      "Epoch 67/100\n",
      "16/22 [====================>.........] - ETA: 0s - loss: 0.6251 - mean_squared_error: 0.2746\n",
      "Epoch 00067: val_loss did not improve from 0.24697\n",
      "22/22 [==============================] - 0s 5ms/step - loss: 0.6131 - mean_squared_error: 0.2639 - val_loss: 0.5940 - val_mean_squared_error: 0.2521 - lr: 0.0010\n",
      "Epoch 68/100\n",
      "16/22 [====================>.........] - ETA: 0s - loss: 0.6108 - mean_squared_error: 0.2708\n",
      "Epoch 00068: val_loss did not improve from 0.24697\n",
      "22/22 [==============================] - 0s 5ms/step - loss: 0.6026 - mean_squared_error: 0.2640 - val_loss: 0.5844 - val_mean_squared_error: 0.2527 - lr: 0.0010\n",
      "Epoch 69/100\n",
      "18/22 [=======================>......] - ETA: 0s - loss: 0.6045 - mean_squared_error: 0.2764\n",
      "Epoch 00069: val_loss did not improve from 0.24697\n",
      "22/22 [==============================] - 0s 5ms/step - loss: 0.5918 - mean_squared_error: 0.2643 - val_loss: 0.5735 - val_mean_squared_error: 0.2522 - lr: 0.0010\n",
      "Epoch 70/100\n",
      "16/22 [====================>.........] - ETA: 0s - loss: 0.5746 - mean_squared_error: 0.2560\n",
      "Epoch 00070: val_loss did not improve from 0.24697\n",
      "22/22 [==============================] - 0s 5ms/step - loss: 0.5820 - mean_squared_error: 0.2643 - val_loss: 0.5664 - val_mean_squared_error: 0.2533 - lr: 0.0010\n",
      "Epoch 71/100\n",
      "17/22 [======================>.......] - ETA: 0s - loss: 0.5631 - mean_squared_error: 0.2533\n",
      "Epoch 00071: val_loss did not improve from 0.24697\n",
      "22/22 [==============================] - 0s 5ms/step - loss: 0.5751 - mean_squared_error: 0.2661 - val_loss: 0.5578 - val_mean_squared_error: 0.2540 - lr: 0.0010\n",
      "Epoch 72/100\n",
      "16/22 [====================>.........] - ETA: 0s - loss: 0.5749 - mean_squared_error: 0.2723\n",
      "Epoch 00072: val_loss did not improve from 0.24697\n",
      "22/22 [==============================] - 0s 5ms/step - loss: 0.5666 - mean_squared_error: 0.2652 - val_loss: 0.5492 - val_mean_squared_error: 0.2533 - lr: 0.0010\n",
      "Epoch 73/100\n",
      "17/22 [======================>.......] - ETA: 0s - loss: 0.5488 - mean_squared_error: 0.2564\n",
      "Epoch 00073: val_loss did not improve from 0.24697\n",
      "22/22 [==============================] - 0s 6ms/step - loss: 0.5562 - mean_squared_error: 0.2648 - val_loss: 0.5448 - val_mean_squared_error: 0.2567 - lr: 0.0010\n",
      "Epoch 74/100\n",
      "17/22 [======================>.......] - ETA: 0s - loss: 0.5467 - mean_squared_error: 0.2614\n",
      "Epoch 00074: val_loss did not improve from 0.24697\n",
      "22/22 [==============================] - 0s 5ms/step - loss: 0.5486 - mean_squared_error: 0.2643 - val_loss: 0.5320 - val_mean_squared_error: 0.2534 - lr: 0.0010\n",
      "Epoch 75/100\n",
      "15/22 [===================>..........] - ETA: 0s - loss: 0.5418 - mean_squared_error: 0.2652\n",
      "Epoch 00075: val_loss did not improve from 0.24697\n",
      "22/22 [==============================] - 0s 6ms/step - loss: 0.5406 - mean_squared_error: 0.2648 - val_loss: 0.5248 - val_mean_squared_error: 0.2530 - lr: 0.0010\n",
      "Epoch 76/100\n",
      "15/22 [===================>..........] - ETA: 0s - loss: 0.5280 - mean_squared_error: 0.2578\n",
      "Epoch 00076: val_loss did not improve from 0.24697\n",
      "22/22 [==============================] - 0s 6ms/step - loss: 0.5344 - mean_squared_error: 0.2656 - val_loss: 0.5276 - val_mean_squared_error: 0.2613 - lr: 0.0010\n",
      "Epoch 77/100\n",
      "17/22 [======================>.......] - ETA: 0s - loss: 0.5278 - mean_squared_error: 0.2638\n",
      "Epoch 00077: val_loss did not improve from 0.24697\n",
      "22/22 [==============================] - 0s 5ms/step - loss: 0.5299 - mean_squared_error: 0.2667 - val_loss: 0.5115 - val_mean_squared_error: 0.2544 - lr: 0.0010\n",
      "Epoch 78/100\n",
      "17/22 [======================>.......] - ETA: 0s - loss: 0.5223 - mean_squared_error: 0.2682\n",
      "Epoch 00078: val_loss did not improve from 0.24697\n",
      "22/22 [==============================] - 0s 5ms/step - loss: 0.5183 - mean_squared_error: 0.2647 - val_loss: 0.5062 - val_mean_squared_error: 0.2559 - lr: 0.0010\n",
      "Epoch 79/100\n",
      "17/22 [======================>.......] - ETA: 0s - loss: 0.5227 - mean_squared_error: 0.2735\n",
      "Epoch 00079: val_loss did not improve from 0.24697\n",
      "22/22 [==============================] - 0s 5ms/step - loss: 0.5150 - mean_squared_error: 0.2664 - val_loss: 0.5001 - val_mean_squared_error: 0.2561 - lr: 0.0010\n",
      "Epoch 80/100\n",
      "16/22 [====================>.........] - ETA: 0s - loss: 0.5126 - mean_squared_error: 0.2701\n",
      "Epoch 00080: val_loss did not improve from 0.24697\n",
      "22/22 [==============================] - 0s 5ms/step - loss: 0.5069 - mean_squared_error: 0.2654 - val_loss: 0.4920 - val_mean_squared_error: 0.2550 - lr: 0.0010\n",
      "Epoch 81/100\n",
      "18/22 [=======================>......] - ETA: 0s - loss: 0.5068 - mean_squared_error: 0.2712\n",
      "Epoch 00081: val_loss did not improve from 0.24697\n",
      "22/22 [==============================] - 0s 6ms/step - loss: 0.5009 - mean_squared_error: 0.2656 - val_loss: 0.4858 - val_mean_squared_error: 0.2539 - lr: 0.0010\n",
      "Epoch 82/100\n",
      "17/22 [======================>.......] - ETA: 0s - loss: 0.4931 - mean_squared_error: 0.2633\n",
      "Epoch 00082: val_loss did not improve from 0.24697\n",
      "22/22 [==============================] - 0s 5ms/step - loss: 0.4941 - mean_squared_error: 0.2652 - val_loss: 0.4795 - val_mean_squared_error: 0.2553 - lr: 0.0010\n",
      "Epoch 83/100\n",
      "17/22 [======================>.......] - ETA: 0s - loss: 0.4897 - mean_squared_error: 0.2669\n",
      "Epoch 00083: val_loss did not improve from 0.24697\n",
      "22/22 [==============================] - 0s 5ms/step - loss: 0.4877 - mean_squared_error: 0.2655 - val_loss: 0.4735 - val_mean_squared_error: 0.2547 - lr: 0.0010\n",
      "Epoch 84/100\n",
      "18/22 [=======================>......] - ETA: 0s - loss: 0.4856 - mean_squared_error: 0.2687\n",
      "Epoch 00084: val_loss did not improve from 0.24697\n",
      "22/22 [==============================] - 0s 5ms/step - loss: 0.4802 - mean_squared_error: 0.2639 - val_loss: 0.4666 - val_mean_squared_error: 0.2544 - lr: 0.0010\n",
      "Epoch 85/100\n",
      "16/22 [====================>.........] - ETA: 0s - loss: 0.4722 - mean_squared_error: 0.2595\n",
      "Epoch 00085: val_loss did not improve from 0.24697\n",
      "22/22 [==============================] - 0s 5ms/step - loss: 0.4783 - mean_squared_error: 0.2663 - val_loss: 0.4630 - val_mean_squared_error: 0.2550 - lr: 0.0010\n",
      "Epoch 86/100\n",
      "18/22 [=======================>......] - ETA: 0s - loss: 0.4744 - mean_squared_error: 0.2691\n",
      "Epoch 00086: val_loss did not improve from 0.24697\n",
      "22/22 [==============================] - 0s 5ms/step - loss: 0.4686 - mean_squared_error: 0.2638 - val_loss: 0.4564 - val_mean_squared_error: 0.2549 - lr: 0.0010\n",
      "Epoch 87/100\n",
      "18/22 [=======================>......] - ETA: 0s - loss: 0.4692 - mean_squared_error: 0.2691\n",
      "Epoch 00087: val_loss did not improve from 0.24697\n",
      "22/22 [==============================] - 0s 5ms/step - loss: 0.4651 - mean_squared_error: 0.2651 - val_loss: 0.4515 - val_mean_squared_error: 0.2540 - lr: 0.0010\n",
      "Epoch 88/100\n",
      "18/22 [=======================>......] - ETA: 0s - loss: 0.4640 - mean_squared_error: 0.2678\n",
      "Epoch 00088: val_loss did not improve from 0.24697\n",
      "22/22 [==============================] - 0s 5ms/step - loss: 0.4619 - mean_squared_error: 0.2660 - val_loss: 0.4460 - val_mean_squared_error: 0.2542 - lr: 0.0010\n",
      "Epoch 89/100\n",
      "17/22 [======================>.......] - ETA: 0s - loss: 0.4450 - mean_squared_error: 0.2550\n",
      "Epoch 00089: val_loss did not improve from 0.24697\n",
      "22/22 [==============================] - 0s 5ms/step - loss: 0.4532 - mean_squared_error: 0.2637 - val_loss: 0.4484 - val_mean_squared_error: 0.2606 - lr: 0.0010\n",
      "Epoch 90/100\n",
      "17/22 [======================>.......] - ETA: 0s - loss: 0.4497 - mean_squared_error: 0.2634\n",
      "Epoch 00090: val_loss did not improve from 0.24697\n",
      "22/22 [==============================] - 0s 5ms/step - loss: 0.4497 - mean_squared_error: 0.2639 - val_loss: 0.4401 - val_mean_squared_error: 0.2566 - lr: 0.0010\n",
      "Epoch 91/100\n",
      "17/22 [======================>.......] - ETA: 0s - loss: 0.4539 - mean_squared_error: 0.2704\n",
      "Epoch 00091: val_loss did not improve from 0.24697\n",
      "22/22 [==============================] - 0s 5ms/step - loss: 0.4476 - mean_squared_error: 0.2645 - val_loss: 0.4365 - val_mean_squared_error: 0.2563 - lr: 0.0010\n",
      "Epoch 92/100\n",
      "17/22 [======================>.......] - ETA: 0s - loss: 0.4551 - mean_squared_error: 0.2769\n",
      "Epoch 00092: val_loss did not improve from 0.24697\n",
      "22/22 [==============================] - 0s 5ms/step - loss: 0.4408 - mean_squared_error: 0.2630 - val_loss: 0.4307 - val_mean_squared_error: 0.2560 - lr: 0.0010\n",
      "Epoch 93/100\n",
      "17/22 [======================>.......] - ETA: 0s - loss: 0.4247 - mean_squared_error: 0.2511\n",
      "Epoch 00093: val_loss did not improve from 0.24697\n",
      "22/22 [==============================] - 0s 5ms/step - loss: 0.4365 - mean_squared_error: 0.2632 - val_loss: 0.4329 - val_mean_squared_error: 0.2592 - lr: 0.0010\n",
      "Epoch 94/100\n",
      "17/22 [======================>.......] - ETA: 0s - loss: 0.4556 - mean_squared_error: 0.2784\n",
      "Epoch 00094: val_loss did not improve from 0.24697\n",
      "22/22 [==============================] - 0s 5ms/step - loss: 0.4446 - mean_squared_error: 0.2679 - val_loss: 0.4260 - val_mean_squared_error: 0.2547 - lr: 0.0010\n",
      "Epoch 95/100\n",
      "17/22 [======================>.......] - ETA: 0s - loss: 0.4257 - mean_squared_error: 0.2568\n",
      "Epoch 00095: val_loss did not improve from 0.24697\n",
      "22/22 [==============================] - 0s 5ms/step - loss: 0.4306 - mean_squared_error: 0.2624 - val_loss: 0.4189 - val_mean_squared_error: 0.2543 - lr: 0.0010\n",
      "Epoch 96/100\n",
      "17/22 [======================>.......] - ETA: 0s - loss: 0.4256 - mean_squared_error: 0.2627\n",
      "Epoch 00096: val_loss did not improve from 0.24697\n",
      "22/22 [==============================] - 0s 5ms/step - loss: 0.4234 - mean_squared_error: 0.2609 - val_loss: 0.4125 - val_mean_squared_error: 0.2524 - lr: 0.0010\n",
      "Epoch 97/100\n",
      "17/22 [======================>.......] - ETA: 0s - loss: 0.3952 - mean_squared_error: 0.2363\n",
      "Epoch 00097: val_loss did not improve from 0.24697\n",
      "22/22 [==============================] - 0s 5ms/step - loss: 0.4189 - mean_squared_error: 0.2604 - val_loss: 0.4073 - val_mean_squared_error: 0.2514 - lr: 0.0010\n",
      "Epoch 98/100\n",
      "14/22 [==================>...........] - ETA: 0s - loss: 0.4112 - mean_squared_error: 0.2562\n",
      "Epoch 00098: val_loss did not improve from 0.24697\n",
      "22/22 [==============================] - 0s 6ms/step - loss: 0.4133 - mean_squared_error: 0.2590 - val_loss: 0.4051 - val_mean_squared_error: 0.2533 - lr: 0.0010\n",
      "Epoch 99/100\n",
      "17/22 [======================>.......] - ETA: 0s - loss: 0.4135 - mean_squared_error: 0.2624\n",
      "Epoch 00099: val_loss did not improve from 0.24697\n",
      "22/22 [==============================] - 0s 5ms/step - loss: 0.4100 - mean_squared_error: 0.2591 - val_loss: 0.4009 - val_mean_squared_error: 0.2519 - lr: 0.0010\n",
      "Epoch 100/100\n",
      "17/22 [======================>.......] - ETA: 0s - loss: 0.3997 - mean_squared_error: 0.2519\n",
      "Epoch 00100: val_loss did not improve from 0.24697\n",
      "22/22 [==============================] - 0s 5ms/step - loss: 0.4061 - mean_squared_error: 0.2586 - val_loss: 0.3953 - val_mean_squared_error: 0.2495 - lr: 0.0010\n"
     ]
    }
   ]
  },
  {
   "cell_type": "code",
   "source": [
    "plot_model(model2, show_shapes=True)"
   ],
   "metadata": {
    "colab": {
     "base_uri": "https://localhost:8080/",
     "height": 644
    },
    "id": "KA-KwG2BwXS6",
    "executionInfo": {
     "status": "ok",
     "timestamp": 1667427087423,
     "user_tz": -120,
     "elapsed": 57,
     "user": {
      "displayName": "Τζενη Τσομπαναι",
      "userId": "16239050285647842336"
     }
    },
    "outputId": "faa6c4e5-d799-4c78-851f-57f5391fd44c"
   },
   "execution_count": 20,
   "outputs": [
    {
     "output_type": "execute_result",
     "data": {
      "image/png": "[encoded data removed]",
      "text/plain": [
       "<IPython.core.display.Image object>"
      ]
     },
     "metadata": {},
     "execution_count": 20
    }
   ]
  },
  {
   "cell_type": "code",
   "source": [
    "pred2 = model2.predict(x_test)"
   ],
   "metadata": {
    "colab": {
     "base_uri": "https://localhost:8080/"
    },
    "id": "f44Bfqy4lXAx",
    "executionInfo": {
     "status": "ok",
     "timestamp": 1667427087424,
     "user_tz": -120,
     "elapsed": 53,
     "user": {
      "displayName": "Τζενη Τσομπαναι",
      "userId": "16239050285647842336"
     }
    },
    "outputId": "3929b217-7219-439d-89f5-2016e03f5457"
   },
   "execution_count": 21,
   "outputs": [
    {
     "output_type": "stream",
     "name": "stdout",
     "text": [
      "57/57 [==============================] - 0s 1ms/step\n"
     ]
    }
   ]
  },
  {
   "cell_type": "code",
   "source": [
    "list_pred2 = [x[0] for x in pred2.tolist()]"
   ],
   "metadata": {
    "id": "ulRJon_0lTfg",
    "executionInfo": {
     "status": "ok",
     "timestamp": 1667427087425,
     "user_tz": -120,
     "elapsed": 31,
     "user": {
      "displayName": "Τζενη Τσομπαναι",
      "userId": "16239050285647842336"
     }
    }
   },
   "execution_count": 22,
   "outputs": []
  },
  {
   "cell_type": "markdown",
   "source": [
    "###MAE:"
   ],
   "metadata": {
    "id": "zlzxJMKQ3Lxh"
   }
  },
  {
   "cell_type": "code",
   "source": [
    "mae(list_y1, list_pred2)"
   ],
   "metadata": {
    "id": "HYKEVmryY1d1",
    "colab": {
     "base_uri": "https://localhost:8080/"
    },
    "executionInfo": {
     "status": "ok",
     "timestamp": 1667427087426,
     "user_tz": -120,
     "elapsed": 31,
     "user": {
      "displayName": "Τζενη Τσομπαναι",
      "userId": "16239050285647842336"
     }
    },
    "outputId": "84049228-dee3-45bf-f6a6-29453ebe3214"
   },
   "execution_count": 23,
   "outputs": [
    {
     "output_type": "execute_result",
     "data": {
      "text/plain": [
       "27.2671133551236"
      ]
     },
     "metadata": {},
     "execution_count": 23
    }
   ]
  },
  {
   "cell_type": "markdown",
   "source": [
    "###MAPE:"
   ],
   "metadata": {
    "id": "AUFmZDu83Okp"
   }
  },
  {
   "cell_type": "code",
   "source": [
    "mape(list_y1, list_pred2)"
   ],
   "metadata": {
    "colab": {
     "base_uri": "https://localhost:8080/"
    },
    "id": "hdQXflUI3QaX",
    "executionInfo": {
     "status": "ok",
     "timestamp": 1667427087427,
     "user_tz": -120,
     "elapsed": 29,
     "user": {
      "displayName": "Τζενη Τσομπαναι",
      "userId": "16239050285647842336"
     }
    },
    "outputId": "bc947eb4-3c94-4597-96e9-380367e6886f"
   },
   "execution_count": 24,
   "outputs": [
    {
     "output_type": "execute_result",
     "data": {
      "text/plain": [
       "34.841713634407185"
      ]
     },
     "metadata": {},
     "execution_count": 24
    }
   ]
  },
  {
   "cell_type": "code",
   "source": [
    "plot_keras_history(model2_history)"
   ],
   "metadata": {
    "colab": {
     "base_uri": "https://localhost:8080/",
     "height": 1000
    },
    "id": "HMiKKLB3v5tr",
    "executionInfo": {
     "status": "ok",
     "timestamp": 1667427088341,
     "user_tz": -120,
     "elapsed": 941,
     "user": {
      "displayName": "Τζενη Τσομπαναι",
      "userId": "16239050285647842336"
     }
    },
    "outputId": "6e869678-2b82-4cab-d02d-2d8c08b97b47"
   },
   "execution_count": 25,
   "outputs": [
    {
     "output_type": "display_data",
     "data": {
      "text/plain": [
       "<Figure size 864x432 with 1 Axes>"
      ],
      "image/png": "[encoded data removed]"
     },
     "metadata": {
      "needs_background": "light"
     }
    },
    {
     "output_type": "display_data",
     "data": {
      "text/plain": [
       "<Figure size 864x432 with 1 Axes>"
      ],
      "image/png": "[encoded data removed]"
     },
     "metadata": {
      "needs_background": "light"
     }
    },
    {
     "output_type": "display_data",
     "data": {
      "text/plain": [
       "<Figure size 864x432 with 1 Axes>"
      ],
      "image/png": "[encoded data removed]"
     },
     "metadata": {
      "needs_background": "light"
     }
    }
   ]
  },
  {
   "cell_type": "markdown",
   "source": [
    "# Third Model"
   ],
   "metadata": {
    "id": "XOeOvd6cfrU4"
   }
  },
  {
   "cell_type": "code",
   "source": [
    "# Setting model hyperparameters\n",
    "batch_size = (\n",
    "    64  # batch=64 =>  in each iteration, we consider 64 training examples at once\n",
    ")\n",
    "num_epochs = 100"
   ],
   "metadata": {
    "id": "9clDy4M59mYS",
    "executionInfo": {
     "status": "ok",
     "timestamp": 1667427088344,
     "user_tz": -120,
     "elapsed": 61,
     "user": {
      "displayName": "Τζενη Τσομπαναι",
      "userId": "16239050285647842336"
     }
    }
   },
   "execution_count": 26,
   "outputs": []
  },
  {
   "cell_type": "code",
   "source": [
    "# Building the model\n",
    "model3 = Sequential()\n",
    "model3.add(Dense(128, input_shape=(x_train.shape[1],), activation=\"relu\"))\n",
    "model3.add(Dense(256, activation=\"relu\"))\n",
    "model3.add(Dense(256, activation=\"relu\"))\n",
    "model3.add(Dense(1, activation=\"linear\"))\n",
    "\n",
    "# Compiling the model\n",
    "model3.compile(\n",
    "    loss=\"mean_squared_error\", optimizer=\"adam\", metrics=[\"mean_absolute_error\"]\n",
    ")\n",
    "\n",
    "# Model summary\n",
    "print(model3.summary())"
   ],
   "metadata": {
    "id": "AgF0jf-Bstfv",
    "colab": {
     "base_uri": "https://localhost:8080/"
    },
    "outputId": "4754acd9-56f2-4ea1-bc64-2cad42dcb531",
    "executionInfo": {
     "status": "ok",
     "timestamp": 1667427088346,
     "user_tz": -120,
     "elapsed": 61,
     "user": {
      "displayName": "Τζενη Τσομπαναι",
      "userId": "16239050285647842336"
     }
    }
   },
   "execution_count": 27,
   "outputs": [
    {
     "output_type": "stream",
     "name": "stdout",
     "text": [
      "Model: \"sequential_2\"\n",
      "_________________________________________________________________\n",
      " Layer (type)                Output Shape              Param #   \n",
      "=================================================================\n",
      " dense_9 (Dense)             (None, 128)               8960      \n",
      "                                                                 \n",
      " dense_10 (Dense)            (None, 256)               33024     \n",
      "                                                                 \n",
      " dense_11 (Dense)            (None, 256)               65792     \n",
      "                                                                 \n",
      " dense_12 (Dense)            (None, 1)                 257       \n",
      "                                                                 \n",
      "=================================================================\n",
      "Total params: 108,033\n",
      "Trainable params: 108,033\n",
      "Non-trainable params: 0\n",
      "_________________________________________________________________\n",
      "None\n"
     ]
    }
   ]
  },
  {
   "cell_type": "code",
   "source": [
    "plot_model(model3, show_shapes=True)"
   ],
   "metadata": {
    "id": "pTFw4h-D9qly",
    "colab": {
     "base_uri": "https://localhost:8080/",
     "height": 533
    },
    "executionInfo": {
     "status": "ok",
     "timestamp": 1667427088349,
     "user_tz": -120,
     "elapsed": 39,
     "user": {
      "displayName": "Τζενη Τσομπαναι",
      "userId": "16239050285647842336"
     }
    },
    "outputId": "182b07eb-63c2-456f-ab5c-8ed017a6b0ce"
   },
   "execution_count": 28,
   "outputs": [
    {
     "output_type": "execute_result",
     "data": {
      "image/png": "[encoded data removed]",
      "text/plain": [
       "<IPython.core.display.Image object>"
      ]
     },
     "metadata": {},
     "execution_count": 28
    }
   ]
  },
  {
   "cell_type": "code",
   "source": [
    "model3_history = model3.fit(\n",
    "    x=x_train,  # features (as dense inputs)\n",
    "    y=y_train,  # labels\n",
    "    batch_size=batch_size,  # define batch size\n",
    "    epochs=num_epochs,  # number of epochs\n",
    "    verbose=2,  # the most extended verbosity level\n",
    "    validation_split=0.25,\n",
    "    callbacks=callbacks,\n",
    ")"
   ],
   "metadata": {
    "id": "_2ZchFbo9ubq",
    "colab": {
     "base_uri": "https://localhost:8080/"
    },
    "executionInfo": {
     "status": "ok",
     "timestamp": 1667427094718,
     "user_tz": -120,
     "elapsed": 6404,
     "user": {
      "displayName": "Τζενη Τσομπαναι",
      "userId": "16239050285647842336"
     }
    },
    "outputId": "9def4ede-9443-4ad1-bed3-0923bde25085"
   },
   "execution_count": 29,
   "outputs": [
    {
     "output_type": "stream",
     "name": "stdout",
     "text": [
      "Epoch 1/100\n",
      "\n",
      "Epoch 00001: val_loss did not improve from 0.24697\n",
      "85/85 - 1s - loss: 2.0282 - mean_absolute_error: 0.8820 - val_loss: 0.5307 - val_mean_absolute_error: 0.4339 - lr: 0.0010 - 839ms/epoch - 10ms/step\n",
      "Epoch 2/100\n",
      "\n",
      "Epoch 00002: val_loss did not improve from 0.24697\n",
      "85/85 - 0s - loss: 0.3509 - mean_absolute_error: 0.4114 - val_loss: 0.4640 - val_mean_absolute_error: 0.4067 - lr: 0.0010 - 299ms/epoch - 4ms/step\n",
      "Epoch 3/100\n",
      "\n",
      "Epoch 00003: val_loss did not improve from 0.24697\n",
      "85/85 - 0s - loss: 0.2846 - mean_absolute_error: 0.3723 - val_loss: 0.4437 - val_mean_absolute_error: 0.3856 - lr: 0.0010 - 297ms/epoch - 3ms/step\n",
      "Epoch 4/100\n",
      "\n",
      "Epoch 00004: val_loss did not improve from 0.24697\n",
      "85/85 - 0s - loss: 0.2507 - mean_absolute_error: 0.3503 - val_loss: 0.4342 - val_mean_absolute_error: 0.3776 - lr: 0.0010 - 319ms/epoch - 4ms/step\n",
      "Epoch 5/100\n",
      "\n",
      "Epoch 00005: val_loss did not improve from 0.24697\n",
      "85/85 - 0s - loss: 0.2387 - mean_absolute_error: 0.3425 - val_loss: 0.4199 - val_mean_absolute_error: 0.3738 - lr: 0.0010 - 275ms/epoch - 3ms/step\n",
      "Epoch 6/100\n",
      "\n",
      "Epoch 00006: val_loss did not improve from 0.24697\n",
      "85/85 - 0s - loss: 0.2223 - mean_absolute_error: 0.3320 - val_loss: 0.4193 - val_mean_absolute_error: 0.3723 - lr: 0.0010 - 291ms/epoch - 3ms/step\n",
      "Epoch 7/100\n",
      "\n",
      "Epoch 00007: val_loss did not improve from 0.24697\n",
      "85/85 - 0s - loss: 0.2118 - mean_absolute_error: 0.3239 - val_loss: 0.4043 - val_mean_absolute_error: 0.3698 - lr: 0.0010 - 306ms/epoch - 4ms/step\n",
      "Epoch 8/100\n",
      "\n",
      "Epoch 00008: val_loss did not improve from 0.24697\n",
      "85/85 - 0s - loss: 0.2032 - mean_absolute_error: 0.3181 - val_loss: 0.4294 - val_mean_absolute_error: 0.3822 - lr: 0.0010 - 298ms/epoch - 4ms/step\n",
      "Epoch 9/100\n",
      "\n",
      "Epoch 00009: val_loss did not improve from 0.24697\n",
      "85/85 - 0s - loss: 0.1964 - mean_absolute_error: 0.3152 - val_loss: 0.5432 - val_mean_absolute_error: 0.4796 - lr: 0.0010 - 283ms/epoch - 3ms/step\n",
      "Epoch 10/100\n",
      "\n",
      "Epoch 00010: val_loss did not improve from 0.24697\n",
      "85/85 - 0s - loss: 0.1996 - mean_absolute_error: 0.3193 - val_loss: 0.4024 - val_mean_absolute_error: 0.3681 - lr: 0.0010 - 305ms/epoch - 4ms/step\n",
      "Epoch 11/100\n",
      "\n",
      "Epoch 00011: val_loss did not improve from 0.24697\n",
      "85/85 - 0s - loss: 0.1803 - mean_absolute_error: 0.3026 - val_loss: 0.4274 - val_mean_absolute_error: 0.3892 - lr: 0.0010 - 308ms/epoch - 4ms/step\n",
      "Epoch 12/100\n",
      "\n",
      "Epoch 00012: val_loss did not improve from 0.24697\n",
      "85/85 - 0s - loss: 0.1771 - mean_absolute_error: 0.3002 - val_loss: 0.3898 - val_mean_absolute_error: 0.3720 - lr: 0.0010 - 292ms/epoch - 3ms/step\n",
      "Epoch 13/100\n",
      "\n",
      "Epoch 00013: val_loss did not improve from 0.24697\n",
      "85/85 - 0s - loss: 0.1773 - mean_absolute_error: 0.2999 - val_loss: 0.4180 - val_mean_absolute_error: 0.3893 - lr: 0.0010 - 285ms/epoch - 3ms/step\n",
      "Epoch 14/100\n",
      "\n",
      "Epoch 00014: val_loss did not improve from 0.24697\n",
      "85/85 - 0s - loss: 0.1622 - mean_absolute_error: 0.2890 - val_loss: 0.4061 - val_mean_absolute_error: 0.3827 - lr: 0.0010 - 303ms/epoch - 4ms/step\n",
      "Epoch 15/100\n",
      "\n",
      "Epoch 00015: val_loss did not improve from 0.24697\n",
      "\n",
      "Epoch 00015: ReduceLROnPlateau reducing learning rate to 0.00010000000474974513.\n",
      "85/85 - 0s - loss: 0.1628 - mean_absolute_error: 0.2927 - val_loss: 0.4168 - val_mean_absolute_error: 0.3781 - lr: 0.0010 - 280ms/epoch - 3ms/step\n",
      "Epoch 16/100\n",
      "\n",
      "Epoch 00016: val_loss did not improve from 0.24697\n",
      "85/85 - 0s - loss: 0.1258 - mean_absolute_error: 0.2521 - val_loss: 0.4001 - val_mean_absolute_error: 0.3603 - lr: 1.0000e-04 - 301ms/epoch - 4ms/step\n",
      "Epoch 17/100\n",
      "Restoring model weights from the end of the best epoch.\n",
      "\n",
      "Epoch 00017: val_loss did not improve from 0.24697\n",
      "85/85 - 0s - loss: 0.1152 - mean_absolute_error: 0.2382 - val_loss: 0.3999 - val_mean_absolute_error: 0.3618 - lr: 1.0000e-04 - 316ms/epoch - 4ms/step\n",
      "Epoch 00017: early stopping\n"
     ]
    }
   ]
  },
  {
   "cell_type": "code",
   "source": [
    "pred3 = model3.predict(x_test)"
   ],
   "metadata": {
    "colab": {
     "base_uri": "https://localhost:8080/"
    },
    "id": "4RgXlxI9mezi",
    "executionInfo": {
     "status": "ok",
     "timestamp": 1667427095952,
     "user_tz": -120,
     "elapsed": 1268,
     "user": {
      "displayName": "Τζενη Τσομπαναι",
      "userId": "16239050285647842336"
     }
    },
    "outputId": "4f145133-0bed-44a4-f61d-b9d53045ee76"
   },
   "execution_count": 30,
   "outputs": [
    {
     "output_type": "stream",
     "name": "stdout",
     "text": [
      "57/57 [==============================] - 0s 2ms/step\n"
     ]
    }
   ]
  },
  {
   "cell_type": "code",
   "source": [
    "list_pred3 = [x[0] for x in pred3.tolist()]"
   ],
   "metadata": {
    "id": "k9iRsCU4mjJY",
    "executionInfo": {
     "status": "ok",
     "timestamp": 1667427095954,
     "user_tz": -120,
     "elapsed": 47,
     "user": {
      "displayName": "Τζενη Τσομπαναι",
      "userId": "16239050285647842336"
     }
    }
   },
   "execution_count": 31,
   "outputs": []
  },
  {
   "cell_type": "markdown",
   "source": [
    "###MAE:"
   ],
   "metadata": {
    "id": "n8WjF0EM26R8"
   }
  },
  {
   "cell_type": "code",
   "source": [
    "mae(list_y1, list_pred3)"
   ],
   "metadata": {
    "colab": {
     "base_uri": "https://localhost:8080/"
    },
    "id": "JjLxbMMymoor",
    "executionInfo": {
     "status": "ok",
     "timestamp": 1667427095955,
     "user_tz": -120,
     "elapsed": 45,
     "user": {
      "displayName": "Τζενη Τσομπαναι",
      "userId": "16239050285647842336"
     }
    },
    "outputId": "bc3a8207-2aaa-47d7-b2a5-0703828228b0"
   },
   "execution_count": 32,
   "outputs": [
    {
     "output_type": "execute_result",
     "data": {
      "text/plain": [
       "29.23676418447039"
      ]
     },
     "metadata": {},
     "execution_count": 32
    }
   ]
  },
  {
   "cell_type": "markdown",
   "source": [
    "###MAPE:"
   ],
   "metadata": {
    "id": "D6fyV5ZD29Dk"
   }
  },
  {
   "cell_type": "code",
   "source": [
    "mape(list_y1, list_pred3)"
   ],
   "metadata": {
    "colab": {
     "base_uri": "https://localhost:8080/"
    },
    "id": "wOEws0Mj2-cn",
    "executionInfo": {
     "status": "ok",
     "timestamp": 1667427095955,
     "user_tz": -120,
     "elapsed": 37,
     "user": {
      "displayName": "Τζενη Τσομπαναι",
      "userId": "16239050285647842336"
     }
    },
    "outputId": "c7f3f778-9dae-4a72-dacf-0b1f2d08551d"
   },
   "execution_count": 33,
   "outputs": [
    {
     "output_type": "execute_result",
     "data": {
      "text/plain": [
       "38.70684675884088"
      ]
     },
     "metadata": {},
     "execution_count": 33
    }
   ]
  },
  {
   "cell_type": "code",
   "source": [
    "plot_keras_history(model3_history)"
   ],
   "metadata": {
    "colab": {
     "base_uri": "https://localhost:8080/",
     "height": 1000
    },
    "id": "FBBlUmnPwPi0",
    "executionInfo": {
     "status": "ok",
     "timestamp": 1667427095956,
     "user_tz": -120,
     "elapsed": 31,
     "user": {
      "displayName": "Τζενη Τσομπαναι",
      "userId": "16239050285647842336"
     }
    },
    "outputId": "5ea30f62-df8a-4376-ecb4-23aefee9625e"
   },
   "execution_count": 34,
   "outputs": [
    {
     "output_type": "display_data",
     "data": {
      "text/plain": [
       "<Figure size 864x432 with 1 Axes>"
      ],
      "image/png": "[encoded data removed]"
     },
     "metadata": {
      "needs_background": "light"
     }
    },
    {
     "output_type": "display_data",
     "data": {
      "text/plain": [
       "<Figure size 864x432 with 1 Axes>"
      ],
      "image/png": "[encoded data removed]"
     },
     "metadata": {
      "needs_background": "light"
     }
    },
    {
     "output_type": "display_data",
     "data": {
      "text/plain": [
       "<Figure size 864x432 with 1 Axes>"
      ],
      "image/png": "[encoded data removed]"
     },
     "metadata": {
      "needs_background": "light"
     }
    }
   ]
  },
  {
   "cell_type": "markdown",
   "source": [
    "# Fourth model"
   ],
   "metadata": {
    "id": "QRV3stMPfxP2"
   }
  },
  {
   "cell_type": "code",
   "source": [
    "def findparams(x_train, y_train, x_test, y_test):\n",
    "\n",
    "    # Defining the list of hyper parameters to try\n",
    "    batch_size_list = [30, 50, 100, 250]\n",
    "    epoch_list = [10, 50, 100]\n",
    "\n",
    "    import pandas as pd\n",
    "\n",
    "    SearchResultsData = pd.DataFrame(columns=[\"TrialNumber\", \"Parameters\", \"Accuracy\"])\n",
    "\n",
    "    # initializing the trials\n",
    "    TrialNumber = 0\n",
    "    for batch_size_trial in batch_size_list:\n",
    "        for epochs_trial in epoch_list:\n",
    "            TrialNumber += 1\n",
    "            # create ANN model\n",
    "            model = Sequential()\n",
    "            # Defining the first layer of the model\n",
    "            model.add(\n",
    "                Dense(\n",
    "                    units=5,\n",
    "                    input_dim=x_train.shape[1],\n",
    "                    kernel_initializer=\"normal\",\n",
    "                    activation=\"relu\",\n",
    "                )\n",
    "            )\n",
    "\n",
    "            # Defining the Second layer of the model\n",
    "            model.add(Dense(units=5, kernel_initializer=\"normal\", activation=\"relu\"))\n",
    "\n",
    "            # The output neuron is a single fully connected node\n",
    "            # Since we will be predicting a single number\n",
    "            model.add(Dense(1, kernel_initializer=\"normal\", activation=\"linear\"))\n",
    "\n",
    "            # Compiling the model\n",
    "            model.compile(loss=\"mean_squared_error\", optimizer=\"adam\")\n",
    "\n",
    "            # Fitting the ANN to the Training set\n",
    "            model.fit(\n",
    "                x_train,\n",
    "                y_train,\n",
    "                batch_size=batch_size_trial,\n",
    "                epochs=epochs_trial,\n",
    "                verbose=2,\n",
    "            )\n",
    "\n",
    "            MAPE = np.mean(100 * (np.abs(y_test - model.predict(x_test)) / y_test))\n",
    "\n",
    "            # printing the results of the current iteration\n",
    "            print(\n",
    "                TrialNumber,\n",
    "                \"Parameters:\",\n",
    "                \"batch_size:\",\n",
    "                batch_size_trial,\n",
    "                \"-\",\n",
    "                \"epochs:\",\n",
    "                epochs_trial,\n",
    "                \"Accuracy:\",\n",
    "                100 - MAPE,\n",
    "            )\n",
    "\n",
    "            SearchResultsData = SearchResultsData.append(\n",
    "                pd.DataFrame(\n",
    "                    data=[\n",
    "                        [\n",
    "                            TrialNumber,\n",
    "                            str(batch_size_trial) + \"-\" + str(epochs_trial),\n",
    "                            100 - MAPE,\n",
    "                        ]\n",
    "                    ],\n",
    "                    columns=[\"TrialNumber\", \"Parameters\", \"Accuracy\"],\n",
    "                )\n",
    "            )\n",
    "    return SearchResultsData\n",
    "\n",
    "\n",
    "# Calling the function\n",
    "results = findparams(x_train, y_train, x_test, y_test)"
   ],
   "metadata": {
    "colab": {
     "base_uri": "https://localhost:8080/"
    },
    "id": "yxGTTBzXwl1g",
    "executionInfo": {
     "status": "ok",
     "timestamp": 1667427335289,
     "user_tz": -120,
     "elapsed": 239358,
     "user": {
      "displayName": "Τζενη Τσομπαναι",
      "userId": "16239050285647842336"
     }
    },
    "outputId": "e9dbaa93-d19f-4893-a79b-26b8acf92523"
   },
   "execution_count": 35,
   "outputs": [
    {
     "output_type": "stream",
     "name": "stdout",
     "text": [
      "Epoch 1/10\n",
      "240/240 - 1s - loss: 9.4919 - 808ms/epoch - 3ms/step\n",
      "Epoch 2/10\n",
      "240/240 - 0s - loss: 0.8872 - 479ms/epoch - 2ms/step\n",
      "Epoch 3/10\n",
      "240/240 - 0s - loss: 0.5289 - 480ms/epoch - 2ms/step\n",
      "Epoch 4/10\n",
      "240/240 - 0s - loss: 0.4074 - 478ms/epoch - 2ms/step\n",
      "Epoch 5/10\n",
      "240/240 - 0s - loss: 0.3584 - 476ms/epoch - 2ms/step\n",
      "Epoch 6/10\n",
      "240/240 - 0s - loss: 0.3327 - 472ms/epoch - 2ms/step\n",
      "Epoch 7/10\n",
      "240/240 - 1s - loss: 0.3188 - 623ms/epoch - 3ms/step\n",
      "Epoch 8/10\n",
      "240/240 - 1s - loss: 0.3112 - 681ms/epoch - 3ms/step\n",
      "Epoch 9/10\n",
      "240/240 - 1s - loss: 0.3062 - 665ms/epoch - 3ms/step\n",
      "Epoch 10/10\n",
      "240/240 - 1s - loss: 0.3018 - 539ms/epoch - 2ms/step\n",
      "57/57 [==============================] - 0s 1ms/step\n",
      "1 Parameters: batch_size: 30 - epochs: 10 Accuracy: log_price    90.382972\n",
      "dtype: float64\n",
      "Epoch 1/50\n",
      "240/240 - 1s - loss: 10.6644 - 861ms/epoch - 4ms/step\n",
      "Epoch 2/50\n",
      "240/240 - 0s - loss: 0.7601 - 475ms/epoch - 2ms/step\n",
      "Epoch 3/50\n",
      "240/240 - 0s - loss: 0.4521 - 468ms/epoch - 2ms/step\n",
      "Epoch 4/50\n",
      "240/240 - 0s - loss: 0.3768 - 463ms/epoch - 2ms/step\n",
      "Epoch 5/50\n",
      "240/240 - 0s - loss: 0.3465 - 476ms/epoch - 2ms/step\n",
      "Epoch 6/50\n",
      "240/240 - 0s - loss: 0.3278 - 470ms/epoch - 2ms/step\n",
      "Epoch 7/50\n",
      "240/240 - 0s - loss: 0.3152 - 490ms/epoch - 2ms/step\n",
      "Epoch 8/50\n",
      "240/240 - 0s - loss: 0.3068 - 478ms/epoch - 2ms/step\n",
      "Epoch 9/50\n",
      "240/240 - 0s - loss: 0.3001 - 476ms/epoch - 2ms/step\n",
      "Epoch 10/50\n",
      "240/240 - 0s - loss: 0.2954 - 497ms/epoch - 2ms/step\n",
      "Epoch 11/50\n",
      "240/240 - 0s - loss: 0.2919 - 492ms/epoch - 2ms/step\n",
      "Epoch 12/50\n",
      "240/240 - 0s - loss: 0.2884 - 472ms/epoch - 2ms/step\n",
      "Epoch 13/50\n",
      "240/240 - 0s - loss: 0.2860 - 493ms/epoch - 2ms/step\n",
      "Epoch 14/50\n",
      "240/240 - 0s - loss: 0.2835 - 489ms/epoch - 2ms/step\n",
      "Epoch 15/50\n",
      "240/240 - 0s - loss: 0.2837 - 481ms/epoch - 2ms/step\n",
      "Epoch 16/50\n",
      "240/240 - 0s - loss: 0.2818 - 475ms/epoch - 2ms/step\n",
      "Epoch 17/50\n",
      "240/240 - 0s - loss: 0.2811 - 478ms/epoch - 2ms/step\n",
      "Epoch 18/50\n",
      "240/240 - 0s - loss: 0.2795 - 470ms/epoch - 2ms/step\n",
      "Epoch 19/50\n",
      "240/240 - 0s - loss: 0.2781 - 475ms/epoch - 2ms/step\n",
      "Epoch 20/50\n",
      "240/240 - 0s - loss: 0.2783 - 466ms/epoch - 2ms/step\n",
      "Epoch 21/50\n",
      "240/240 - 0s - loss: 0.2779 - 480ms/epoch - 2ms/step\n",
      "Epoch 22/50\n",
      "240/240 - 0s - loss: 0.2771 - 494ms/epoch - 2ms/step\n",
      "Epoch 23/50\n",
      "240/240 - 0s - loss: 0.2760 - 484ms/epoch - 2ms/step\n",
      "Epoch 24/50\n",
      "240/240 - 0s - loss: 0.2756 - 483ms/epoch - 2ms/step\n",
      "Epoch 25/50\n",
      "240/240 - 0s - loss: 0.2748 - 470ms/epoch - 2ms/step\n",
      "Epoch 26/50\n",
      "240/240 - 0s - loss: 0.2754 - 469ms/epoch - 2ms/step\n",
      "Epoch 27/50\n",
      "240/240 - 0s - loss: 0.2739 - 457ms/epoch - 2ms/step\n",
      "Epoch 28/50\n",
      "240/240 - 0s - loss: 0.2733 - 474ms/epoch - 2ms/step\n",
      "Epoch 29/50\n",
      "240/240 - 0s - loss: 0.2730 - 460ms/epoch - 2ms/step\n",
      "Epoch 30/50\n",
      "240/240 - 0s - loss: 0.2721 - 462ms/epoch - 2ms/step\n",
      "Epoch 31/50\n",
      "240/240 - 0s - loss: 0.2732 - 465ms/epoch - 2ms/step\n",
      "Epoch 32/50\n",
      "240/240 - 0s - loss: 0.2721 - 468ms/epoch - 2ms/step\n",
      "Epoch 33/50\n",
      "240/240 - 0s - loss: 0.2728 - 461ms/epoch - 2ms/step\n",
      "Epoch 34/50\n",
      "240/240 - 0s - loss: 0.2706 - 460ms/epoch - 2ms/step\n",
      "Epoch 35/50\n",
      "240/240 - 0s - loss: 0.2717 - 459ms/epoch - 2ms/step\n",
      "Epoch 36/50\n",
      "240/240 - 0s - loss: 0.2710 - 467ms/epoch - 2ms/step\n",
      "Epoch 37/50\n",
      "240/240 - 0s - loss: 0.2710 - 462ms/epoch - 2ms/step\n",
      "Epoch 38/50\n",
      "240/240 - 0s - loss: 0.2698 - 472ms/epoch - 2ms/step\n",
      "Epoch 39/50\n",
      "240/240 - 0s - loss: 0.2688 - 499ms/epoch - 2ms/step\n",
      "Epoch 40/50\n",
      "240/240 - 0s - loss: 0.2686 - 453ms/epoch - 2ms/step\n",
      "Epoch 41/50\n",
      "240/240 - 0s - loss: 0.2682 - 472ms/epoch - 2ms/step\n",
      "Epoch 42/50\n",
      "240/240 - 0s - loss: 0.2684 - 455ms/epoch - 2ms/step\n",
      "Epoch 43/50\n",
      "240/240 - 0s - loss: 0.2679 - 483ms/epoch - 2ms/step\n",
      "Epoch 44/50\n",
      "240/240 - 0s - loss: 0.2666 - 449ms/epoch - 2ms/step\n",
      "Epoch 45/50\n",
      "240/240 - 0s - loss: 0.2670 - 471ms/epoch - 2ms/step\n",
      "Epoch 46/50\n",
      "240/240 - 0s - loss: 0.2664 - 451ms/epoch - 2ms/step\n",
      "Epoch 47/50\n",
      "240/240 - 0s - loss: 0.2670 - 466ms/epoch - 2ms/step\n",
      "Epoch 48/50\n",
      "240/240 - 0s - loss: 0.2660 - 460ms/epoch - 2ms/step\n",
      "Epoch 49/50\n",
      "240/240 - 0s - loss: 0.2663 - 467ms/epoch - 2ms/step\n",
      "Epoch 50/50\n",
      "240/240 - 0s - loss: 0.2653 - 456ms/epoch - 2ms/step\n",
      "57/57 [==============================] - 0s 1ms/step\n",
      "2 Parameters: batch_size: 30 - epochs: 50 Accuracy: log_price    91.345766\n",
      "dtype: float64\n",
      "Epoch 1/100\n",
      "240/240 - 1s - loss: 11.0016 - 787ms/epoch - 3ms/step\n",
      "Epoch 2/100\n",
      "240/240 - 0s - loss: 0.8926 - 473ms/epoch - 2ms/step\n",
      "Epoch 3/100\n",
      "240/240 - 0s - loss: 0.5361 - 461ms/epoch - 2ms/step\n",
      "Epoch 4/100\n",
      "240/240 - 0s - loss: 0.4394 - 462ms/epoch - 2ms/step\n",
      "Epoch 5/100\n",
      "240/240 - 0s - loss: 0.3885 - 469ms/epoch - 2ms/step\n",
      "Epoch 6/100\n",
      "240/240 - 0s - loss: 0.3595 - 457ms/epoch - 2ms/step\n",
      "Epoch 7/100\n",
      "240/240 - 0s - loss: 0.3434 - 462ms/epoch - 2ms/step\n",
      "Epoch 8/100\n",
      "240/240 - 0s - loss: 0.3319 - 468ms/epoch - 2ms/step\n",
      "Epoch 9/100\n",
      "240/240 - 0s - loss: 0.3251 - 476ms/epoch - 2ms/step\n",
      "Epoch 10/100\n",
      "240/240 - 0s - loss: 0.3214 - 447ms/epoch - 2ms/step\n",
      "Epoch 11/100\n",
      "240/240 - 0s - loss: 0.3170 - 455ms/epoch - 2ms/step\n",
      "Epoch 12/100\n",
      "240/240 - 0s - loss: 0.3117 - 465ms/epoch - 2ms/step\n",
      "Epoch 13/100\n",
      "240/240 - 0s - loss: 0.3090 - 460ms/epoch - 2ms/step\n",
      "Epoch 14/100\n",
      "240/240 - 0s - loss: 0.3056 - 467ms/epoch - 2ms/step\n",
      "Epoch 15/100\n",
      "240/240 - 0s - loss: 0.3035 - 467ms/epoch - 2ms/step\n",
      "Epoch 16/100\n",
      "240/240 - 1s - loss: 0.3011 - 506ms/epoch - 2ms/step\n",
      "Epoch 17/100\n",
      "240/240 - 0s - loss: 0.2995 - 452ms/epoch - 2ms/step\n",
      "Epoch 18/100\n",
      "240/240 - 0s - loss: 0.2989 - 468ms/epoch - 2ms/step\n",
      "Epoch 19/100\n",
      "240/240 - 0s - loss: 0.2968 - 455ms/epoch - 2ms/step\n",
      "Epoch 20/100\n",
      "240/240 - 0s - loss: 0.2942 - 480ms/epoch - 2ms/step\n",
      "Epoch 21/100\n",
      "240/240 - 0s - loss: 0.2929 - 453ms/epoch - 2ms/step\n",
      "Epoch 22/100\n",
      "240/240 - 0s - loss: 0.2917 - 473ms/epoch - 2ms/step\n",
      "Epoch 23/100\n",
      "240/240 - 0s - loss: 0.2913 - 459ms/epoch - 2ms/step\n",
      "Epoch 24/100\n",
      "240/240 - 0s - loss: 0.2888 - 467ms/epoch - 2ms/step\n",
      "Epoch 25/100\n",
      "240/240 - 0s - loss: 0.2882 - 478ms/epoch - 2ms/step\n",
      "Epoch 26/100\n",
      "240/240 - 0s - loss: 0.2871 - 466ms/epoch - 2ms/step\n",
      "Epoch 27/100\n",
      "240/240 - 0s - loss: 0.2858 - 487ms/epoch - 2ms/step\n",
      "Epoch 28/100\n",
      "240/240 - 0s - loss: 0.2847 - 494ms/epoch - 2ms/step\n",
      "Epoch 29/100\n",
      "240/240 - 0s - loss: 0.2836 - 467ms/epoch - 2ms/step\n",
      "Epoch 30/100\n",
      "240/240 - 0s - loss: 0.2825 - 464ms/epoch - 2ms/step\n",
      "Epoch 31/100\n",
      "240/240 - 0s - loss: 0.2809 - 463ms/epoch - 2ms/step\n",
      "Epoch 32/100\n",
      "240/240 - 0s - loss: 0.2808 - 465ms/epoch - 2ms/step\n",
      "Epoch 33/100\n",
      "240/240 - 0s - loss: 0.2791 - 469ms/epoch - 2ms/step\n",
      "Epoch 34/100\n",
      "240/240 - 0s - loss: 0.2784 - 458ms/epoch - 2ms/step\n",
      "Epoch 35/100\n",
      "240/240 - 0s - loss: 0.2774 - 472ms/epoch - 2ms/step\n",
      "Epoch 36/100\n",
      "240/240 - 0s - loss: 0.2774 - 459ms/epoch - 2ms/step\n",
      "Epoch 37/100\n",
      "240/240 - 0s - loss: 0.2764 - 474ms/epoch - 2ms/step\n",
      "Epoch 38/100\n",
      "240/240 - 0s - loss: 0.2769 - 457ms/epoch - 2ms/step\n",
      "Epoch 39/100\n",
      "240/240 - 0s - loss: 0.2753 - 452ms/epoch - 2ms/step\n",
      "Epoch 40/100\n",
      "240/240 - 0s - loss: 0.2745 - 476ms/epoch - 2ms/step\n",
      "Epoch 41/100\n",
      "240/240 - 0s - loss: 0.2744 - 463ms/epoch - 2ms/step\n",
      "Epoch 42/100\n",
      "240/240 - 0s - loss: 0.2739 - 462ms/epoch - 2ms/step\n",
      "Epoch 43/100\n",
      "240/240 - 0s - loss: 0.2735 - 459ms/epoch - 2ms/step\n",
      "Epoch 44/100\n",
      "240/240 - 0s - loss: 0.2722 - 467ms/epoch - 2ms/step\n",
      "Epoch 45/100\n",
      "240/240 - 0s - loss: 0.2724 - 460ms/epoch - 2ms/step\n",
      "Epoch 46/100\n",
      "240/240 - 0s - loss: 0.2712 - 457ms/epoch - 2ms/step\n",
      "Epoch 47/100\n",
      "240/240 - 0s - loss: 0.2719 - 475ms/epoch - 2ms/step\n",
      "Epoch 48/100\n",
      "240/240 - 0s - loss: 0.2708 - 472ms/epoch - 2ms/step\n",
      "Epoch 49/100\n",
      "240/240 - 0s - loss: 0.2704 - 456ms/epoch - 2ms/step\n",
      "Epoch 50/100\n",
      "240/240 - 0s - loss: 0.2708 - 473ms/epoch - 2ms/step\n",
      "Epoch 51/100\n",
      "240/240 - 0s - loss: 0.2695 - 455ms/epoch - 2ms/step\n",
      "Epoch 52/100\n",
      "240/240 - 0s - loss: 0.2697 - 480ms/epoch - 2ms/step\n",
      "Epoch 53/100\n",
      "240/240 - 0s - loss: 0.2690 - 472ms/epoch - 2ms/step\n",
      "Epoch 54/100\n",
      "240/240 - 0s - loss: 0.2678 - 462ms/epoch - 2ms/step\n",
      "Epoch 55/100\n",
      "240/240 - 0s - loss: 0.2676 - 453ms/epoch - 2ms/step\n",
      "Epoch 56/100\n",
      "240/240 - 0s - loss: 0.2672 - 454ms/epoch - 2ms/step\n",
      "Epoch 57/100\n",
      "240/240 - 0s - loss: 0.2660 - 464ms/epoch - 2ms/step\n",
      "Epoch 58/100\n",
      "240/240 - 0s - loss: 0.2654 - 454ms/epoch - 2ms/step\n",
      "Epoch 59/100\n",
      "240/240 - 0s - loss: 0.2647 - 467ms/epoch - 2ms/step\n",
      "Epoch 60/100\n",
      "240/240 - 0s - loss: 0.2639 - 464ms/epoch - 2ms/step\n",
      "Epoch 61/100\n",
      "240/240 - 0s - loss: 0.2636 - 482ms/epoch - 2ms/step\n",
      "Epoch 62/100\n",
      "240/240 - 0s - loss: 0.2634 - 457ms/epoch - 2ms/step\n",
      "Epoch 63/100\n",
      "240/240 - 0s - loss: 0.2621 - 451ms/epoch - 2ms/step\n",
      "Epoch 64/100\n",
      "240/240 - 0s - loss: 0.2616 - 463ms/epoch - 2ms/step\n",
      "Epoch 65/100\n",
      "240/240 - 0s - loss: 0.2612 - 464ms/epoch - 2ms/step\n",
      "Epoch 66/100\n",
      "240/240 - 1s - loss: 0.2612 - 507ms/epoch - 2ms/step\n",
      "Epoch 67/100\n",
      "240/240 - 0s - loss: 0.2616 - 468ms/epoch - 2ms/step\n",
      "Epoch 68/100\n",
      "240/240 - 0s - loss: 0.2610 - 484ms/epoch - 2ms/step\n",
      "Epoch 69/100\n",
      "240/240 - 0s - loss: 0.2610 - 470ms/epoch - 2ms/step\n",
      "Epoch 70/100\n",
      "240/240 - 0s - loss: 0.2599 - 496ms/epoch - 2ms/step\n",
      "Epoch 71/100\n",
      "240/240 - 0s - loss: 0.2593 - 471ms/epoch - 2ms/step\n",
      "Epoch 72/100\n",
      "240/240 - 0s - loss: 0.2595 - 474ms/epoch - 2ms/step\n",
      "Epoch 73/100\n",
      "240/240 - 1s - loss: 0.2598 - 543ms/epoch - 2ms/step\n",
      "Epoch 74/100\n",
      "240/240 - 1s - loss: 0.2591 - 671ms/epoch - 3ms/step\n",
      "Epoch 75/100\n",
      "240/240 - 1s - loss: 0.2591 - 694ms/epoch - 3ms/step\n",
      "Epoch 76/100\n",
      "240/240 - 1s - loss: 0.2587 - 682ms/epoch - 3ms/step\n",
      "Epoch 77/100\n",
      "240/240 - 1s - loss: 0.2594 - 675ms/epoch - 3ms/step\n",
      "Epoch 78/100\n",
      "240/240 - 1s - loss: 0.2589 - 576ms/epoch - 2ms/step\n",
      "Epoch 79/100\n",
      "240/240 - 0s - loss: 0.2588 - 467ms/epoch - 2ms/step\n",
      "Epoch 80/100\n",
      "240/240 - 0s - loss: 0.2582 - 465ms/epoch - 2ms/step\n",
      "Epoch 81/100\n",
      "240/240 - 1s - loss: 0.2581 - 509ms/epoch - 2ms/step\n",
      "Epoch 82/100\n",
      "240/240 - 0s - loss: 0.2584 - 491ms/epoch - 2ms/step\n",
      "Epoch 83/100\n",
      "240/240 - 0s - loss: 0.2575 - 487ms/epoch - 2ms/step\n",
      "Epoch 84/100\n",
      "240/240 - 0s - loss: 0.2586 - 441ms/epoch - 2ms/step\n",
      "Epoch 85/100\n",
      "240/240 - 0s - loss: 0.2574 - 467ms/epoch - 2ms/step\n",
      "Epoch 86/100\n",
      "240/240 - 0s - loss: 0.2579 - 460ms/epoch - 2ms/step\n",
      "Epoch 87/100\n",
      "240/240 - 0s - loss: 0.2567 - 469ms/epoch - 2ms/step\n",
      "Epoch 88/100\n",
      "240/240 - 0s - loss: 0.2564 - 452ms/epoch - 2ms/step\n",
      "Epoch 89/100\n",
      "240/240 - 0s - loss: 0.2564 - 464ms/epoch - 2ms/step\n",
      "Epoch 90/100\n",
      "240/240 - 0s - loss: 0.2559 - 478ms/epoch - 2ms/step\n",
      "Epoch 91/100\n",
      "240/240 - 0s - loss: 0.2559 - 455ms/epoch - 2ms/step\n",
      "Epoch 92/100\n",
      "240/240 - 0s - loss: 0.2561 - 459ms/epoch - 2ms/step\n",
      "Epoch 93/100\n",
      "240/240 - 0s - loss: 0.2547 - 464ms/epoch - 2ms/step\n",
      "Epoch 94/100\n",
      "240/240 - 0s - loss: 0.2553 - 470ms/epoch - 2ms/step\n",
      "Epoch 95/100\n",
      "240/240 - 0s - loss: 0.2554 - 449ms/epoch - 2ms/step\n",
      "Epoch 96/100\n",
      "240/240 - 0s - loss: 0.2541 - 471ms/epoch - 2ms/step\n",
      "Epoch 97/100\n",
      "240/240 - 0s - loss: 0.2535 - 457ms/epoch - 2ms/step\n",
      "Epoch 98/100\n",
      "240/240 - 0s - loss: 0.2542 - 481ms/epoch - 2ms/step\n",
      "Epoch 99/100\n",
      "240/240 - 0s - loss: 0.2540 - 479ms/epoch - 2ms/step\n",
      "Epoch 100/100\n",
      "240/240 - 0s - loss: 0.2535 - 474ms/epoch - 2ms/step\n",
      "57/57 [==============================] - 0s 1ms/step\n",
      "3 Parameters: batch_size: 30 - epochs: 100 Accuracy: log_price    91.449003\n",
      "dtype: float64\n",
      "Epoch 1/10\n",
      "144/144 - 1s - loss: 14.1907 - 617ms/epoch - 4ms/step\n",
      "Epoch 2/10\n",
      "144/144 - 0s - loss: 2.8862 - 290ms/epoch - 2ms/step\n",
      "Epoch 3/10\n",
      "144/144 - 0s - loss: 0.6920 - 289ms/epoch - 2ms/step\n",
      "Epoch 4/10\n",
      "144/144 - 0s - loss: 0.4702 - 296ms/epoch - 2ms/step\n",
      "Epoch 5/10\n",
      "144/144 - 0s - loss: 0.3977 - 277ms/epoch - 2ms/step\n",
      "Epoch 6/10\n",
      "144/144 - 0s - loss: 0.3616 - 290ms/epoch - 2ms/step\n",
      "Epoch 7/10\n",
      "144/144 - 0s - loss: 0.3388 - 291ms/epoch - 2ms/step\n",
      "Epoch 8/10\n",
      "144/144 - 0s - loss: 0.3246 - 270ms/epoch - 2ms/step\n",
      "Epoch 9/10\n",
      "144/144 - 0s - loss: 0.3157 - 277ms/epoch - 2ms/step\n",
      "Epoch 10/10\n",
      "144/144 - 0s - loss: 0.3090 - 297ms/epoch - 2ms/step\n",
      "57/57 [==============================] - 0s 1ms/step\n",
      "4 Parameters: batch_size: 50 - epochs: 10 Accuracy: log_price    90.565094\n",
      "dtype: float64\n",
      "Epoch 1/50\n",
      "144/144 - 1s - loss: 14.9060 - 588ms/epoch - 4ms/step\n",
      "Epoch 2/50\n",
      "144/144 - 0s - loss: 4.8735 - 291ms/epoch - 2ms/step\n",
      "Epoch 3/50\n",
      "144/144 - 0s - loss: 0.9699 - 284ms/epoch - 2ms/step\n",
      "Epoch 4/50\n",
      "144/144 - 0s - loss: 0.6053 - 275ms/epoch - 2ms/step\n",
      "Epoch 5/50\n",
      "144/144 - 0s - loss: 0.4941 - 279ms/epoch - 2ms/step\n",
      "Epoch 6/50\n",
      "144/144 - 0s - loss: 0.4367 - 276ms/epoch - 2ms/step\n",
      "Epoch 7/50\n",
      "144/144 - 0s - loss: 0.4004 - 272ms/epoch - 2ms/step\n",
      "Epoch 8/50\n",
      "144/144 - 0s - loss: 0.3742 - 274ms/epoch - 2ms/step\n",
      "Epoch 9/50\n",
      "144/144 - 0s - loss: 0.3555 - 279ms/epoch - 2ms/step\n",
      "Epoch 10/50\n",
      "144/144 - 0s - loss: 0.3400 - 281ms/epoch - 2ms/step\n",
      "Epoch 11/50\n",
      "144/144 - 0s - loss: 0.3287 - 272ms/epoch - 2ms/step\n",
      "Epoch 12/50\n",
      "144/144 - 0s - loss: 0.3189 - 273ms/epoch - 2ms/step\n",
      "Epoch 13/50\n",
      "144/144 - 0s - loss: 0.3116 - 291ms/epoch - 2ms/step\n",
      "Epoch 14/50\n",
      "144/144 - 0s - loss: 0.3048 - 284ms/epoch - 2ms/step\n",
      "Epoch 15/50\n",
      "144/144 - 0s - loss: 0.2975 - 270ms/epoch - 2ms/step\n",
      "Epoch 16/50\n",
      "144/144 - 0s - loss: 0.2935 - 270ms/epoch - 2ms/step\n",
      "Epoch 17/50\n",
      "144/144 - 0s - loss: 0.2903 - 282ms/epoch - 2ms/step\n",
      "Epoch 18/50\n",
      "144/144 - 0s - loss: 0.2877 - 268ms/epoch - 2ms/step\n",
      "Epoch 19/50\n",
      "144/144 - 0s - loss: 0.2861 - 294ms/epoch - 2ms/step\n",
      "Epoch 20/50\n",
      "144/144 - 0s - loss: 0.2833 - 300ms/epoch - 2ms/step\n",
      "Epoch 21/50\n",
      "144/144 - 0s - loss: 0.2821 - 298ms/epoch - 2ms/step\n",
      "Epoch 22/50\n",
      "144/144 - 0s - loss: 0.2816 - 285ms/epoch - 2ms/step\n",
      "Epoch 23/50\n",
      "144/144 - 0s - loss: 0.2799 - 271ms/epoch - 2ms/step\n",
      "Epoch 24/50\n",
      "144/144 - 0s - loss: 0.2786 - 286ms/epoch - 2ms/step\n",
      "Epoch 25/50\n",
      "144/144 - 0s - loss: 0.2770 - 281ms/epoch - 2ms/step\n",
      "Epoch 26/50\n",
      "144/144 - 0s - loss: 0.2769 - 284ms/epoch - 2ms/step\n",
      "Epoch 27/50\n",
      "144/144 - 0s - loss: 0.2755 - 284ms/epoch - 2ms/step\n",
      "Epoch 28/50\n",
      "144/144 - 0s - loss: 0.2749 - 278ms/epoch - 2ms/step\n",
      "Epoch 29/50\n",
      "144/144 - 0s - loss: 0.2749 - 283ms/epoch - 2ms/step\n",
      "Epoch 30/50\n",
      "144/144 - 0s - loss: 0.2744 - 286ms/epoch - 2ms/step\n",
      "Epoch 31/50\n",
      "144/144 - 0s - loss: 0.2729 - 289ms/epoch - 2ms/step\n",
      "Epoch 32/50\n",
      "144/144 - 0s - loss: 0.2730 - 279ms/epoch - 2ms/step\n",
      "Epoch 33/50\n",
      "144/144 - 0s - loss: 0.2709 - 277ms/epoch - 2ms/step\n",
      "Epoch 34/50\n",
      "144/144 - 0s - loss: 0.2709 - 288ms/epoch - 2ms/step\n",
      "Epoch 35/50\n",
      "144/144 - 0s - loss: 0.2704 - 318ms/epoch - 2ms/step\n",
      "Epoch 36/50\n",
      "144/144 - 0s - loss: 0.2704 - 299ms/epoch - 2ms/step\n",
      "Epoch 37/50\n",
      "144/144 - 0s - loss: 0.2711 - 290ms/epoch - 2ms/step\n",
      "Epoch 38/50\n",
      "144/144 - 0s - loss: 0.2695 - 285ms/epoch - 2ms/step\n",
      "Epoch 39/50\n",
      "144/144 - 0s - loss: 0.2704 - 293ms/epoch - 2ms/step\n",
      "Epoch 40/50\n",
      "144/144 - 0s - loss: 0.2689 - 278ms/epoch - 2ms/step\n",
      "Epoch 41/50\n",
      "144/144 - 0s - loss: 0.2694 - 286ms/epoch - 2ms/step\n",
      "Epoch 42/50\n",
      "144/144 - 0s - loss: 0.2675 - 283ms/epoch - 2ms/step\n",
      "Epoch 43/50\n",
      "144/144 - 0s - loss: 0.2687 - 269ms/epoch - 2ms/step\n",
      "Epoch 44/50\n",
      "144/144 - 0s - loss: 0.2673 - 294ms/epoch - 2ms/step\n",
      "Epoch 45/50\n",
      "144/144 - 0s - loss: 0.2674 - 300ms/epoch - 2ms/step\n",
      "Epoch 46/50\n",
      "144/144 - 0s - loss: 0.2679 - 280ms/epoch - 2ms/step\n",
      "Epoch 47/50\n",
      "144/144 - 0s - loss: 0.2671 - 282ms/epoch - 2ms/step\n",
      "Epoch 48/50\n",
      "144/144 - 0s - loss: 0.2671 - 283ms/epoch - 2ms/step\n",
      "Epoch 49/50\n",
      "144/144 - 0s - loss: 0.2674 - 281ms/epoch - 2ms/step\n",
      "Epoch 50/50\n",
      "144/144 - 0s - loss: 0.2664 - 275ms/epoch - 2ms/step\n",
      "57/57 [==============================] - 0s 1ms/step\n",
      "5 Parameters: batch_size: 50 - epochs: 50 Accuracy: log_price    91.456275\n",
      "dtype: float64\n",
      "Epoch 1/100\n",
      "144/144 - 1s - loss: 15.5712 - 606ms/epoch - 4ms/step\n",
      "Epoch 2/100\n",
      "144/144 - 0s - loss: 6.6741 - 279ms/epoch - 2ms/step\n",
      "Epoch 3/100\n",
      "144/144 - 0s - loss: 1.1216 - 289ms/epoch - 2ms/step\n",
      "Epoch 4/100\n",
      "144/144 - 0s - loss: 0.7324 - 282ms/epoch - 2ms/step\n",
      "Epoch 5/100\n",
      "144/144 - 0s - loss: 0.5684 - 277ms/epoch - 2ms/step\n",
      "Epoch 6/100\n",
      "144/144 - 0s - loss: 0.4828 - 281ms/epoch - 2ms/step\n",
      "Epoch 7/100\n",
      "144/144 - 0s - loss: 0.4316 - 285ms/epoch - 2ms/step\n",
      "Epoch 8/100\n",
      "144/144 - 0s - loss: 0.3944 - 289ms/epoch - 2ms/step\n",
      "Epoch 9/100\n",
      "144/144 - 0s - loss: 0.3674 - 277ms/epoch - 2ms/step\n",
      "Epoch 10/100\n",
      "144/144 - 0s - loss: 0.3473 - 281ms/epoch - 2ms/step\n",
      "Epoch 11/100\n",
      "144/144 - 0s - loss: 0.3312 - 278ms/epoch - 2ms/step\n",
      "Epoch 12/100\n",
      "144/144 - 0s - loss: 0.3196 - 287ms/epoch - 2ms/step\n",
      "Epoch 13/100\n",
      "144/144 - 0s - loss: 0.3085 - 289ms/epoch - 2ms/step\n",
      "Epoch 14/100\n",
      "144/144 - 0s - loss: 0.3012 - 289ms/epoch - 2ms/step\n",
      "Epoch 15/100\n",
      "144/144 - 0s - loss: 0.2966 - 286ms/epoch - 2ms/step\n",
      "Epoch 16/100\n",
      "144/144 - 0s - loss: 0.2924 - 274ms/epoch - 2ms/step\n",
      "Epoch 17/100\n",
      "144/144 - 0s - loss: 0.2902 - 278ms/epoch - 2ms/step\n",
      "Epoch 18/100\n",
      "144/144 - 0s - loss: 0.2882 - 272ms/epoch - 2ms/step\n",
      "Epoch 19/100\n",
      "144/144 - 0s - loss: 0.2868 - 292ms/epoch - 2ms/step\n",
      "Epoch 20/100\n",
      "144/144 - 0s - loss: 0.2854 - 285ms/epoch - 2ms/step\n",
      "Epoch 21/100\n",
      "144/144 - 0s - loss: 0.2835 - 293ms/epoch - 2ms/step\n",
      "Epoch 22/100\n",
      "144/144 - 0s - loss: 0.2825 - 287ms/epoch - 2ms/step\n",
      "Epoch 23/100\n",
      "144/144 - 0s - loss: 0.2815 - 281ms/epoch - 2ms/step\n",
      "Epoch 24/100\n",
      "144/144 - 0s - loss: 0.2810 - 298ms/epoch - 2ms/step\n",
      "Epoch 25/100\n",
      "144/144 - 0s - loss: 0.2789 - 284ms/epoch - 2ms/step\n",
      "Epoch 26/100\n",
      "144/144 - 0s - loss: 0.2790 - 285ms/epoch - 2ms/step\n",
      "Epoch 27/100\n",
      "144/144 - 0s - loss: 0.2781 - 282ms/epoch - 2ms/step\n",
      "Epoch 28/100\n",
      "144/144 - 0s - loss: 0.2777 - 289ms/epoch - 2ms/step\n",
      "Epoch 29/100\n",
      "144/144 - 0s - loss: 0.2770 - 282ms/epoch - 2ms/step\n",
      "Epoch 30/100\n",
      "144/144 - 0s - loss: 0.2763 - 276ms/epoch - 2ms/step\n",
      "Epoch 31/100\n",
      "144/144 - 0s - loss: 0.2756 - 297ms/epoch - 2ms/step\n",
      "Epoch 32/100\n",
      "144/144 - 0s - loss: 0.2755 - 292ms/epoch - 2ms/step\n",
      "Epoch 33/100\n",
      "144/144 - 0s - loss: 0.2748 - 274ms/epoch - 2ms/step\n",
      "Epoch 34/100\n",
      "144/144 - 0s - loss: 0.2737 - 270ms/epoch - 2ms/step\n",
      "Epoch 35/100\n",
      "144/144 - 0s - loss: 0.2739 - 285ms/epoch - 2ms/step\n",
      "Epoch 36/100\n",
      "144/144 - 0s - loss: 0.2732 - 279ms/epoch - 2ms/step\n",
      "Epoch 37/100\n",
      "144/144 - 0s - loss: 0.2726 - 276ms/epoch - 2ms/step\n",
      "Epoch 38/100\n",
      "144/144 - 0s - loss: 0.2733 - 276ms/epoch - 2ms/step\n",
      "Epoch 39/100\n",
      "144/144 - 0s - loss: 0.2721 - 293ms/epoch - 2ms/step\n",
      "Epoch 40/100\n",
      "144/144 - 0s - loss: 0.2720 - 277ms/epoch - 2ms/step\n",
      "Epoch 41/100\n",
      "144/144 - 0s - loss: 0.2702 - 269ms/epoch - 2ms/step\n",
      "Epoch 42/100\n",
      "144/144 - 0s - loss: 0.2709 - 284ms/epoch - 2ms/step\n",
      "Epoch 43/100\n",
      "144/144 - 0s - loss: 0.2702 - 286ms/epoch - 2ms/step\n",
      "Epoch 44/100\n",
      "144/144 - 0s - loss: 0.2706 - 287ms/epoch - 2ms/step\n",
      "Epoch 45/100\n",
      "144/144 - 0s - loss: 0.2698 - 273ms/epoch - 2ms/step\n",
      "Epoch 46/100\n",
      "144/144 - 0s - loss: 0.2709 - 297ms/epoch - 2ms/step\n",
      "Epoch 47/100\n",
      "144/144 - 0s - loss: 0.2683 - 278ms/epoch - 2ms/step\n",
      "Epoch 48/100\n",
      "144/144 - 0s - loss: 0.2683 - 273ms/epoch - 2ms/step\n",
      "Epoch 49/100\n",
      "144/144 - 0s - loss: 0.2685 - 291ms/epoch - 2ms/step\n",
      "Epoch 50/100\n",
      "144/144 - 0s - loss: 0.2671 - 289ms/epoch - 2ms/step\n",
      "Epoch 51/100\n",
      "144/144 - 0s - loss: 0.2666 - 279ms/epoch - 2ms/step\n",
      "Epoch 52/100\n",
      "144/144 - 0s - loss: 0.2676 - 287ms/epoch - 2ms/step\n",
      "Epoch 53/100\n",
      "144/144 - 0s - loss: 0.2666 - 294ms/epoch - 2ms/step\n",
      "Epoch 54/100\n",
      "144/144 - 0s - loss: 0.2660 - 313ms/epoch - 2ms/step\n",
      "Epoch 55/100\n",
      "144/144 - 0s - loss: 0.2659 - 416ms/epoch - 3ms/step\n",
      "Epoch 56/100\n",
      "144/144 - 0s - loss: 0.2663 - 417ms/epoch - 3ms/step\n",
      "Epoch 57/100\n",
      "144/144 - 0s - loss: 0.2666 - 401ms/epoch - 3ms/step\n",
      "Epoch 58/100\n",
      "144/144 - 0s - loss: 0.2648 - 407ms/epoch - 3ms/step\n",
      "Epoch 59/100\n",
      "144/144 - 0s - loss: 0.2649 - 414ms/epoch - 3ms/step\n",
      "Epoch 60/100\n",
      "144/144 - 0s - loss: 0.2652 - 410ms/epoch - 3ms/step\n",
      "Epoch 61/100\n",
      "144/144 - 0s - loss: 0.2643 - 411ms/epoch - 3ms/step\n",
      "Epoch 62/100\n",
      "144/144 - 0s - loss: 0.2649 - 391ms/epoch - 3ms/step\n",
      "Epoch 63/100\n",
      "144/144 - 0s - loss: 0.2639 - 284ms/epoch - 2ms/step\n",
      "Epoch 64/100\n",
      "144/144 - 0s - loss: 0.2645 - 298ms/epoch - 2ms/step\n",
      "Epoch 65/100\n",
      "144/144 - 0s - loss: 0.2638 - 287ms/epoch - 2ms/step\n",
      "Epoch 66/100\n",
      "144/144 - 0s - loss: 0.2643 - 284ms/epoch - 2ms/step\n",
      "Epoch 67/100\n",
      "144/144 - 0s - loss: 0.2647 - 293ms/epoch - 2ms/step\n",
      "Epoch 68/100\n",
      "144/144 - 0s - loss: 0.2638 - 280ms/epoch - 2ms/step\n",
      "Epoch 69/100\n",
      "144/144 - 0s - loss: 0.2633 - 281ms/epoch - 2ms/step\n",
      "Epoch 70/100\n",
      "144/144 - 0s - loss: 0.2626 - 281ms/epoch - 2ms/step\n",
      "Epoch 71/100\n",
      "144/144 - 0s - loss: 0.2629 - 301ms/epoch - 2ms/step\n",
      "Epoch 72/100\n",
      "144/144 - 0s - loss: 0.2621 - 285ms/epoch - 2ms/step\n",
      "Epoch 73/100\n",
      "144/144 - 0s - loss: 0.2630 - 286ms/epoch - 2ms/step\n",
      "Epoch 74/100\n",
      "144/144 - 0s - loss: 0.2621 - 296ms/epoch - 2ms/step\n",
      "Epoch 75/100\n",
      "144/144 - 0s - loss: 0.2625 - 279ms/epoch - 2ms/step\n",
      "Epoch 76/100\n",
      "144/144 - 0s - loss: 0.2614 - 276ms/epoch - 2ms/step\n",
      "Epoch 77/100\n",
      "144/144 - 0s - loss: 0.2619 - 294ms/epoch - 2ms/step\n",
      "Epoch 78/100\n",
      "144/144 - 0s - loss: 0.2620 - 287ms/epoch - 2ms/step\n",
      "Epoch 79/100\n",
      "144/144 - 0s - loss: 0.2612 - 276ms/epoch - 2ms/step\n",
      "Epoch 80/100\n",
      "144/144 - 0s - loss: 0.2614 - 274ms/epoch - 2ms/step\n",
      "Epoch 81/100\n",
      "144/144 - 0s - loss: 0.2609 - 294ms/epoch - 2ms/step\n",
      "Epoch 82/100\n",
      "144/144 - 0s - loss: 0.2613 - 272ms/epoch - 2ms/step\n",
      "Epoch 83/100\n",
      "144/144 - 0s - loss: 0.2611 - 270ms/epoch - 2ms/step\n",
      "Epoch 84/100\n",
      "144/144 - 0s - loss: 0.2619 - 272ms/epoch - 2ms/step\n",
      "Epoch 85/100\n",
      "144/144 - 0s - loss: 0.2606 - 286ms/epoch - 2ms/step\n",
      "Epoch 86/100\n",
      "144/144 - 0s - loss: 0.2611 - 268ms/epoch - 2ms/step\n",
      "Epoch 87/100\n",
      "144/144 - 0s - loss: 0.2604 - 273ms/epoch - 2ms/step\n",
      "Epoch 88/100\n",
      "144/144 - 0s - loss: 0.2601 - 315ms/epoch - 2ms/step\n",
      "Epoch 89/100\n",
      "144/144 - 0s - loss: 0.2597 - 283ms/epoch - 2ms/step\n",
      "Epoch 90/100\n",
      "144/144 - 0s - loss: 0.2600 - 275ms/epoch - 2ms/step\n",
      "Epoch 91/100\n",
      "144/144 - 0s - loss: 0.2597 - 281ms/epoch - 2ms/step\n",
      "Epoch 92/100\n",
      "144/144 - 0s - loss: 0.2602 - 289ms/epoch - 2ms/step\n",
      "Epoch 93/100\n",
      "144/144 - 0s - loss: 0.2600 - 276ms/epoch - 2ms/step\n",
      "Epoch 94/100\n",
      "144/144 - 0s - loss: 0.2598 - 301ms/epoch - 2ms/step\n",
      "Epoch 95/100\n",
      "144/144 - 0s - loss: 0.2590 - 306ms/epoch - 2ms/step\n",
      "Epoch 96/100\n",
      "144/144 - 0s - loss: 0.2596 - 278ms/epoch - 2ms/step\n",
      "Epoch 97/100\n",
      "144/144 - 0s - loss: 0.2596 - 279ms/epoch - 2ms/step\n",
      "Epoch 98/100\n",
      "144/144 - 0s - loss: 0.2591 - 285ms/epoch - 2ms/step\n",
      "Epoch 99/100\n",
      "144/144 - 0s - loss: 0.2590 - 303ms/epoch - 2ms/step\n",
      "Epoch 100/100\n",
      "144/144 - 0s - loss: 0.2584 - 279ms/epoch - 2ms/step\n",
      "57/57 [==============================] - 0s 1ms/step\n",
      "6 Parameters: batch_size: 50 - epochs: 100 Accuracy: log_price    91.466252\n",
      "dtype: float64\n",
      "Epoch 1/10\n",
      "72/72 - 0s - loss: 16.1472 - 469ms/epoch - 7ms/step\n",
      "Epoch 2/10\n",
      "72/72 - 0s - loss: 13.7523 - 137ms/epoch - 2ms/step\n",
      "Epoch 3/10\n",
      "72/72 - 0s - loss: 6.8197 - 135ms/epoch - 2ms/step\n",
      "Epoch 4/10\n",
      "72/72 - 0s - loss: 1.9488 - 147ms/epoch - 2ms/step\n",
      "Epoch 5/10\n",
      "72/72 - 0s - loss: 1.0481 - 141ms/epoch - 2ms/step\n",
      "Epoch 6/10\n",
      "72/72 - 0s - loss: 0.7817 - 146ms/epoch - 2ms/step\n",
      "Epoch 7/10\n",
      "72/72 - 0s - loss: 0.6446 - 152ms/epoch - 2ms/step\n",
      "Epoch 8/10\n",
      "72/72 - 0s - loss: 0.5649 - 148ms/epoch - 2ms/step\n",
      "Epoch 9/10\n",
      "72/72 - 0s - loss: 0.5124 - 142ms/epoch - 2ms/step\n",
      "Epoch 10/10\n",
      "72/72 - 0s - loss: 0.4754 - 143ms/epoch - 2ms/step\n",
      "57/57 [==============================] - 0s 1ms/step\n",
      "7 Parameters: batch_size: 100 - epochs: 10 Accuracy: log_price    88.323459\n",
      "dtype: float64\n",
      "Epoch 1/50\n",
      "72/72 - 0s - loss: 16.2500 - 457ms/epoch - 6ms/step\n",
      "Epoch 2/50\n",
      "72/72 - 0s - loss: 15.0778 - 144ms/epoch - 2ms/step\n",
      "Epoch 3/50\n",
      "72/72 - 0s - loss: 10.4421 - 143ms/epoch - 2ms/step\n",
      "Epoch 4/50\n",
      "72/72 - 0s - loss: 4.5020 - 137ms/epoch - 2ms/step\n",
      "Epoch 5/50\n",
      "72/72 - 0s - loss: 1.8823 - 149ms/epoch - 2ms/step\n",
      "Epoch 6/50\n",
      "72/72 - 0s - loss: 1.0335 - 150ms/epoch - 2ms/step\n",
      "Epoch 7/50\n",
      "72/72 - 0s - loss: 0.7808 - 142ms/epoch - 2ms/step\n",
      "Epoch 8/50\n",
      "72/72 - 0s - loss: 0.6553 - 143ms/epoch - 2ms/step\n",
      "Epoch 9/50\n",
      "72/72 - 0s - loss: 0.5584 - 145ms/epoch - 2ms/step\n",
      "Epoch 10/50\n",
      "72/72 - 0s - loss: 0.4969 - 138ms/epoch - 2ms/step\n",
      "Epoch 11/50\n",
      "72/72 - 0s - loss: 0.4586 - 140ms/epoch - 2ms/step\n",
      "Epoch 12/50\n",
      "72/72 - 0s - loss: 0.4271 - 149ms/epoch - 2ms/step\n",
      "Epoch 13/50\n",
      "72/72 - 0s - loss: 0.4019 - 144ms/epoch - 2ms/step\n",
      "Epoch 14/50\n",
      "72/72 - 0s - loss: 0.3836 - 136ms/epoch - 2ms/step\n",
      "Epoch 15/50\n",
      "72/72 - 0s - loss: 0.3706 - 143ms/epoch - 2ms/step\n",
      "Epoch 16/50\n",
      "72/72 - 0s - loss: 0.3608 - 157ms/epoch - 2ms/step\n",
      "Epoch 17/50\n",
      "72/72 - 0s - loss: 0.3539 - 141ms/epoch - 2ms/step\n",
      "Epoch 18/50\n",
      "72/72 - 0s - loss: 0.3474 - 138ms/epoch - 2ms/step\n",
      "Epoch 19/50\n",
      "72/72 - 0s - loss: 0.3424 - 146ms/epoch - 2ms/step\n",
      "Epoch 20/50\n",
      "72/72 - 0s - loss: 0.3388 - 164ms/epoch - 2ms/step\n",
      "Epoch 21/50\n",
      "72/72 - 0s - loss: 0.3360 - 142ms/epoch - 2ms/step\n",
      "Epoch 22/50\n",
      "72/72 - 0s - loss: 0.3330 - 141ms/epoch - 2ms/step\n",
      "Epoch 23/50\n",
      "72/72 - 0s - loss: 0.3309 - 140ms/epoch - 2ms/step\n",
      "Epoch 24/50\n",
      "72/72 - 0s - loss: 0.3284 - 146ms/epoch - 2ms/step\n",
      "Epoch 25/50\n",
      "72/72 - 0s - loss: 0.3268 - 139ms/epoch - 2ms/step\n",
      "Epoch 26/50\n",
      "72/72 - 0s - loss: 0.3249 - 144ms/epoch - 2ms/step\n",
      "Epoch 27/50\n",
      "72/72 - 0s - loss: 0.3234 - 151ms/epoch - 2ms/step\n",
      "Epoch 28/50\n",
      "72/72 - 0s - loss: 0.3223 - 141ms/epoch - 2ms/step\n",
      "Epoch 29/50\n",
      "72/72 - 0s - loss: 0.3209 - 144ms/epoch - 2ms/step\n",
      "Epoch 30/50\n",
      "72/72 - 0s - loss: 0.3192 - 142ms/epoch - 2ms/step\n",
      "Epoch 31/50\n",
      "72/72 - 0s - loss: 0.3188 - 144ms/epoch - 2ms/step\n",
      "Epoch 32/50\n",
      "72/72 - 0s - loss: 0.3179 - 141ms/epoch - 2ms/step\n",
      "Epoch 33/50\n",
      "72/72 - 0s - loss: 0.3163 - 145ms/epoch - 2ms/step\n",
      "Epoch 34/50\n",
      "72/72 - 0s - loss: 0.3159 - 153ms/epoch - 2ms/step\n",
      "Epoch 35/50\n",
      "72/72 - 0s - loss: 0.3140 - 139ms/epoch - 2ms/step\n",
      "Epoch 36/50\n",
      "72/72 - 0s - loss: 0.3134 - 144ms/epoch - 2ms/step\n",
      "Epoch 37/50\n",
      "72/72 - 0s - loss: 0.3130 - 138ms/epoch - 2ms/step\n",
      "Epoch 38/50\n",
      "72/72 - 0s - loss: 0.3119 - 137ms/epoch - 2ms/step\n",
      "Epoch 39/50\n",
      "72/72 - 0s - loss: 0.3115 - 156ms/epoch - 2ms/step\n",
      "Epoch 40/50\n",
      "72/72 - 0s - loss: 0.3112 - 166ms/epoch - 2ms/step\n",
      "Epoch 41/50\n",
      "72/72 - 0s - loss: 0.3100 - 144ms/epoch - 2ms/step\n",
      "Epoch 42/50\n",
      "72/72 - 0s - loss: 0.3095 - 139ms/epoch - 2ms/step\n",
      "Epoch 43/50\n",
      "72/72 - 0s - loss: 0.3086 - 146ms/epoch - 2ms/step\n",
      "Epoch 44/50\n",
      "72/72 - 0s - loss: 0.3083 - 143ms/epoch - 2ms/step\n",
      "Epoch 45/50\n",
      "72/72 - 0s - loss: 0.3074 - 143ms/epoch - 2ms/step\n",
      "Epoch 46/50\n",
      "72/72 - 0s - loss: 0.3071 - 139ms/epoch - 2ms/step\n",
      "Epoch 47/50\n",
      "72/72 - 0s - loss: 0.3059 - 149ms/epoch - 2ms/step\n",
      "Epoch 48/50\n",
      "72/72 - 0s - loss: 0.3056 - 138ms/epoch - 2ms/step\n",
      "Epoch 49/50\n",
      "72/72 - 0s - loss: 0.3046 - 141ms/epoch - 2ms/step\n",
      "Epoch 50/50\n",
      "72/72 - 0s - loss: 0.3047 - 145ms/epoch - 2ms/step\n",
      "57/57 [==============================] - 0s 1ms/step\n",
      "8 Parameters: batch_size: 100 - epochs: 50 Accuracy: log_price    90.835255\n",
      "dtype: float64\n",
      "Epoch 1/100\n",
      "72/72 - 0s - loss: 15.9575 - 488ms/epoch - 7ms/step\n",
      "Epoch 2/100\n",
      "72/72 - 0s - loss: 12.6714 - 137ms/epoch - 2ms/step\n",
      "Epoch 3/100\n",
      "72/72 - 0s - loss: 5.1124 - 134ms/epoch - 2ms/step\n",
      "Epoch 4/100\n",
      "72/72 - 0s - loss: 1.2389 - 144ms/epoch - 2ms/step\n",
      "Epoch 5/100\n",
      "72/72 - 0s - loss: 0.7880 - 139ms/epoch - 2ms/step\n",
      "Epoch 6/100\n",
      "72/72 - 0s - loss: 0.6459 - 136ms/epoch - 2ms/step\n",
      "Epoch 7/100\n",
      "72/72 - 0s - loss: 0.5617 - 159ms/epoch - 2ms/step\n",
      "Epoch 8/100\n",
      "72/72 - 0s - loss: 0.5041 - 140ms/epoch - 2ms/step\n",
      "Epoch 9/100\n",
      "72/72 - 0s - loss: 0.4601 - 141ms/epoch - 2ms/step\n",
      "Epoch 10/100\n",
      "72/72 - 0s - loss: 0.4281 - 142ms/epoch - 2ms/step\n",
      "Epoch 11/100\n",
      "72/72 - 0s - loss: 0.4024 - 141ms/epoch - 2ms/step\n",
      "Epoch 12/100\n",
      "72/72 - 0s - loss: 0.3810 - 147ms/epoch - 2ms/step\n",
      "Epoch 13/100\n",
      "72/72 - 0s - loss: 0.3627 - 143ms/epoch - 2ms/step\n",
      "Epoch 14/100\n",
      "72/72 - 0s - loss: 0.3477 - 150ms/epoch - 2ms/step\n",
      "Epoch 15/100\n",
      "72/72 - 0s - loss: 0.3355 - 148ms/epoch - 2ms/step\n",
      "Epoch 16/100\n",
      "72/72 - 0s - loss: 0.3260 - 143ms/epoch - 2ms/step\n",
      "Epoch 17/100\n",
      "72/72 - 0s - loss: 0.3170 - 144ms/epoch - 2ms/step\n",
      "Epoch 18/100\n",
      "72/72 - 0s - loss: 0.3090 - 145ms/epoch - 2ms/step\n",
      "Epoch 19/100\n",
      "72/72 - 0s - loss: 0.3043 - 138ms/epoch - 2ms/step\n",
      "Epoch 20/100\n",
      "72/72 - 0s - loss: 0.2991 - 145ms/epoch - 2ms/step\n",
      "Epoch 21/100\n",
      "72/72 - 0s - loss: 0.2956 - 150ms/epoch - 2ms/step\n",
      "Epoch 22/100\n",
      "72/72 - 0s - loss: 0.2930 - 153ms/epoch - 2ms/step\n",
      "Epoch 23/100\n",
      "72/72 - 0s - loss: 0.2901 - 153ms/epoch - 2ms/step\n",
      "Epoch 24/100\n",
      "72/72 - 0s - loss: 0.2878 - 143ms/epoch - 2ms/step\n",
      "Epoch 25/100\n",
      "72/72 - 0s - loss: 0.2858 - 159ms/epoch - 2ms/step\n",
      "Epoch 26/100\n",
      "72/72 - 0s - loss: 0.2845 - 153ms/epoch - 2ms/step\n",
      "Epoch 27/100\n",
      "72/72 - 0s - loss: 0.2832 - 215ms/epoch - 3ms/step\n",
      "Epoch 28/100\n",
      "72/72 - 0s - loss: 0.2817 - 205ms/epoch - 3ms/step\n",
      "Epoch 29/100\n",
      "72/72 - 0s - loss: 0.2807 - 208ms/epoch - 3ms/step\n",
      "Epoch 30/100\n",
      "72/72 - 0s - loss: 0.2793 - 206ms/epoch - 3ms/step\n",
      "Epoch 31/100\n",
      "72/72 - 0s - loss: 0.2786 - 207ms/epoch - 3ms/step\n",
      "Epoch 32/100\n",
      "72/72 - 0s - loss: 0.2778 - 212ms/epoch - 3ms/step\n",
      "Epoch 33/100\n",
      "72/72 - 0s - loss: 0.2778 - 205ms/epoch - 3ms/step\n",
      "Epoch 34/100\n",
      "72/72 - 0s - loss: 0.2766 - 214ms/epoch - 3ms/step\n",
      "Epoch 35/100\n",
      "72/72 - 0s - loss: 0.2760 - 207ms/epoch - 3ms/step\n",
      "Epoch 36/100\n",
      "72/72 - 0s - loss: 0.2750 - 218ms/epoch - 3ms/step\n",
      "Epoch 37/100\n",
      "72/72 - 0s - loss: 0.2745 - 222ms/epoch - 3ms/step\n",
      "Epoch 38/100\n",
      "72/72 - 0s - loss: 0.2745 - 206ms/epoch - 3ms/step\n",
      "Epoch 39/100\n",
      "72/72 - 0s - loss: 0.2740 - 213ms/epoch - 3ms/step\n",
      "Epoch 40/100\n",
      "72/72 - 0s - loss: 0.2731 - 215ms/epoch - 3ms/step\n",
      "Epoch 41/100\n",
      "72/72 - 0s - loss: 0.2734 - 200ms/epoch - 3ms/step\n",
      "Epoch 42/100\n",
      "72/72 - 0s - loss: 0.2723 - 211ms/epoch - 3ms/step\n",
      "Epoch 43/100\n",
      "72/72 - 0s - loss: 0.2730 - 147ms/epoch - 2ms/step\n",
      "Epoch 44/100\n",
      "72/72 - 0s - loss: 0.2723 - 148ms/epoch - 2ms/step\n",
      "Epoch 45/100\n",
      "72/72 - 0s - loss: 0.2717 - 147ms/epoch - 2ms/step\n",
      "Epoch 46/100\n",
      "72/72 - 0s - loss: 0.2718 - 148ms/epoch - 2ms/step\n",
      "Epoch 47/100\n",
      "72/72 - 0s - loss: 0.2705 - 139ms/epoch - 2ms/step\n",
      "Epoch 48/100\n",
      "72/72 - 0s - loss: 0.2706 - 151ms/epoch - 2ms/step\n",
      "Epoch 49/100\n",
      "72/72 - 0s - loss: 0.2705 - 140ms/epoch - 2ms/step\n",
      "Epoch 50/100\n",
      "72/72 - 0s - loss: 0.2706 - 141ms/epoch - 2ms/step\n",
      "Epoch 51/100\n",
      "72/72 - 0s - loss: 0.2708 - 143ms/epoch - 2ms/step\n",
      "Epoch 52/100\n",
      "72/72 - 0s - loss: 0.2702 - 140ms/epoch - 2ms/step\n",
      "Epoch 53/100\n",
      "72/72 - 0s - loss: 0.2707 - 139ms/epoch - 2ms/step\n",
      "Epoch 54/100\n",
      "72/72 - 0s - loss: 0.2693 - 138ms/epoch - 2ms/step\n",
      "Epoch 55/100\n",
      "72/72 - 0s - loss: 0.2695 - 153ms/epoch - 2ms/step\n",
      "Epoch 56/100\n",
      "72/72 - 0s - loss: 0.2694 - 147ms/epoch - 2ms/step\n",
      "Epoch 57/100\n",
      "72/72 - 0s - loss: 0.2694 - 145ms/epoch - 2ms/step\n",
      "Epoch 58/100\n",
      "72/72 - 0s - loss: 0.2685 - 145ms/epoch - 2ms/step\n",
      "Epoch 59/100\n",
      "72/72 - 0s - loss: 0.2685 - 145ms/epoch - 2ms/step\n",
      "Epoch 60/100\n",
      "72/72 - 0s - loss: 0.2683 - 141ms/epoch - 2ms/step\n",
      "Epoch 61/100\n",
      "72/72 - 0s - loss: 0.2675 - 159ms/epoch - 2ms/step\n",
      "Epoch 62/100\n",
      "72/72 - 0s - loss: 0.2675 - 157ms/epoch - 2ms/step\n",
      "Epoch 63/100\n",
      "72/72 - 0s - loss: 0.2673 - 140ms/epoch - 2ms/step\n",
      "Epoch 64/100\n",
      "72/72 - 0s - loss: 0.2677 - 143ms/epoch - 2ms/step\n",
      "Epoch 65/100\n",
      "72/72 - 0s - loss: 0.2671 - 145ms/epoch - 2ms/step\n",
      "Epoch 66/100\n",
      "72/72 - 0s - loss: 0.2667 - 151ms/epoch - 2ms/step\n",
      "Epoch 67/100\n",
      "72/72 - 0s - loss: 0.2680 - 144ms/epoch - 2ms/step\n",
      "Epoch 68/100\n",
      "72/72 - 0s - loss: 0.2671 - 143ms/epoch - 2ms/step\n",
      "Epoch 69/100\n",
      "72/72 - 0s - loss: 0.2675 - 145ms/epoch - 2ms/step\n",
      "Epoch 70/100\n",
      "72/72 - 0s - loss: 0.2668 - 146ms/epoch - 2ms/step\n",
      "Epoch 71/100\n",
      "72/72 - 0s - loss: 0.2669 - 140ms/epoch - 2ms/step\n",
      "Epoch 72/100\n",
      "72/72 - 0s - loss: 0.2669 - 143ms/epoch - 2ms/step\n",
      "Epoch 73/100\n",
      "72/72 - 0s - loss: 0.2657 - 147ms/epoch - 2ms/step\n",
      "Epoch 74/100\n",
      "72/72 - 0s - loss: 0.2654 - 143ms/epoch - 2ms/step\n",
      "Epoch 75/100\n",
      "72/72 - 0s - loss: 0.2652 - 159ms/epoch - 2ms/step\n",
      "Epoch 76/100\n",
      "72/72 - 0s - loss: 0.2655 - 146ms/epoch - 2ms/step\n",
      "Epoch 77/100\n",
      "72/72 - 0s - loss: 0.2655 - 141ms/epoch - 2ms/step\n",
      "Epoch 78/100\n",
      "72/72 - 0s - loss: 0.2658 - 141ms/epoch - 2ms/step\n",
      "Epoch 79/100\n",
      "72/72 - 0s - loss: 0.2652 - 136ms/epoch - 2ms/step\n",
      "Epoch 80/100\n",
      "72/72 - 0s - loss: 0.2646 - 148ms/epoch - 2ms/step\n",
      "Epoch 81/100\n",
      "72/72 - 0s - loss: 0.2651 - 144ms/epoch - 2ms/step\n",
      "Epoch 82/100\n",
      "72/72 - 0s - loss: 0.2646 - 146ms/epoch - 2ms/step\n",
      "Epoch 83/100\n",
      "72/72 - 0s - loss: 0.2655 - 152ms/epoch - 2ms/step\n",
      "Epoch 84/100\n",
      "72/72 - 0s - loss: 0.2636 - 145ms/epoch - 2ms/step\n",
      "Epoch 85/100\n",
      "72/72 - 0s - loss: 0.2630 - 145ms/epoch - 2ms/step\n",
      "Epoch 86/100\n",
      "72/72 - 0s - loss: 0.2626 - 140ms/epoch - 2ms/step\n",
      "Epoch 87/100\n",
      "72/72 - 0s - loss: 0.2634 - 148ms/epoch - 2ms/step\n",
      "Epoch 88/100\n",
      "72/72 - 0s - loss: 0.2632 - 142ms/epoch - 2ms/step\n",
      "Epoch 89/100\n",
      "72/72 - 0s - loss: 0.2634 - 150ms/epoch - 2ms/step\n",
      "Epoch 90/100\n",
      "72/72 - 0s - loss: 0.2632 - 150ms/epoch - 2ms/step\n",
      "Epoch 91/100\n",
      "72/72 - 0s - loss: 0.2629 - 146ms/epoch - 2ms/step\n",
      "Epoch 92/100\n",
      "72/72 - 0s - loss: 0.2628 - 140ms/epoch - 2ms/step\n",
      "Epoch 93/100\n",
      "72/72 - 0s - loss: 0.2630 - 137ms/epoch - 2ms/step\n",
      "Epoch 94/100\n",
      "72/72 - 0s - loss: 0.2626 - 146ms/epoch - 2ms/step\n",
      "Epoch 95/100\n",
      "72/72 - 0s - loss: 0.2625 - 142ms/epoch - 2ms/step\n",
      "Epoch 96/100\n",
      "72/72 - 0s - loss: 0.2634 - 150ms/epoch - 2ms/step\n",
      "Epoch 97/100\n",
      "72/72 - 0s - loss: 0.2623 - 142ms/epoch - 2ms/step\n",
      "Epoch 98/100\n",
      "72/72 - 0s - loss: 0.2624 - 137ms/epoch - 2ms/step\n",
      "Epoch 99/100\n",
      "72/72 - 0s - loss: 0.2621 - 137ms/epoch - 2ms/step\n",
      "Epoch 100/100\n",
      "72/72 - 0s - loss: 0.2619 - 148ms/epoch - 2ms/step\n",
      "57/57 [==============================] - 0s 1ms/step\n",
      "9 Parameters: batch_size: 100 - epochs: 100 Accuracy: log_price    91.150084\n",
      "dtype: float64\n",
      "Epoch 1/10\n",
      "29/29 - 0s - loss: 16.3591 - 378ms/epoch - 13ms/step\n",
      "Epoch 2/10\n",
      "29/29 - 0s - loss: 15.8087 - 60ms/epoch - 2ms/step\n",
      "Epoch 3/10\n",
      "29/29 - 0s - loss: 14.6179 - 62ms/epoch - 2ms/step\n",
      "Epoch 4/10\n",
      "29/29 - 0s - loss: 12.3868 - 62ms/epoch - 2ms/step\n",
      "Epoch 5/10\n",
      "29/29 - 0s - loss: 9.0982 - 70ms/epoch - 2ms/step\n",
      "Epoch 6/10\n",
      "29/29 - 0s - loss: 5.5635 - 61ms/epoch - 2ms/step\n",
      "Epoch 7/10\n",
      "29/29 - 0s - loss: 3.0274 - 68ms/epoch - 2ms/step\n",
      "Epoch 8/10\n",
      "29/29 - 0s - loss: 1.8573 - 63ms/epoch - 2ms/step\n",
      "Epoch 9/10\n",
      "29/29 - 0s - loss: 1.3733 - 64ms/epoch - 2ms/step\n",
      "Epoch 10/10\n",
      "29/29 - 0s - loss: 1.1233 - 58ms/epoch - 2ms/step\n",
      "57/57 [==============================] - 0s 1ms/step\n",
      "10 Parameters: batch_size: 250 - epochs: 10 Accuracy: log_price    80.559339\n",
      "dtype: float64\n",
      "Epoch 1/50\n",
      "29/29 - 0s - loss: 16.3711 - 389ms/epoch - 13ms/step\n",
      "Epoch 2/50\n",
      "29/29 - 0s - loss: 15.8989 - 65ms/epoch - 2ms/step\n",
      "Epoch 3/50\n",
      "29/29 - 0s - loss: 14.9652 - 60ms/epoch - 2ms/step\n",
      "Epoch 4/50\n",
      "29/29 - 0s - loss: 13.2097 - 59ms/epoch - 2ms/step\n",
      "Epoch 5/50\n",
      "29/29 - 0s - loss: 10.4758 - 59ms/epoch - 2ms/step\n",
      "Epoch 6/50\n",
      "29/29 - 0s - loss: 7.1123 - 70ms/epoch - 2ms/step\n",
      "Epoch 7/50\n",
      "29/29 - 0s - loss: 4.0718 - 73ms/epoch - 3ms/step\n",
      "Epoch 8/50\n",
      "29/29 - 0s - loss: 2.2160 - 63ms/epoch - 2ms/step\n",
      "Epoch 9/50\n",
      "29/29 - 0s - loss: 1.4481 - 60ms/epoch - 2ms/step\n",
      "Epoch 10/50\n",
      "29/29 - 0s - loss: 1.1539 - 67ms/epoch - 2ms/step\n",
      "Epoch 11/50\n",
      "29/29 - 0s - loss: 1.0078 - 62ms/epoch - 2ms/step\n",
      "Epoch 12/50\n",
      "29/29 - 0s - loss: 0.9177 - 64ms/epoch - 2ms/step\n",
      "Epoch 13/50\n",
      "29/29 - 0s - loss: 0.8535 - 61ms/epoch - 2ms/step\n",
      "Epoch 14/50\n",
      "29/29 - 0s - loss: 0.8013 - 61ms/epoch - 2ms/step\n",
      "Epoch 15/50\n",
      "29/29 - 0s - loss: 0.7552 - 61ms/epoch - 2ms/step\n",
      "Epoch 16/50\n",
      "29/29 - 0s - loss: 0.7131 - 60ms/epoch - 2ms/step\n",
      "Epoch 17/50\n",
      "29/29 - 0s - loss: 0.6750 - 60ms/epoch - 2ms/step\n",
      "Epoch 18/50\n",
      "29/29 - 0s - loss: 0.6400 - 59ms/epoch - 2ms/step\n",
      "Epoch 19/50\n",
      "29/29 - 0s - loss: 0.6079 - 61ms/epoch - 2ms/step\n",
      "Epoch 20/50\n",
      "29/29 - 0s - loss: 0.5789 - 74ms/epoch - 3ms/step\n",
      "Epoch 21/50\n",
      "29/29 - 0s - loss: 0.5517 - 59ms/epoch - 2ms/step\n",
      "Epoch 22/50\n",
      "29/29 - 0s - loss: 0.5260 - 66ms/epoch - 2ms/step\n",
      "Epoch 23/50\n",
      "29/29 - 0s - loss: 0.5037 - 63ms/epoch - 2ms/step\n",
      "Epoch 24/50\n",
      "29/29 - 0s - loss: 0.4824 - 64ms/epoch - 2ms/step\n",
      "Epoch 25/50\n",
      "29/29 - 0s - loss: 0.4630 - 60ms/epoch - 2ms/step\n",
      "Epoch 26/50\n",
      "29/29 - 0s - loss: 0.4463 - 59ms/epoch - 2ms/step\n",
      "Epoch 27/50\n",
      "29/29 - 0s - loss: 0.4309 - 60ms/epoch - 2ms/step\n",
      "Epoch 28/50\n",
      "29/29 - 0s - loss: 0.4173 - 65ms/epoch - 2ms/step\n",
      "Epoch 29/50\n",
      "29/29 - 0s - loss: 0.4048 - 61ms/epoch - 2ms/step\n",
      "Epoch 30/50\n",
      "29/29 - 0s - loss: 0.3937 - 59ms/epoch - 2ms/step\n",
      "Epoch 31/50\n",
      "29/29 - 0s - loss: 0.3836 - 61ms/epoch - 2ms/step\n",
      "Epoch 32/50\n",
      "29/29 - 0s - loss: 0.3753 - 61ms/epoch - 2ms/step\n",
      "Epoch 33/50\n",
      "29/29 - 0s - loss: 0.3668 - 63ms/epoch - 2ms/step\n",
      "Epoch 34/50\n",
      "29/29 - 0s - loss: 0.3597 - 59ms/epoch - 2ms/step\n",
      "Epoch 35/50\n",
      "29/29 - 0s - loss: 0.3528 - 60ms/epoch - 2ms/step\n",
      "Epoch 36/50\n",
      "29/29 - 0s - loss: 0.3458 - 62ms/epoch - 2ms/step\n",
      "Epoch 37/50\n",
      "29/29 - 0s - loss: 0.3407 - 59ms/epoch - 2ms/step\n",
      "Epoch 38/50\n",
      "29/29 - 0s - loss: 0.3359 - 71ms/epoch - 2ms/step\n",
      "Epoch 39/50\n",
      "29/29 - 0s - loss: 0.3319 - 65ms/epoch - 2ms/step\n",
      "Epoch 40/50\n",
      "29/29 - 0s - loss: 0.3275 - 62ms/epoch - 2ms/step\n",
      "Epoch 41/50\n",
      "29/29 - 0s - loss: 0.3234 - 60ms/epoch - 2ms/step\n",
      "Epoch 42/50\n",
      "29/29 - 0s - loss: 0.3202 - 61ms/epoch - 2ms/step\n",
      "Epoch 43/50\n",
      "29/29 - 0s - loss: 0.3168 - 59ms/epoch - 2ms/step\n",
      "Epoch 44/50\n",
      "29/29 - 0s - loss: 0.3139 - 66ms/epoch - 2ms/step\n",
      "Epoch 45/50\n",
      "29/29 - 0s - loss: 0.3111 - 61ms/epoch - 2ms/step\n",
      "Epoch 46/50\n",
      "29/29 - 0s - loss: 0.3080 - 60ms/epoch - 2ms/step\n",
      "Epoch 47/50\n",
      "29/29 - 0s - loss: 0.3055 - 63ms/epoch - 2ms/step\n",
      "Epoch 48/50\n",
      "29/29 - 0s - loss: 0.3032 - 61ms/epoch - 2ms/step\n",
      "Epoch 49/50\n",
      "29/29 - 0s - loss: 0.3010 - 61ms/epoch - 2ms/step\n",
      "Epoch 50/50\n",
      "29/29 - 0s - loss: 0.2991 - 59ms/epoch - 2ms/step\n",
      "57/57 [==============================] - 0s 1ms/step\n",
      "11 Parameters: batch_size: 250 - epochs: 50 Accuracy: log_price    90.530925\n",
      "dtype: float64\n",
      "Epoch 1/100\n",
      "29/29 - 0s - loss: 16.3880 - 386ms/epoch - 13ms/step\n",
      "Epoch 2/100\n",
      "29/29 - 0s - loss: 15.9394 - 63ms/epoch - 2ms/step\n",
      "Epoch 3/100\n",
      "29/29 - 0s - loss: 15.0462 - 59ms/epoch - 2ms/step\n",
      "Epoch 4/100\n",
      "29/29 - 0s - loss: 13.3678 - 59ms/epoch - 2ms/step\n",
      "Epoch 5/100\n",
      "29/29 - 0s - loss: 10.7771 - 65ms/epoch - 2ms/step\n",
      "Epoch 6/100\n",
      "29/29 - 0s - loss: 7.6827 - 68ms/epoch - 2ms/step\n",
      "Epoch 7/100\n",
      "29/29 - 0s - loss: 4.8954 - 60ms/epoch - 2ms/step\n",
      "Epoch 8/100\n",
      "29/29 - 0s - loss: 2.9603 - 63ms/epoch - 2ms/step\n",
      "Epoch 9/100\n",
      "29/29 - 0s - loss: 1.8215 - 67ms/epoch - 2ms/step\n",
      "Epoch 10/100\n",
      "29/29 - 0s - loss: 1.2270 - 63ms/epoch - 2ms/step\n",
      "Epoch 11/100\n",
      "29/29 - 0s - loss: 0.9566 - 64ms/epoch - 2ms/step\n",
      "Epoch 12/100\n",
      "29/29 - 0s - loss: 0.8280 - 62ms/epoch - 2ms/step\n",
      "Epoch 13/100\n",
      "29/29 - 0s - loss: 0.7555 - 62ms/epoch - 2ms/step\n",
      "Epoch 14/100\n",
      "29/29 - 0s - loss: 0.7019 - 63ms/epoch - 2ms/step\n",
      "Epoch 15/100\n",
      "29/29 - 0s - loss: 0.6581 - 64ms/epoch - 2ms/step\n",
      "Epoch 16/100\n",
      "29/29 - 0s - loss: 0.6225 - 63ms/epoch - 2ms/step\n",
      "Epoch 17/100\n",
      "29/29 - 0s - loss: 0.5898 - 68ms/epoch - 2ms/step\n",
      "Epoch 18/100\n",
      "29/29 - 0s - loss: 0.5605 - 60ms/epoch - 2ms/step\n",
      "Epoch 19/100\n",
      "29/29 - 0s - loss: 0.5344 - 63ms/epoch - 2ms/step\n",
      "Epoch 20/100\n",
      "29/29 - 0s - loss: 0.5106 - 62ms/epoch - 2ms/step\n",
      "Epoch 21/100\n",
      "29/29 - 0s - loss: 0.4896 - 60ms/epoch - 2ms/step\n",
      "Epoch 22/100\n",
      "29/29 - 0s - loss: 0.4713 - 67ms/epoch - 2ms/step\n",
      "Epoch 23/100\n",
      "29/29 - 0s - loss: 0.4535 - 59ms/epoch - 2ms/step\n",
      "Epoch 24/100\n",
      "29/29 - 0s - loss: 0.4378 - 71ms/epoch - 2ms/step\n",
      "Epoch 25/100\n",
      "29/29 - 0s - loss: 0.4227 - 62ms/epoch - 2ms/step\n",
      "Epoch 26/100\n",
      "29/29 - 0s - loss: 0.4094 - 61ms/epoch - 2ms/step\n",
      "Epoch 27/100\n",
      "29/29 - 0s - loss: 0.3973 - 58ms/epoch - 2ms/step\n",
      "Epoch 28/100\n",
      "29/29 - 0s - loss: 0.3863 - 59ms/epoch - 2ms/step\n",
      "Epoch 29/100\n",
      "29/29 - 0s - loss: 0.3761 - 64ms/epoch - 2ms/step\n",
      "Epoch 30/100\n",
      "29/29 - 0s - loss: 0.3665 - 61ms/epoch - 2ms/step\n",
      "Epoch 31/100\n",
      "29/29 - 0s - loss: 0.3587 - 61ms/epoch - 2ms/step\n",
      "Epoch 32/100\n",
      "29/29 - 0s - loss: 0.3521 - 61ms/epoch - 2ms/step\n",
      "Epoch 33/100\n",
      "29/29 - 0s - loss: 0.3462 - 59ms/epoch - 2ms/step\n",
      "Epoch 34/100\n",
      "29/29 - 0s - loss: 0.3399 - 59ms/epoch - 2ms/step\n",
      "Epoch 35/100\n",
      "29/29 - 0s - loss: 0.3348 - 61ms/epoch - 2ms/step\n",
      "Epoch 36/100\n",
      "29/29 - 0s - loss: 0.3303 - 60ms/epoch - 2ms/step\n",
      "Epoch 37/100\n",
      "29/29 - 0s - loss: 0.3264 - 62ms/epoch - 2ms/step\n",
      "Epoch 38/100\n",
      "29/29 - 0s - loss: 0.3222 - 62ms/epoch - 2ms/step\n",
      "Epoch 39/100\n",
      "29/29 - 0s - loss: 0.3193 - 62ms/epoch - 2ms/step\n",
      "Epoch 40/100\n",
      "29/29 - 0s - loss: 0.3165 - 69ms/epoch - 2ms/step\n",
      "Epoch 41/100\n",
      "29/29 - 0s - loss: 0.3122 - 63ms/epoch - 2ms/step\n",
      "Epoch 42/100\n",
      "29/29 - 0s - loss: 0.3098 - 61ms/epoch - 2ms/step\n",
      "Epoch 43/100\n",
      "29/29 - 0s - loss: 0.3071 - 61ms/epoch - 2ms/step\n",
      "Epoch 44/100\n",
      "29/29 - 0s - loss: 0.3045 - 61ms/epoch - 2ms/step\n",
      "Epoch 45/100\n",
      "29/29 - 0s - loss: 0.3021 - 60ms/epoch - 2ms/step\n",
      "Epoch 46/100\n",
      "29/29 - 0s - loss: 0.3003 - 64ms/epoch - 2ms/step\n",
      "Epoch 47/100\n",
      "29/29 - 0s - loss: 0.2986 - 59ms/epoch - 2ms/step\n",
      "Epoch 48/100\n",
      "29/29 - 0s - loss: 0.2968 - 61ms/epoch - 2ms/step\n",
      "Epoch 49/100\n",
      "29/29 - 0s - loss: 0.2951 - 60ms/epoch - 2ms/step\n",
      "Epoch 50/100\n",
      "29/29 - 0s - loss: 0.2935 - 58ms/epoch - 2ms/step\n",
      "Epoch 51/100\n",
      "29/29 - 0s - loss: 0.2922 - 62ms/epoch - 2ms/step\n",
      "Epoch 52/100\n",
      "29/29 - 0s - loss: 0.2910 - 63ms/epoch - 2ms/step\n",
      "Epoch 53/100\n",
      "29/29 - 0s - loss: 0.2900 - 63ms/epoch - 2ms/step\n",
      "Epoch 54/100\n",
      "29/29 - 0s - loss: 0.2885 - 65ms/epoch - 2ms/step\n",
      "Epoch 55/100\n",
      "29/29 - 0s - loss: 0.2873 - 71ms/epoch - 2ms/step\n",
      "Epoch 56/100\n",
      "29/29 - 0s - loss: 0.2863 - 62ms/epoch - 2ms/step\n",
      "Epoch 57/100\n",
      "29/29 - 0s - loss: 0.2853 - 61ms/epoch - 2ms/step\n",
      "Epoch 58/100\n",
      "29/29 - 0s - loss: 0.2844 - 62ms/epoch - 2ms/step\n",
      "Epoch 59/100\n",
      "29/29 - 0s - loss: 0.2833 - 64ms/epoch - 2ms/step\n",
      "Epoch 60/100\n",
      "29/29 - 0s - loss: 0.2821 - 64ms/epoch - 2ms/step\n",
      "Epoch 61/100\n",
      "29/29 - 0s - loss: 0.2813 - 64ms/epoch - 2ms/step\n",
      "Epoch 62/100\n",
      "29/29 - 0s - loss: 0.2805 - 60ms/epoch - 2ms/step\n",
      "Epoch 63/100\n",
      "29/29 - 0s - loss: 0.2798 - 62ms/epoch - 2ms/step\n",
      "Epoch 64/100\n",
      "29/29 - 0s - loss: 0.2788 - 74ms/epoch - 3ms/step\n",
      "Epoch 65/100\n",
      "29/29 - 0s - loss: 0.2779 - 64ms/epoch - 2ms/step\n",
      "Epoch 66/100\n",
      "29/29 - 0s - loss: 0.2774 - 59ms/epoch - 2ms/step\n",
      "Epoch 67/100\n",
      "29/29 - 0s - loss: 0.2764 - 59ms/epoch - 2ms/step\n",
      "Epoch 68/100\n",
      "29/29 - 0s - loss: 0.2761 - 61ms/epoch - 2ms/step\n",
      "Epoch 69/100\n",
      "29/29 - 0s - loss: 0.2753 - 72ms/epoch - 2ms/step\n",
      "Epoch 70/100\n",
      "29/29 - 0s - loss: 0.2748 - 70ms/epoch - 2ms/step\n",
      "Epoch 71/100\n",
      "29/29 - 0s - loss: 0.2743 - 62ms/epoch - 2ms/step\n",
      "Epoch 72/100\n",
      "29/29 - 0s - loss: 0.2739 - 59ms/epoch - 2ms/step\n",
      "Epoch 73/100\n",
      "29/29 - 0s - loss: 0.2733 - 61ms/epoch - 2ms/step\n",
      "Epoch 74/100\n",
      "29/29 - 0s - loss: 0.2730 - 60ms/epoch - 2ms/step\n",
      "Epoch 75/100\n",
      "29/29 - 0s - loss: 0.2729 - 59ms/epoch - 2ms/step\n",
      "Epoch 76/100\n",
      "29/29 - 0s - loss: 0.2722 - 61ms/epoch - 2ms/step\n",
      "Epoch 77/100\n",
      "29/29 - 0s - loss: 0.2718 - 64ms/epoch - 2ms/step\n",
      "Epoch 78/100\n",
      "29/29 - 0s - loss: 0.2717 - 60ms/epoch - 2ms/step\n",
      "Epoch 79/100\n",
      "29/29 - 0s - loss: 0.2713 - 60ms/epoch - 2ms/step\n",
      "Epoch 80/100\n",
      "29/29 - 0s - loss: 0.2706 - 61ms/epoch - 2ms/step\n",
      "Epoch 81/100\n",
      "29/29 - 0s - loss: 0.2705 - 62ms/epoch - 2ms/step\n",
      "Epoch 82/100\n",
      "29/29 - 0s - loss: 0.2700 - 66ms/epoch - 2ms/step\n",
      "Epoch 83/100\n",
      "29/29 - 0s - loss: 0.2697 - 59ms/epoch - 2ms/step\n",
      "Epoch 84/100\n",
      "29/29 - 0s - loss: 0.2693 - 59ms/epoch - 2ms/step\n",
      "Epoch 85/100\n",
      "29/29 - 0s - loss: 0.2691 - 60ms/epoch - 2ms/step\n",
      "Epoch 86/100\n",
      "29/29 - 0s - loss: 0.2685 - 74ms/epoch - 3ms/step\n",
      "Epoch 87/100\n",
      "29/29 - 0s - loss: 0.2683 - 59ms/epoch - 2ms/step\n",
      "Epoch 88/100\n",
      "29/29 - 0s - loss: 0.2681 - 59ms/epoch - 2ms/step\n",
      "Epoch 89/100\n",
      "29/29 - 0s - loss: 0.2682 - 59ms/epoch - 2ms/step\n",
      "Epoch 90/100\n",
      "29/29 - 0s - loss: 0.2675 - 61ms/epoch - 2ms/step\n",
      "Epoch 91/100\n",
      "29/29 - 0s - loss: 0.2673 - 61ms/epoch - 2ms/step\n",
      "Epoch 92/100\n",
      "29/29 - 0s - loss: 0.2672 - 61ms/epoch - 2ms/step\n",
      "Epoch 93/100\n",
      "29/29 - 0s - loss: 0.2667 - 60ms/epoch - 2ms/step\n",
      "Epoch 94/100\n",
      "29/29 - 0s - loss: 0.2672 - 64ms/epoch - 2ms/step\n",
      "Epoch 95/100\n",
      "29/29 - 0s - loss: 0.2666 - 58ms/epoch - 2ms/step\n",
      "Epoch 96/100\n",
      "29/29 - 0s - loss: 0.2672 - 66ms/epoch - 2ms/step\n",
      "Epoch 97/100\n",
      "29/29 - 0s - loss: 0.2663 - 66ms/epoch - 2ms/step\n",
      "Epoch 98/100\n",
      "29/29 - 0s - loss: 0.2661 - 66ms/epoch - 2ms/step\n",
      "Epoch 99/100\n",
      "29/29 - 0s - loss: 0.2656 - 61ms/epoch - 2ms/step\n",
      "Epoch 100/100\n",
      "29/29 - 0s - loss: 0.2654 - 59ms/epoch - 2ms/step\n",
      "57/57 [==============================] - 0s 1ms/step\n",
      "12 Parameters: batch_size: 250 - epochs: 100 Accuracy: log_price    91.364907\n",
      "dtype: float64\n"
     ]
    }
   ]
  },
  {
   "cell_type": "code",
   "source": [
    "# Batch size 30 and number of epochs 50 gives the most accurate prediction\n",
    "results"
   ],
   "metadata": {
    "colab": {
     "base_uri": "https://localhost:8080/",
     "height": 426
    },
    "id": "hCyoLAKippuC",
    "executionInfo": {
     "status": "ok",
     "timestamp": 1667427335290,
     "user_tz": -120,
     "elapsed": 27,
     "user": {
      "displayName": "Τζενη Τσομπαναι",
      "userId": "16239050285647842336"
     }
    },
    "outputId": "757a7ea3-719b-45b1-abd5-682cda546011"
   },
   "execution_count": 36,
   "outputs": [
    {
     "output_type": "execute_result",
     "data": {
      "text/plain": [
       "  TrialNumber Parameters                               Accuracy\n",
       "0           1      30-10  log_price    90.382972\n",
       "dtype: float64\n",
       "0           2      30-50  log_price    91.345766\n",
       "dtype: float64\n",
       "0           3     30-100  log_price    91.449003\n",
       "dtype: float64\n",
       "0           4      50-10  log_price    90.565094\n",
       "dtype: float64\n",
       "0           5      50-50  log_price    91.456275\n",
       "dtype: float64\n",
       "0           6     50-100  log_price    91.466252\n",
       "dtype: float64\n",
       "0           7     100-10  log_price    88.323459\n",
       "dtype: float64\n",
       "0           8     100-50  log_price    90.835255\n",
       "dtype: float64\n",
       "0           9    100-100  log_price    91.150084\n",
       "dtype: float64\n",
       "0          10     250-10  log_price    80.559339\n",
       "dtype: float64\n",
       "0          11     250-50  log_price    90.530925\n",
       "dtype: float64\n",
       "0          12    250-100  log_price    91.364907\n",
       "dtype: float64"
      ],
      "text/html": [
       "\n",
       "  <div id=\"df-ac1ae490-3a9f-43a2-bdc9-a8d934ab7c40\">\n",
       "    <div class=\"colab-df-container\">\n",
       "      <div>\n",
       "<style scoped>\n",
       "    .dataframe tbody tr th:only-of-type {\n",
       "        vertical-align: middle;\n",
       "    }\n",
       "\n",
       "    .dataframe tbody tr th {\n",
       "        vertical-align: top;\n",
       "    }\n",
       "\n",
       "    .dataframe thead th {\n",
       "        text-align: right;\n",
       "    }\n",
       "</style>\n",
       "<table border=\"1\" class=\"dataframe\">\n",
       "  <thead>\n",
       "    <tr style=\"text-align: right;\">\n",
       "      <th></th>\n",
       "      <th>TrialNumber</th>\n",
       "      <th>Parameters</th>\n",
       "      <th>Accuracy</th>\n",
       "    </tr>\n",
       "  </thead>\n",
       "  <tbody>\n",
       "    <tr>\n",
       "      <th>0</th>\n",
       "      <td>1</td>\n",
       "      <td>30-10</td>\n",
       "      <td>log_price    90.382972\n",
       "dtype: float64</td>\n",
       "    </tr>\n",
       "    <tr>\n",
       "      <th>0</th>\n",
       "      <td>2</td>\n",
       "      <td>30-50</td>\n",
       "      <td>log_price    91.345766\n",
       "dtype: float64</td>\n",
       "    </tr>\n",
       "    <tr>\n",
       "      <th>0</th>\n",
       "      <td>3</td>\n",
       "      <td>30-100</td>\n",
       "      <td>log_price    91.449003\n",
       "dtype: float64</td>\n",
       "    </tr>\n",
       "    <tr>\n",
       "      <th>0</th>\n",
       "      <td>4</td>\n",
       "      <td>50-10</td>\n",
       "      <td>log_price    90.565094\n",
       "dtype: float64</td>\n",
       "    </tr>\n",
       "    <tr>\n",
       "      <th>0</th>\n",
       "      <td>5</td>\n",
       "      <td>50-50</td>\n",
       "      <td>log_price    91.456275\n",
       "dtype: float64</td>\n",
       "    </tr>\n",
       "    <tr>\n",
       "      <th>0</th>\n",
       "      <td>6</td>\n",
       "      <td>50-100</td>\n",
       "      <td>log_price    91.466252\n",
       "dtype: float64</td>\n",
       "    </tr>\n",
       "    <tr>\n",
       "      <th>0</th>\n",
       "      <td>7</td>\n",
       "      <td>100-10</td>\n",
       "      <td>log_price    88.323459\n",
       "dtype: float64</td>\n",
       "    </tr>\n",
       "    <tr>\n",
       "      <th>0</th>\n",
       "      <td>8</td>\n",
       "      <td>100-50</td>\n",
       "      <td>log_price    90.835255\n",
       "dtype: float64</td>\n",
       "    </tr>\n",
       "    <tr>\n",
       "      <th>0</th>\n",
       "      <td>9</td>\n",
       "      <td>100-100</td>\n",
       "      <td>log_price    91.150084\n",
       "dtype: float64</td>\n",
       "    </tr>\n",
       "    <tr>\n",
       "      <th>0</th>\n",
       "      <td>10</td>\n",
       "      <td>250-10</td>\n",
       "      <td>log_price    80.559339\n",
       "dtype: float64</td>\n",
       "    </tr>\n",
       "    <tr>\n",
       "      <th>0</th>\n",
       "      <td>11</td>\n",
       "      <td>250-50</td>\n",
       "      <td>log_price    90.530925\n",
       "dtype: float64</td>\n",
       "    </tr>\n",
       "    <tr>\n",
       "      <th>0</th>\n",
       "      <td>12</td>\n",
       "      <td>250-100</td>\n",
       "      <td>log_price    91.364907\n",
       "dtype: float64</td>\n",
       "    </tr>\n",
       "  </tbody>\n",
       "</table>\n",
       "</div>\n",
       "      <button class=\"colab-df-convert\" onclick=\"convertToInteractive('df-ac1ae490-3a9f-43a2-bdc9-a8d934ab7c40')\"\n",
       "              title=\"Convert this dataframe to an interactive table.\"\n",
       "              style=\"display:none;\">\n",
       "        \n",
       "  <svg xmlns=\"http://www.w3.org/2000/svg\" height=\"24px\"viewBox=\"0 0 24 24\"\n",
       "       width=\"24px\">\n",
       "    <path d=\"M0 0h24v24H0V0z\" fill=\"none\"/>\n",
       "    <path d=\"M18.56 5.44l.94 2.06.94-2.06 2.06-.94-2.06-.94-.94-2.06-.94 2.06-2.06.94zm-11 1L8.5 8.5l.94-2.06 2.06-.94-2.06-.94L8.5 2.5l-.94 2.06-2.06.94zm10 10l.94 2.06.94-2.06 2.06-.94-2.06-.94-.94-2.06-.94 2.06-2.06.94z\"/><path d=\"M17.41 7.96l-1.37-1.37c-.4-.4-.92-.59-1.43-.59-.52 0-1.04.2-1.43.59L10.3 9.45l-7.72 7.72c-.78.78-.78 2.05 0 2.83L4 21.41c.39.39.9.59 1.41.59.51 0 1.02-.2 1.41-.59l7.78-7.78 2.81-2.81c.8-.78.8-2.07 0-2.86zM5.41 20L4 18.59l7.72-7.72 1.47 1.35L5.41 20z\"/>\n",
       "  </svg>\n",
       "      </button>\n",
       "      \n",
       "  <style>\n",
       "    .colab-df-container {\n",
       "      display:flex;\n",
       "      flex-wrap:wrap;\n",
       "      gap: 12px;\n",
       "    }\n",
       "\n",
       "    .colab-df-convert {\n",
       "      background-color: #E8F0FE;\n",
       "      border: none;\n",
       "      border-radius: 50%;\n",
       "      cursor: pointer;\n",
       "      display: none;\n",
       "      fill: #1967D2;\n",
       "      height: 32px;\n",
       "      padding: 0 0 0 0;\n",
       "      width: 32px;\n",
       "    }\n",
       "\n",
       "    .colab-df-convert:hover {\n",
       "      background-color: #E2EBFA;\n",
       "      box-shadow: 0px 1px 2px rgba(60, 64, 67, 0.3), 0px 1px 3px 1px rgba(60, 64, 67, 0.15);\n",
       "      fill: #174EA6;\n",
       "    }\n",
       "\n",
       "    [theme=dark] .colab-df-convert {\n",
       "      background-color: #3B4455;\n",
       "      fill: #D2E3FC;\n",
       "    }\n",
       "\n",
       "    [theme=dark] .colab-df-convert:hover {\n",
       "      background-color: #434B5C;\n",
       "      box-shadow: 0px 1px 3px 1px rgba(0, 0, 0, 0.15);\n",
       "      filter: drop-shadow(0px 1px 2px rgba(0, 0, 0, 0.3));\n",
       "      fill: #FFFFFF;\n",
       "    }\n",
       "  </style>\n",
       "\n",
       "      <script>\n",
       "        const buttonEl =\n",
       "          document.querySelector('#df-ac1ae490-3a9f-43a2-bdc9-a8d934ab7c40 button.colab-df-convert');\n",
       "        buttonEl.style.display =\n",
       "          google.colab.kernel.accessAllowed ? 'block' : 'none';\n",
       "\n",
       "        async function convertToInteractive(key) {\n",
       "          const element = document.querySelector('#df-ac1ae490-3a9f-43a2-bdc9-a8d934ab7c40');\n",
       "          const dataTable =\n",
       "            await google.colab.kernel.invokeFunction('convertToInteractive',\n",
       "                                                     [key], {});\n",
       "          if (!dataTable) return;\n",
       "\n",
       "          const docLinkHtml = 'Like what you see? Visit the ' +\n",
       "            '<a target=\"_blank\" href=https://colab.research.google.com/notebooks/data_table.ipynb>data table notebook</a>'\n",
       "            + ' to learn more about interactive tables.';\n",
       "          element.innerHTML = '';\n",
       "          dataTable['output_type'] = 'display_data';\n",
       "          await google.colab.output.renderOutput(dataTable, element);\n",
       "          const docLink = document.createElement('div');\n",
       "          docLink.innerHTML = docLinkHtml;\n",
       "          element.appendChild(docLink);\n",
       "        }\n",
       "      </script>\n",
       "    </div>\n",
       "  </div>\n",
       "  "
      ]
     },
     "metadata": {},
     "execution_count": 36
    }
   ]
  },
  {
   "cell_type": "code",
   "source": [
    "# create ANN model\n",
    "model = Sequential()\n",
    "# Defining the first layer of the model\n",
    "model.add(\n",
    "    Dense(\n",
    "        units=5,\n",
    "        input_dim=x_train.shape[1],\n",
    "        kernel_initializer=\"normal\",\n",
    "        activation=\"relu\",\n",
    "    )\n",
    ")\n",
    "# Defining the Second layer of the model\n",
    "model.add(Dense(units=5, kernel_initializer=\"normal\", activation=\"relu\"))\n",
    "\n",
    "# The output neuron is a single fully connected node\n",
    "# Since we will be predicting a single number\n",
    "model.add(Dense(1, kernel_initializer=\"normal\", activation=\"linear\"))\n",
    "# Compiling the model\n",
    "model.compile(loss=\"mean_squared_error\", optimizer=\"adam\")\n",
    "\n",
    "# Fitting the ANN to the Training set\n",
    "model.fit(x_train, y_train, batch_size=30, epochs=50, verbose=2)\n",
    "\n",
    "# Generating Predictions on testing data\n",
    "Pred4 = model.predict(x_test)"
   ],
   "metadata": {
    "colab": {
     "base_uri": "https://localhost:8080/"
    },
    "id": "xONCAI2Kdl0F",
    "executionInfo": {
     "status": "ok",
     "timestamp": 1667427376939,
     "user_tz": -120,
     "elapsed": 41669,
     "user": {
      "displayName": "Τζενη Τσομπαναι",
      "userId": "16239050285647842336"
     }
    },
    "outputId": "d33591df-02d3-4774-96da-9d5047da052d"
   },
   "execution_count": 37,
   "outputs": [
    {
     "output_type": "stream",
     "name": "stdout",
     "text": [
      "Epoch 1/50\n",
      "240/240 - 1s - loss: 10.4802 - 798ms/epoch - 3ms/step\n",
      "Epoch 2/50\n",
      "240/240 - 0s - loss: 0.8582 - 459ms/epoch - 2ms/step\n",
      "Epoch 3/50\n",
      "240/240 - 0s - loss: 0.5001 - 454ms/epoch - 2ms/step\n",
      "Epoch 4/50\n",
      "240/240 - 0s - loss: 0.4131 - 453ms/epoch - 2ms/step\n",
      "Epoch 5/50\n",
      "240/240 - 0s - loss: 0.3698 - 488ms/epoch - 2ms/step\n",
      "Epoch 6/50\n",
      "240/240 - 1s - loss: 0.3441 - 501ms/epoch - 2ms/step\n",
      "Epoch 7/50\n",
      "240/240 - 0s - loss: 0.3281 - 482ms/epoch - 2ms/step\n",
      "Epoch 8/50\n",
      "240/240 - 0s - loss: 0.3178 - 467ms/epoch - 2ms/step\n",
      "Epoch 9/50\n",
      "240/240 - 0s - loss: 0.3123 - 459ms/epoch - 2ms/step\n",
      "Epoch 10/50\n",
      "240/240 - 0s - loss: 0.3105 - 463ms/epoch - 2ms/step\n",
      "Epoch 11/50\n",
      "240/240 - 0s - loss: 0.3067 - 451ms/epoch - 2ms/step\n",
      "Epoch 12/50\n",
      "240/240 - 0s - loss: 0.3039 - 476ms/epoch - 2ms/step\n",
      "Epoch 13/50\n",
      "240/240 - 0s - loss: 0.3022 - 456ms/epoch - 2ms/step\n",
      "Epoch 14/50\n",
      "240/240 - 0s - loss: 0.3003 - 450ms/epoch - 2ms/step\n",
      "Epoch 15/50\n",
      "240/240 - 0s - loss: 0.2978 - 445ms/epoch - 2ms/step\n",
      "Epoch 16/50\n",
      "240/240 - 0s - loss: 0.2970 - 481ms/epoch - 2ms/step\n",
      "Epoch 17/50\n",
      "240/240 - 0s - loss: 0.2950 - 480ms/epoch - 2ms/step\n",
      "Epoch 18/50\n",
      "240/240 - 0s - loss: 0.2935 - 454ms/epoch - 2ms/step\n",
      "Epoch 19/50\n",
      "240/240 - 0s - loss: 0.2923 - 474ms/epoch - 2ms/step\n",
      "Epoch 20/50\n",
      "240/240 - 0s - loss: 0.2907 - 471ms/epoch - 2ms/step\n",
      "Epoch 21/50\n",
      "240/240 - 0s - loss: 0.2909 - 463ms/epoch - 2ms/step\n",
      "Epoch 22/50\n",
      "240/240 - 0s - loss: 0.2887 - 461ms/epoch - 2ms/step\n",
      "Epoch 23/50\n",
      "240/240 - 0s - loss: 0.2879 - 471ms/epoch - 2ms/step\n",
      "Epoch 24/50\n",
      "240/240 - 0s - loss: 0.2861 - 461ms/epoch - 2ms/step\n",
      "Epoch 25/50\n",
      "240/240 - 0s - loss: 0.2862 - 477ms/epoch - 2ms/step\n",
      "Epoch 26/50\n",
      "240/240 - 1s - loss: 0.2849 - 697ms/epoch - 3ms/step\n",
      "Epoch 27/50\n",
      "240/240 - 1s - loss: 0.2830 - 668ms/epoch - 3ms/step\n",
      "Epoch 28/50\n",
      "240/240 - 1s - loss: 0.2829 - 669ms/epoch - 3ms/step\n",
      "Epoch 29/50\n",
      "240/240 - 1s - loss: 0.2832 - 651ms/epoch - 3ms/step\n",
      "Epoch 30/50\n",
      "240/240 - 1s - loss: 0.2822 - 639ms/epoch - 3ms/step\n",
      "Epoch 31/50\n",
      "240/240 - 0s - loss: 0.2806 - 463ms/epoch - 2ms/step\n",
      "Epoch 32/50\n",
      "240/240 - 0s - loss: 0.2803 - 464ms/epoch - 2ms/step\n",
      "Epoch 33/50\n",
      "240/240 - 0s - loss: 0.2800 - 458ms/epoch - 2ms/step\n",
      "Epoch 34/50\n",
      "240/240 - 0s - loss: 0.2793 - 463ms/epoch - 2ms/step\n",
      "Epoch 35/50\n",
      "240/240 - 0s - loss: 0.2793 - 463ms/epoch - 2ms/step\n",
      "Epoch 36/50\n",
      "240/240 - 0s - loss: 0.2782 - 468ms/epoch - 2ms/step\n",
      "Epoch 37/50\n",
      "240/240 - 0s - loss: 0.2776 - 453ms/epoch - 2ms/step\n",
      "Epoch 38/50\n",
      "240/240 - 0s - loss: 0.2768 - 460ms/epoch - 2ms/step\n",
      "Epoch 39/50\n",
      "240/240 - 0s - loss: 0.2758 - 462ms/epoch - 2ms/step\n",
      "Epoch 40/50\n",
      "240/240 - 0s - loss: 0.2752 - 461ms/epoch - 2ms/step\n",
      "Epoch 41/50\n",
      "240/240 - 0s - loss: 0.2749 - 464ms/epoch - 2ms/step\n",
      "Epoch 42/50\n",
      "240/240 - 0s - loss: 0.2750 - 460ms/epoch - 2ms/step\n",
      "Epoch 43/50\n",
      "240/240 - 0s - loss: 0.2730 - 460ms/epoch - 2ms/step\n",
      "Epoch 44/50\n",
      "240/240 - 0s - loss: 0.2727 - 465ms/epoch - 2ms/step\n",
      "Epoch 45/50\n",
      "240/240 - 0s - loss: 0.2722 - 472ms/epoch - 2ms/step\n",
      "Epoch 46/50\n",
      "240/240 - 0s - loss: 0.2716 - 465ms/epoch - 2ms/step\n",
      "Epoch 47/50\n",
      "240/240 - 0s - loss: 0.2717 - 454ms/epoch - 2ms/step\n",
      "Epoch 48/50\n",
      "240/240 - 0s - loss: 0.2701 - 452ms/epoch - 2ms/step\n",
      "Epoch 49/50\n",
      "240/240 - 0s - loss: 0.2701 - 480ms/epoch - 2ms/step\n",
      "Epoch 50/50\n",
      "240/240 - 0s - loss: 0.2699 - 466ms/epoch - 2ms/step\n",
      "57/57 [==============================] - 0s 2ms/step\n"
     ]
    }
   ]
  },
  {
   "cell_type": "code",
   "source": [
    "list_pred4 = [x[0] for x in Pred4.tolist()]"
   ],
   "metadata": {
    "id": "Rn-QNTMSz-4t",
    "executionInfo": {
     "status": "ok",
     "timestamp": 1667427376940,
     "user_tz": -120,
     "elapsed": 34,
     "user": {
      "displayName": "Τζενη Τσομπαναι",
      "userId": "16239050285647842336"
     }
    }
   },
   "execution_count": 38,
   "outputs": []
  },
  {
   "cell_type": "markdown",
   "source": [
    "### MAE :"
   ],
   "metadata": {
    "id": "N_-z7BHF2VWm"
   }
  },
  {
   "cell_type": "code",
   "source": [
    "mae(list_y1, list_pred4)"
   ],
   "metadata": {
    "colab": {
     "base_uri": "https://localhost:8080/"
    },
    "id": "Yq0q97oH0JaI",
    "executionInfo": {
     "status": "ok",
     "timestamp": 1667427376941,
     "user_tz": -120,
     "elapsed": 30,
     "user": {
      "displayName": "Τζενη Τσομπαναι",
      "userId": "16239050285647842336"
     }
    },
    "outputId": "ba483109-fd20-4908-8bf4-175a344bf74f"
   },
   "execution_count": 39,
   "outputs": [
    {
     "output_type": "execute_result",
     "data": {
      "text/plain": [
       "28.952035503944785"
      ]
     },
     "metadata": {},
     "execution_count": 39
    }
   ]
  },
  {
   "cell_type": "markdown",
   "source": [
    "###MAPE"
   ],
   "metadata": {
    "id": "TGInSMty2Ynf"
   }
  },
  {
   "cell_type": "code",
   "source": [
    "mape(list_y1, list_pred4)"
   ],
   "metadata": {
    "colab": {
     "base_uri": "https://localhost:8080/"
    },
    "id": "8e7-9ohm2GdP",
    "executionInfo": {
     "status": "ok",
     "timestamp": 1667427376941,
     "user_tz": -120,
     "elapsed": 20,
     "user": {
      "displayName": "Τζενη Τσομπαναι",
      "userId": "16239050285647842336"
     }
    },
    "outputId": "b36d7a0e-5890-4a20-c7d1-2795ef2db211"
   },
   "execution_count": 40,
   "outputs": [
    {
     "output_type": "execute_result",
     "data": {
      "text/plain": [
       "40.8205249988539"
      ]
     },
     "metadata": {},
     "execution_count": 40
    }
   ]
  }
 ]
}